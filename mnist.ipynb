{
 "cells": [
  {
   "cell_type": "code",
   "execution_count": 26,
   "metadata": {
    "collapsed": false
   },
   "outputs": [],
   "source": [
    "import numpy as np\n",
    "import numpy.random as rnd\n",
    "import theano\n",
    "import theano.tensor as T\n",
    "import lasagne\n",
    "import time\n",
    "import gzip\n",
    "import matplotlib.pyplot as plt\n",
    "%matplotlib inline"
   ]
  },
  {
   "cell_type": "code",
   "execution_count": 2,
   "metadata": {
    "collapsed": true
   },
   "outputs": [],
   "source": [
    "def load_mnist_images(filename):\n",
    "    # Read the inputs in Yann LeCun's binary format.\n",
    "    with gzip.open(filename, 'rb') as f:\n",
    "        data = np.frombuffer(f.read(), dtype=np.uint8, offset=16)\n",
    "    # The inputs are vectors now, we reshape them to monochrome 2D images,\n",
    "    # following the shape convention: (examples, channels, rows, columns)\n",
    "    data = data.reshape(-1, 28, 28)\n",
    "    # The inputs come as bytes, we convert them to float32 in range [0,1].\n",
    "    # (Actually to range [0, 255/256], for compatibility to the version\n",
    "    # provided at http://deeplearning.net/data/mnist/mnist.pkl.gz.)\n",
    "    return data\n",
    "\n",
    "def load_mnist_labels(filename):\n",
    "    # Read the labels in Yann LeCun's binary format.\n",
    "    with gzip.open(filename, 'rb') as f:\n",
    "        data = np.frombuffer(f.read(), np.uint8, offset=8)\n",
    "    # The labels are vectors of integers now, that's exactly what we want.\n",
    "    return data\n",
    "\n",
    "# We can now download and read the training and test set images and labels.\n",
    "X_train = load_mnist_images('train-images-idx3-ubyte.gz')\n",
    "y_train = load_mnist_labels('train-labels-idx1-ubyte.gz')\n",
    "X_test = load_mnist_images('t10k-images-idx3-ubyte.gz')\n",
    "y_test = load_mnist_labels('t10k-labels-idx1-ubyte.gz')"
   ]
  },
  {
   "cell_type": "code",
   "execution_count": 3,
   "metadata": {
    "collapsed": false
   },
   "outputs": [
    {
     "data": {
      "text/plain": [
       "((60000, 28, 28), (10000, 28, 28))"
      ]
     },
     "execution_count": 3,
     "metadata": {},
     "output_type": "execute_result"
    }
   ],
   "source": [
    "X_train.shape, X_test.shape"
   ]
  },
  {
   "cell_type": "code",
   "execution_count": 4,
   "metadata": {
    "collapsed": false
   },
   "outputs": [
    {
     "data": {
      "image/png": "[encoded data removed]",
      "text/plain": [
       "<matplotlib.figure.Figure at 0x7f011b2bb208>"
      ]
     },
     "metadata": {},
     "output_type": "display_data"
    }
   ],
   "source": [
    "plt.figure(figsize=(12,3))\n",
    "for i in range(10):\n",
    "    plt.subplot(1, 10, i+1)\n",
    "    plt.imshow(X_train[i].reshape((28, 28)), cmap='gray', interpolation='nearest')\n",
    "    plt.axis('off')"
   ]
  },
  {
   "cell_type": "code",
   "execution_count": 5,
   "metadata": {
    "collapsed": false
   },
   "outputs": [],
   "source": [
    "X_train = X_train.reshape((60000, 784))\n",
    "X_test = X_test.reshape((10000, 784))"
   ]
  },
  {
   "cell_type": "code",
   "execution_count": 12,
   "metadata": {
    "collapsed": false
   },
   "outputs": [],
   "source": [
    "a = np.zeros((y_train.size, 10))\n",
    "a[np.arange(y_train.size), y_train] = 1\n",
    "y_train = a"
   ]
  },
  {
   "cell_type": "code",
   "execution_count": 13,
   "metadata": {
    "collapsed": true
   },
   "outputs": [],
   "source": [
    "a = np.zeros((y_test.size, 10))\n",
    "a[np.arange(y_test.size), y_test] = 1\n",
    "y_test = a"
   ]
  },
  {
   "cell_type": "code",
   "execution_count": 14,
   "metadata": {
    "collapsed": true
   },
   "outputs": [],
   "source": [
    "NUM_EPOCHS = 100\n",
    "BATCH_SIZE = 16\n",
    "GRAD_CLIP = 10\n",
    "N_HIDDEN = 100\n",
    "SEQ_LEN = 784\n",
    "TRAIN_SIZE = 60000\n",
    "TEST_SIZE = 10000"
   ]
  },
  {
   "cell_type": "code",
   "execution_count": 125,
   "metadata": {
    "collapsed": true
   },
   "outputs": [],
   "source": [
    "# numerically stable log-softmax with crossentropy\n",
    "def logsoftmax(x):\n",
    "    xdev = x-x.max(1,keepdims=True)\n",
    "    lsm = xdev - T.log(T.sum(T.exp(xdev),axis=1,keepdims=True))\n",
    "    return lsm\n",
    "\n",
    "# cross-entropy\n",
    "# ys are indices of chars, x is a matrix (? BATCH_SIZE * SEQ_LEN, VOCAB_SIZE)\n",
    "def lsmCE(x,y):\n",
    "    print(T.shape(x), T.shape(y))\n",
    "    return -T.clip(x,-20,0)[T.arange(y.shape[0]), y]"
   ]
  },
  {
   "cell_type": "code",
   "execution_count": 15,
   "metadata": {
    "collapsed": true
   },
   "outputs": [],
   "source": [
    "# Технические вещи\n",
    "\n",
    "# Вспомогательная функция для запаковки результата обучения \n",
    "def pack(train_err, train_acc, test_err,test_acc, network, inp, target,train_fn, test_fn):\n",
    "    return {'train_err':train_err, \n",
    "        'train_acc':train_acc, \n",
    "        'test_err':test_err, \n",
    "        'test_acc':test_acc, \n",
    "        'network':network,\n",
    "        'inp':inp,\n",
    "        'target':target,\n",
    "        'train_fn':train_fn, \n",
    "        'test_fn':test_fn\n",
    "           } "
   ]
  },
  {
   "cell_type": "code",
   "execution_count": 16,
   "metadata": {
    "collapsed": true
   },
   "outputs": [],
   "source": [
    "def init_posdef_w():\n",
    "    R = np.random.normal(size=(N_HIDDEN, N_HIDDEN))\n",
    "    A = 1 / N_HIDDEN * np.dot(R.T, R)\n",
    "    eig, _ = np.linalg.eig(A + np.eye(N_HIDDEN))\n",
    "    e = max(eig)\n",
    "    W = (A + np.eye(N_HIDDEN)) / e\n",
    "    return W"
   ]
  },
  {
   "cell_type": "code",
   "execution_count": 22,
   "metadata": {
    "collapsed": true
   },
   "outputs": [],
   "source": [
    "def build_network(inp, num_epochs=NUM_EPOCHS):\n",
    "    # First, we build the network, starting with an input layer\n",
    "    # Recurrent layers expect input of shape\n",
    "    # (batch size, max sequence length, number of features)\n",
    "    l_in = lasagne.layers.InputLayer(shape=(BATCH_SIZE, SEQ_LEN, 1), input_var=inp)\n",
    "\n",
    "    alpha = np.sqrt(2) * np.exp(1.2 / (max(N_HIDDEN, 6)))\n",
    "    # We're using a bidirectional network, which means we will combine two\n",
    "    # RecurrentLayers, one with the backwards=True keyword argument.\n",
    "    # Setting a value for grad_clipping will clip the gradients in the layer\n",
    "    l_rnn = lasagne.layers.RecurrentLayer(\n",
    "        l_in, N_HIDDEN, grad_clipping=GRAD_CLIP,\n",
    "        W_in_to_hid=lasagne.init.Normal(std=alpha / N_HIDDEN, mean=0.0),\n",
    "        W_hid_to_hid=init_posdef_w(),\n",
    "        learn_init=True,\n",
    "        only_return_final = True,\n",
    "        nonlinearity=lasagne.nonlinearities.rectify)\n",
    "    \n",
    "    l_shp = lasagne.layers.ReshapeLayer(l_rnn, (-1, N_HIDDEN))\n",
    "\n",
    "    l_out = lasagne.layers.DenseLayer(l_shp, num_units=10,\n",
    "                                      W=lasagne.init.GlorotNormal(),\n",
    "                                      nonlinearity=lasagne.nonlinearities.softmax)\n",
    "    return l_out"
   ]
  },
  {
   "cell_type": "code",
   "execution_count": 24,
   "metadata": {
    "collapsed": false
   },
   "outputs": [],
   "source": [
    "def train(Xtrain, ytrain, Xtest, ytest, num_epochs=NUM_EPOCHS):\n",
    "    print(\"Building network ...\")\n",
    "    inp = T.tensor3('input')\n",
    "    target_values = T.imatrix('target_output')\n",
    "    network = build_network(inp)\n",
    "    print(\"The network has {} params\".format(lasagne.layers.count_params(network)))\n",
    "    \n",
    "    train_size = len(ytrain)\n",
    "    test_size = len(ytest)\n",
    "    num_train_batches = train_size // BATCH_SIZE\n",
    "    num_test_batches = test_size // BATCH_SIZE\n",
    "    train_err=np.zeros(NUM_EPOCHS)\n",
    "    train_acc=np.zeros(NUM_EPOCHS)\n",
    "    test_err=np.zeros(NUM_EPOCHS)\n",
    "    test_acc=np.zeros(NUM_EPOCHS)\n",
    "    \n",
    "    # lasagne.layers.get_output produces a variable for the output of the net\n",
    "    network_output = lasagne.layers.get_output(network)\n",
    "    # The value we care about is the final value produced for each sequence\n",
    "    # first dim of predicted_values is BATCH_SIZE\n",
    "    # Our cost will be mean-squared error\n",
    "    cost = T.mean(lasagne.objectives.categorical_crossentropy(network_output, target_values))\n",
    "    # Retrieve all parameters from the network\n",
    "    all_params = lasagne.layers.get_all_params(network)\n",
    "    # Compute SGD updates for training\n",
    "    print(\"Computing updates ...\")\n",
    "    all_grads = T.grad(cost, all_params)\n",
    "    scaled_grads = lasagne.updates.total_norm_constraint(all_grads, GRAD_CLIP)\n",
    "    lr_var = theano.shared(1e-4)\n",
    "    updates = lasagne.updates.sgd(scaled_grads, all_params, learning_rate=lr_var)\n",
    "    # Theano functions for training and computing cost\n",
    "    print(\"Compiling functions ...\")\n",
    "    test_prediction = lasagne.layers.get_output(network, deterministic=True)\n",
    "    acc_score = (test_prediction * target_values).sum()/1./target_values.shape[0]*100\n",
    "    \n",
    "    train_fn = theano.function([inp, target_values], [cost, acc_score], updates=updates, allow_input_downcast=True)\n",
    "    test_fn = theano.function([inp, target_values], [cost, acc_score], allow_input_downcast=True)\n",
    "\n",
    "    for epoch in range(NUM_EPOCHS):\n",
    "        start_time = time.time()\n",
    "        if epoch == 33:\n",
    "            lr_var.set_value(1e-5)\n",
    "        if epoch == 66:\n",
    "            lr_var.set_value(1e-6)\n",
    "        for batch in range(num_train_batches):\n",
    "            idx = np.random.randint(TRAIN_SIZE, size=BATCH_SIZE)\n",
    "            err, acc = train_fn(Xtrain[idx, :, np.newaxis], ytrain[idx])\n",
    "            train_err[epoch] += err\n",
    "            train_acc[epoch] += acc\n",
    "        train_err[epoch] /= num_train_batches\n",
    "        train_acc[epoch] /= num_train_batches\n",
    "        \n",
    "        terr, tacc = test_fn(Xtest[:, :, np.newaxis], ytest)\n",
    "        test_err[epoch] = terr\n",
    "        test_acc[epoch] = tacc\n",
    "        \n",
    "        print(\"Epoch {} \\t loss / accuracy test = {:.4f}, {:.4f} \\t train = {:.4f}, {:.4f} \\t time = {:.2f}s\".\n",
    "              format(epoch, test_err[epoch], test_acc[epoch], \n",
    "                     train_err[epoch], train_acc[epoch],time.time() - start_time))\n",
    "    return pack(train_err, train_acc, test_err, test_acc,\n",
    "                network, inp, target_values, train_fn, test_fn)"
   ]
  },
  {
   "cell_type": "code",
   "execution_count": null,
   "metadata": {
    "collapsed": false
   },
   "outputs": [
    {
     "name": "stdout",
     "output_type": "stream",
     "text": [
      "Building network ...\n",
      "The network has 11310 params\n",
      "Computing updates ...\n",
      "Compiling functions ...\n",
      "Epoch 0 \t loss / accuracy test = 2.3018, 10.0085 \t train = 2.3020, 10.0063 \t time = 1807.15s\n",
      "Epoch 1 \t loss / accuracy test = 2.3013, 10.0142 \t train = 2.3015, 10.0119 \t time = 1796.16s\n",
      "Epoch 2 \t loss / accuracy test = 2.3008, 10.0212 \t train = 2.3009, 10.0191 \t time = 1856.95s\n",
      "Epoch 3 \t loss / accuracy test = 2.3000, 10.0312 \t train = 2.3003, 10.0278 \t time = 1838.85s\n",
      "Epoch 5 \t loss / accuracy test = 2.2968, 10.0903 \t train = 2.2974, 10.0745 \t time = 1812.64s\n",
      "Epoch 6 \t loss / accuracy test = 2.2894, 10.2941 \t train = 2.2918, 10.1981 \t time = 1837.05s\n",
      "Epoch 7 \t loss / accuracy test = 2.1977, 13.2461 \t train = 2.2496, 11.6234 \t time = 1782.43s\n",
      "Epoch 9 \t loss / accuracy test = 2.0887, 15.9822 \t train = 2.0881, 15.7338 \t time = 1767.66s\n",
      "Epoch 10 \t loss / accuracy test = 2.0532, 16.0277 \t train = 2.0635, 16.0233 \t time = 1749.00s\n",
      "Epoch 11 \t loss / accuracy test = 2.0359, 15.6118 \t train = 2.0374, 16.4383 \t time = 1856.85s\n",
      "Epoch 12 \t loss / accuracy test = 2.0103, 16.2931 \t train = 2.0133, 16.9030 \t time = 1777.52s\n",
      "Epoch 35 \t loss / accuracy test = 1.5850, 26.9649 \t train = 1.5662, 26.8651 \t time = 1784.94s\n",
      "Epoch 36 \t loss / accuracy test = 1.5810, 26.6750 \t train = 1.5698, 26.9421 \t time = 1798.74s\n",
      "Epoch 37 \t loss / accuracy test = 1.5798, 26.7487 \t train = 1.5644, 26.9433 \t time = 1806.25s\n",
      "Epoch 38 \t loss / accuracy test = 1.5817, 26.7549 \t train = 1.5622, 27.0962 \t time = 1828.26s\n",
      "Epoch 39 \t loss / accuracy test = 1.5856, 26.7675 \t train = 1.5678, 26.8723 \t time = 1845.25s\n",
      "Epoch 40 \t loss / accuracy test = 1.5911, 26.6335 \t train = 1.5635, 27.0517 \t time = 1815.32s\n",
      "Epoch 41 \t loss / accuracy test = 1.5832, 27.1471 \t train = 1.5581, 27.1198 \t time = 1873.29s\n",
      "Epoch 42 \t loss / accuracy test = 1.5747, 26.9505 \t train = 1.5678, 26.9214 \t time = 1798.91s\n",
      "Epoch 43 \t loss / accuracy test = 1.5864, 26.8322 \t train = 1.5572, 27.2286 \t time = 1808.97s\n",
      "Epoch 44 \t loss / accuracy test = 1.5734, 27.0936 \t train = 1.5590, 27.1552 \t time = 1849.54s\n",
      "Epoch 45 \t loss / accuracy test = 1.5793, 27.0249 \t train = 1.5542, 27.3095 \t time = 1852.40s\n",
      "Epoch 46 \t loss / accuracy test = 1.5712, 26.9174 \t train = 1.5650, 27.0546 \t time = 1863.54s\n",
      "Epoch 47 \t loss / accuracy test = 1.5955, 27.2318 \t train = 1.5606, 27.1271 \t time = 1791.55s\n",
      "Epoch 48 \t loss / accuracy test = 1.5784, 27.0666 \t train = 1.5565, 27.2140 \t time = 1808.64s\n",
      "Epoch 49 \t loss / accuracy test = 1.5696, 27.3863 \t train = 1.5497, 27.3195 \t time = 1865.12s\n",
      "Epoch 50 \t loss / accuracy test = 1.5698, 27.1513 \t train = 1.5543, 27.2287 \t time = 1810.74s\n",
      "Epoch 51 \t loss / accuracy test = 1.5656, 27.4930 \t train = 1.5450, 27.4694 \t time = 1788.65s\n",
      "Epoch 52 \t loss / accuracy test = 1.5673, 27.3407 \t train = 1.5470, 27.5042 \t time = 1825.29s\n",
      "Epoch 53 \t loss / accuracy test = 1.5624, 27.1988 \t train = 1.5468, 27.4745 \t time = 1815.55s\n",
      "Epoch 54 \t loss / accuracy test = 1.5632, 27.5218 \t train = 1.5480, 27.5275 \t time = 1774.79s\n",
      "Epoch 55 \t loss / accuracy test = 1.5620, 27.2530 \t train = 1.5424, 27.4391 \t time = 1844.54s\n",
      "Epoch 56 \t loss / accuracy test = 1.5623, 27.5275 \t train = 1.5448, 27.5371 \t time = 1861.58s\n",
      "Epoch 57 \t loss / accuracy test = 1.5707, 27.2142 \t train = 1.5475, 27.5375 \t time = 1788.60s\n",
      "Epoch 58 \t loss / accuracy test = 1.5642, 27.2468 \t train = 1.5483, 27.3814 \t time = 1773.88s\n",
      "Epoch 78 \t loss / accuracy test = 1.5536, 27.6330 \t train = 1.5318, 27.7377 \t time = 1736.29s\n",
      "Epoch 79 \t loss / accuracy test = 1.5514, 27.6598 \t train = 1.5293, 27.9535 \t time = 1792.58s\n",
      "Epoch 80 \t loss / accuracy test = 1.5520, 27.7529 \t train = 1.5342, 27.8168 \t time = 1732.97s\n",
      "Epoch 81 \t loss / accuracy test = 1.5504, 27.6955 \t train = 1.5404, 27.7036 \t time = 1762.58s\n",
      "Epoch 82 \t loss / accuracy test = 1.5524, 27.7091 \t train = 1.5298, 27.8222 \t time = 1773.75s\n",
      "Epoch 83 \t loss / accuracy test = 1.5531, 27.7595 \t train = 1.5205, 28.0045 \t time = 1794.32s\n",
      "Epoch 84 \t loss / accuracy test = 1.5497, 27.6032 \t train = 1.5414, 27.7553 \t time = 1797.90s\n",
      "Epoch 85 \t loss / accuracy test = 1.5500, 27.6506 \t train = 1.5358, 27.7551 \t time = 1854.91s\n",
      "Epoch 86 \t loss / accuracy test = 1.5507, 27.7403 \t train = 1.5317, 27.8255 \t time = 1855.25s\n",
      "Epoch 87 \t loss / accuracy test = 1.5514, 27.6944 \t train = 1.5351, 27.7478 \t time = 1862.42s\n",
      "Epoch 88 \t loss / accuracy test = 1.5501, 27.6592 \t train = 1.5372, 27.7901 \t time = 1854.61s\n",
      "Epoch 89 \t loss / accuracy test = 1.5507, 27.7455 \t train = 1.5244, 27.8784 \t time = 1760.37s\n",
      "Epoch 90 \t loss / accuracy test = 1.5540, 27.6339 \t train = 1.5318, 27.9012 \t time = 1859.87s\n",
      "Epoch 91 \t loss / accuracy test = 1.5507, 27.6809 \t train = 1.5337, 27.7843 \t time = 1796.41s\n",
      "Epoch 92 \t loss / accuracy test = 1.5499, 27.6622 \t train = 1.5389, 27.6702 \t time = 1864.57s\n",
      "Epoch 93 \t loss / accuracy test = 1.5506, 27.7858 \t train = 1.5270, 27.8602 \t time = 1851.41s\n",
      "Epoch 94 \t loss / accuracy test = 1.5502, 27.7518 \t train = 1.5273, 27.8329 \t time = 1865.01s\n",
      "Epoch 95 \t loss / accuracy test = 1.5505, 27.7182 \t train = 1.5339, 27.8282 \t time = 1786.88s\n",
      "Epoch 96 \t loss / accuracy test = 1.5511, 27.7274 \t train = 1.5299, 27.8445 \t time = 1796.42s\n",
      "Epoch 97 \t loss / accuracy test = 1.5508, 27.8045 \t train = 1.5345, 27.8893 \t time = 1805.91s\n",
      "Epoch 98 \t loss / accuracy test = 1.5497, 27.7096 \t train = 1.5286, 27.8640 \t time = 1838.99s\n",
      "Epoch 99 \t loss / accuracy test = 1.5514, 27.6648 \t train = 1.5304, 27.8287 \t time = 1819.59s\n"
     ]
    },
    {
     "ename": "NameError",
     "evalue": "name 'target' is not defined",
     "output_type": "error",
     "traceback": [
      "\u001b[1;31m\u001b[0m",
      "\u001b[1;31mNameError\u001b[0mTraceback (most recent call last)",
      "\u001b[1;32m<ipython-input-25-f1b9bcafd5cb>\u001b[0m in \u001b[0;36m<module>\u001b[1;34m()\u001b[0m\n\u001b[1;32m----> 1\u001b[1;33m \u001b[0mmodel1\u001b[0m \u001b[1;33m=\u001b[0m \u001b[0mtrain\u001b[0m\u001b[1;33m(\u001b[0m\u001b[0mX_train\u001b[0m\u001b[1;33m,\u001b[0m \u001b[0my_train\u001b[0m\u001b[1;33m,\u001b[0m \u001b[0mX_test\u001b[0m\u001b[1;33m,\u001b[0m \u001b[0my_test\u001b[0m\u001b[1;33m)\u001b[0m\u001b[1;33m\u001b[0m\u001b[0m\n\u001b[0m",
      "\u001b[1;32m<ipython-input-24-b97c2e2ae466>\u001b[0m in \u001b[0;36mtrain\u001b[1;34m(Xtrain, ytrain, Xtest, ytest, num_epochs)\u001b[0m\n\u001b[0;32m     59\u001b[0m                      train_err[epoch], train_acc[epoch],time.time() - start_time))\n\u001b[0;32m     60\u001b[0m     return pack(train_err, train_acc, test_err, test_acc,\n\u001b[1;32m---> 61\u001b[1;33m                 network, inp, target,train_fn, test_fn)\n\u001b[0m",
      "\u001b[1;31mNameError\u001b[0m: name 'target' is not defined"
     ]
    }
   ],
   "source": [
    "model1 = train(X_train, y_train, X_test, y_test)"
   ]
  }
 ],
 "metadata": {
  "kernelspec": {
   "display_name": "Python 3",
   "language": "python",
   "name": "python3"
  },
  "language_info": {
   "codemirror_mode": {
    "name": "ipython",
    "version": 3
   },
   "file_extension": ".py",
   "mimetype": "text/x-python",
   "name": "python",
   "nbconvert_exporter": "python",
   "pygments_lexer": "ipython3",
   "version": "3.5.2"
  }
 },
 "nbformat": 4,
 "nbformat_minor": 0
}
