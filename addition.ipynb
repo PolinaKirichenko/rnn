{
 "cells": [
  {
   "cell_type": "code",
   "execution_count": 1,
   "metadata": {
    "collapsed": false
   },
   "outputs": [],
   "source": [
    "import numpy as np\n",
    "import numpy.random as rnd\n",
    "import theano\n",
    "import theano.tensor as T\n",
    "import lasagne\n",
    "import time\n",
    "import matplotlib.pyplot as plt\n",
    "%matplotlib inline"
   ]
  },
  {
   "cell_type": "markdown",
   "metadata": {},
   "source": [
    "CROSS VALIDATION FOR HYPERPARAMETERS"
   ]
  },
  {
   "cell_type": "code",
   "execution_count": 2,
   "metadata": {
    "collapsed": true
   },
   "outputs": [],
   "source": [
    "N_HIDDEN = 100\n",
    "TRAIN_SIZE = int(1e5)\n",
    "TEST_SIZE = int(1e4)\n",
    "SEQ_LENS = [10, 50, 70, 100, 150, 200, 300, 400]\n",
    "\n",
    "LEARNING_RATE = 0.001\n",
    "GRAD_CLIP = 10\n",
    "BATCH_SIZE = 20\n",
    "NUM_EPOCHS = 10"
   ]
  },
  {
   "cell_type": "code",
   "execution_count": 3,
   "metadata": {
    "collapsed": false
   },
   "outputs": [],
   "source": [
    "def gen_add_data(length, n_batch=BATCH_SIZE):\n",
    "    X = np.concatenate([np.random.uniform(size=(n_batch, length, 1)),\n",
    "                        np.zeros((n_batch, length, 1))],\n",
    "                        axis=-1)\n",
    "    y = np.zeros((n_batch,))\n",
    "    \n",
    "    X[np.arange(n_batch), np.random.randint(length/10, size=n_batch), 1] = 1\n",
    "    X[np.arange(n_batch), np.random.randint(length/2, length, size=n_batch), 1] = 1\n",
    "    # Multiply and sum the dimensions of X to get the target value\n",
    "    y = np.sum(X[:, :, 0] * X[:, :, 1], axis=1)\n",
    "    \n",
    "    return (X.astype(theano.config.floatX), y.astype(theano.config.floatX))"
   ]
  },
  {
   "cell_type": "code",
   "execution_count": null,
   "metadata": {
    "collapsed": true
   },
   "outputs": [],
   "source": []
  },
  {
   "cell_type": "code",
   "execution_count": 6,
   "metadata": {
    "collapsed": false
   },
   "outputs": [
    {
     "data": {
      "text/plain": [
       "array([ 1.47094693,  1.39937991])"
      ]
     },
     "execution_count": 6,
     "metadata": {},
     "output_type": "execute_result"
    }
   ],
   "source": [
    "x, y = gen_add_data(10, 2)\n",
    "y"
   ]
  },
  {
   "cell_type": "code",
   "execution_count": null,
   "metadata": {
    "collapsed": true
   },
   "outputs": [],
   "source": []
  },
  {
   "cell_type": "code",
   "execution_count": 4,
   "metadata": {
    "collapsed": false
   },
   "outputs": [],
   "source": [
    "train_data = {T : gen_add_data(T, TRAIN_SIZE) for T in SEQ_LENS}"
   ]
  },
  {
   "cell_type": "code",
   "execution_count": 5,
   "metadata": {
    "collapsed": false
   },
   "outputs": [],
   "source": [
    "for l in train_data:\n",
    "    x = train_data[l][0]\n",
    "    y = train_data[l][1]\n",
    "    train_data[l] = {\"x\" : x, \"y\" : y}"
   ]
  },
  {
   "cell_type": "code",
   "execution_count": 6,
   "metadata": {
    "collapsed": false
   },
   "outputs": [],
   "source": [
    "test_data = {T : gen_add_data(T, TEST_SIZE) for T in SEQ_LENS}"
   ]
  },
  {
   "cell_type": "code",
   "execution_count": 7,
   "metadata": {
    "collapsed": true
   },
   "outputs": [],
   "source": [
    "for l in test_data:\n",
    "    x = test_data[l][0]\n",
    "    y = test_data[l][1]\n",
    "    test_data[l] = {\"x\" : x, \"y\" : y}"
   ]
  },
  {
   "cell_type": "code",
   "execution_count": 10,
   "metadata": {
    "collapsed": true
   },
   "outputs": [],
   "source": [
    "# Use: train_data[seq_len][\"x\"/\"y\"][obj_idx]"
   ]
  },
  {
   "cell_type": "markdown",
   "metadata": {},
   "source": [
    "В статье \"Improving performance of RNN with ReLU\" обучали на 10 эпох с BATCH_SIZE = 1.\n",
    "\n",
    "В статье \"Simple way to initialize RNN\" до $8 * 10^6$ шагов с BATCH_SIZE = 16, причём лосс значительно менялся до $3 * 10^6$ шагов, что есть примерно 480 эпох."
   ]
  },
  {
   "cell_type": "code",
   "execution_count": 8,
   "metadata": {
    "collapsed": true
   },
   "outputs": [],
   "source": [
    "# Вспомогательная функция для запаковки результата обучения \n",
    "def pack(network, inp, target, train_err, test_err, train_fn, test_fn):\n",
    "    return {'network':network,\n",
    "            'inp':inp,\n",
    "            'target':target,\n",
    "            \n",
    "            'train_err':train_err,\n",
    "            'test_err':test_err,\n",
    "            'train_fn':train_fn, \n",
    "            'test_fn':test_fn\n",
    "            } "
   ]
  },
  {
   "cell_type": "code",
   "execution_count": 9,
   "metadata": {
    "collapsed": true
   },
   "outputs": [],
   "source": [
    "def init_posdef_w(n):\n",
    "    # A = 1/N R^T * R, wehere R is standard normal\n",
    "    # A is positive definite\n",
    "    # W = (A + I) / max(spec(A + I))\n",
    "    # spec(W) = {1, l_i < 1}\n",
    "    \n",
    "    R = np.random.normal(size=(n, n))\n",
    "    A = 1 / N_HIDDEN * np.dot(R.T, R)\n",
    "    eig, _ = np.linalg.eig(A + np.eye(n))\n",
    "    e = max(eig)\n",
    "    W = (A + np.eye(n)) / e\n",
    "    return W"
   ]
  },
  {
   "cell_type": "code",
   "execution_count": 10,
   "metadata": {
    "collapsed": false
   },
   "outputs": [],
   "source": [
    "def build_network_np(inp, seq_len, num_epochs=NUM_EPOCHS):\n",
    "    # Network from paper \"Improving performance of RNN with ReLU\"\n",
    "    # W_hh is initialized as pos. def. with max eigenvalue 1\n",
    "    \n",
    "    l_in = lasagne.layers.InputLayer(shape=(None, seq_len, 2), input_var=inp)\n",
    "\n",
    "    alpha = np.sqrt(2) * np.exp(1.2 / (max(N_HIDDEN, 6)))\n",
    "    l_rnn = lasagne.layers.RecurrentLayer(\n",
    "        l_in, N_HIDDEN,\n",
    "        W_in_to_hid=lasagne.init.Normal(std=alpha / N_HIDDEN, mean=0.0),\n",
    "        W_hid_to_hid=init_posdef_w(N_HIDDEN),\n",
    "        learn_init=True,\n",
    "        only_return_final=True,\n",
    "        nonlinearity=lasagne.nonlinearities.rectify)\n",
    "\n",
    "    l_out = lasagne.layers.DenseLayer(l_rnn, num_units=1,\n",
    "                                      W=lasagne.init.GlorotNormal(),\n",
    "                                      nonlinearity=lasagne.nonlinearities.linear)\n",
    "    return l_out"
   ]
  },
  {
   "cell_type": "code",
   "execution_count": 11,
   "metadata": {
    "collapsed": true
   },
   "outputs": [],
   "source": [
    "def build_network_identity(inp, seq_len, num_epochs=NUM_EPOCHS):\n",
    "    # Network from paper \"Simple way to initialize RNN\",\n",
    "    # W_hh is initialized as identity matrix\n",
    "    l_in = lasagne.layers.InputLayer(shape=(None, seq_len, 2), input_var=inp)\n",
    "\n",
    "    l_rnn = lasagne.layers.RecurrentLayer(\n",
    "        l_in, N_HIDDEN,\n",
    "        W_in_to_hid=lasagne.init.Normal(1e-3, mean=0.0),\n",
    "        W_hid_to_hid=np.eye(N_HIDDEN),\n",
    "        learn_init=True,\n",
    "        only_return_final=True,\n",
    "        nonlinearity=lasagne.nonlinearities.rectify)\n",
    "    \n",
    "    l_out = lasagne.layers.DenseLayer(l_rnn, num_units=1,\n",
    "                                      W=lasagne.init.GlorotNormal(),\n",
    "                                      nonlinearity=lasagne.nonlinearities.linear)\n",
    "    return l_out"
   ]
  },
  {
   "cell_type": "code",
   "execution_count": 12,
   "metadata": {
    "collapsed": true
   },
   "outputs": [],
   "source": [
    "def build_network_gaus(inp, seq_len, num_epochs=NUM_EPOCHS):\n",
    "    # W_hh is initialized from standard normal\n",
    "    l_in = lasagne.layers.InputLayer(shape=(None, seq_len, 2), input_var=inp)\n",
    "\n",
    "    l_rnn = lasagne.layers.RecurrentLayer(\n",
    "        l_in, N_HIDDEN,\n",
    "        W_in_to_hid=lasagne.init.GlorotNormal(),\n",
    "        W_hid_to_hid=lasagne.init.Normal(),\n",
    "        learn_init=True,\n",
    "        only_return_final=True,\n",
    "        nonlinearity=lasagne.nonlinearities.rectify)\n",
    "    \n",
    "    l_out = lasagne.layers.DenseLayer(l_rnn, num_units=1,\n",
    "                                      W=lasagne.init.GlorotNormal(),\n",
    "                                      nonlinearity=lasagne.nonlinearities.linear)\n",
    "    return l_out"
   ]
  },
  {
   "cell_type": "code",
   "execution_count": 13,
   "metadata": {
    "collapsed": true
   },
   "outputs": [],
   "source": [
    "# Create a network with particular initialization for parameters\n",
    "def create_network(build_fn, seq_len):\n",
    "    print(\"Building network ...\")\n",
    "    inp = T.tensor3('input', dtype='float64')\n",
    "    # Matrix of size BATCH_SIZE * 1 to match network's output\n",
    "    target_values = T.matrix('target_output', dtype='float64')\n",
    "    network = build_fn(inp, seq_len)\n",
    "    print(\"The network has {} params\".format(lasagne.layers.count_params(network)))\n",
    "    return (network, inp, target_values)"
   ]
  },
  {
   "cell_type": "code",
   "execution_count": 14,
   "metadata": {
    "collapsed": true
   },
   "outputs": [],
   "source": [
    "def train(network, inp, target_values, Xtrain, ytrain, Xtest, ytest, filename, num_epochs=NUM_EPOCHS):\n",
    "    train_err = np.zeros(num_epochs)\n",
    "    test_err = np.zeros(num_epochs)\n",
    "    \n",
    "    network_output = lasagne.layers.get_output(network)\n",
    "\n",
    "    # Cost is MSE\n",
    "    cost = T.mean((network_output - target_values)**2)\n",
    "    all_params = lasagne.layers.get_all_params(network)\n",
    "    print(\"Computing updates ...\")\n",
    "    all_grads = T.grad(cost, all_params)\n",
    "    scaled_grads = lasagne.updates.total_norm_constraint(all_grads, GRAD_CLIP)\n",
    "    updates = lasagne.updates.sgd(scaled_grads, all_params, LEARNING_RATE)\n",
    "    \n",
    "    print(\"Compiling functions ...\")\n",
    "    train_fn = theano.function([inp, target_values], cost, updates=updates, allow_input_downcast=True)\n",
    "    compute_cost = theano.function([inp, target_values], cost, allow_input_downcast=True)\n",
    "    \n",
    "    num_batches = TRAIN_SIZE // BATCH_SIZE\n",
    "    train_idxs = np.arange(TRAIN_SIZE)\n",
    "    for epoch in range(num_epochs):\n",
    "        start_time = time.time()\n",
    "        np.random.shuffle(train_idxs)\n",
    "        for batch in range(num_batches):\n",
    "            idx = train_idxs[BATCH_SIZE * batch : BATCH_SIZE * (batch + 1)]\n",
    "            train_err[epoch] += train_fn(Xtrain[idx, :, :], ytrain[idx, np.newaxis])\n",
    "            \n",
    "            if batch == num_batches // 4:\n",
    "                print(\"Proc 25%\", end=\"\\t\")\n",
    "            if batch == num_batches // 2:\n",
    "                print(\"Proc 50%\", end=\"\\t\")\n",
    "            if batch == num_batches // 4 * 3:\n",
    "                print(\"Proc 75%\")\n",
    "                \n",
    "        train_err[epoch] /= num_batches\n",
    "        test_err[epoch] = compute_cost(Xtest, ytest[:, np.newaxis])\n",
    "        print(\"Epoch {} test loss = {:.4f} \\t train = {:.4f} \\t time = {:.2f}s\".format(\n",
    "                epoch, test_err[epoch], train_err[epoch], time.time() - start_time), end=\"\\t\")\n",
    "    np.save(file=filename, arr=lasagne.layers.get_all_param_values(network))\n",
    "    return pack(network, inp, target_values, train_err, test_err, train_fn, compute_cost)"
   ]
  },
  {
   "cell_type": "markdown",
   "metadata": {
    "collapsed": true
   },
   "source": [
    "## Experiments"
   ]
  },
  {
   "cell_type": "code",
   "execution_count": 15,
   "metadata": {
    "collapsed": false
   },
   "outputs": [
    {
     "data": {
      "text/plain": [
       "[10, 50, 70, 100, 150, 200, 300, 400]"
      ]
     },
     "execution_count": 15,
     "metadata": {},
     "output_type": "execute_result"
    }
   ],
   "source": [
    "SEQ_LENS"
   ]
  },
  {
   "cell_type": "markdown",
   "metadata": {},
   "source": [
    "### Sequence length is 10"
   ]
  },
  {
   "cell_type": "code",
   "execution_count": 45,
   "metadata": {
    "collapsed": false,
    "scrolled": true
   },
   "outputs": [
    {
     "name": "stdout",
     "output_type": "stream",
     "text": [
      "Building network ...\n",
      "The network has 10501 params\n",
      "Computing updates ...\n",
      "Compiling functions ...\n",
      "Processed 25%\n",
      "Processed 50%\n",
      "Processed 75%\n",
      "Epoch 0 test loss = 0.1522 \t train = 0.0085 \t time = 9.70s\n",
      "Processed 25%\n",
      "Processed 50%\n",
      "Processed 75%\n",
      "Epoch 1 test loss = 0.1438 \t train = 0.0073 \t time = 9.83s\n",
      "Processed 25%\n",
      "Processed 50%\n",
      "Processed 75%\n",
      "Epoch 2 test loss = 0.1317 \t train = 0.0068 \t time = 11.78s\n",
      "Processed 25%\n",
      "Processed 50%\n",
      "Processed 75%\n",
      "Epoch 3 test loss = 0.0977 \t train = 0.0059 \t time = 14.28s\n",
      "Processed 25%\n",
      "Processed 50%\n",
      "Processed 75%\n",
      "Epoch 4 test loss = 0.0029 \t train = 0.0011 \t time = 14.28s\n",
      "Processed 25%\n",
      "Processed 50%\n",
      "Processed 75%\n",
      "Epoch 5 test loss = 0.0019 \t train = 0.0001 \t time = 14.28s\n",
      "Processed 25%\n",
      "Processed 50%\n",
      "Processed 75%\n",
      "Epoch 6 test loss = 0.0013 \t train = 0.0001 \t time = 14.26s\n",
      "Processed 25%\n",
      "Processed 50%\n",
      "Processed 75%\n",
      "Epoch 7 test loss = 0.0010 \t train = 0.0001 \t time = 14.26s\n",
      "Processed 25%\n",
      "Processed 50%\n",
      "Processed 75%\n",
      "Epoch 8 test loss = 0.0008 \t train = 0.0000 \t time = 14.27s\n",
      "Processed 25%\n",
      "Processed 50%\n",
      "Processed 75%\n",
      "Epoch 9 test loss = 0.0006 \t train = 0.0000 \t time = 14.28s\n"
     ]
    }
   ],
   "source": [
    "net, inp, tar = create_network(build_network_gaus, 10)\n",
    "srnn10 = train(net, inp, tar, train_data[10][\"x\"], train_data[10][\"y\"],\n",
    "                      test_data[10][\"x\"], test_data[10][\"y\"], \"srnn10\", num_epochs=10)"
   ]
  },
  {
   "cell_type": "code",
   "execution_count": 46,
   "metadata": {
    "collapsed": false,
    "scrolled": true
   },
   "outputs": [
    {
     "name": "stdout",
     "output_type": "stream",
     "text": [
      "Building network ...\n",
      "The network has 10501 params\n",
      "Computing updates ...\n",
      "Compiling functions ...\n",
      "Processed 25%\n",
      "Processed 50%\n",
      "Processed 75%\n",
      "Epoch 0 test loss = 0.0842 \t train = 0.0061 \t time = 9.70s\n",
      "Processed 25%\n",
      "Processed 50%\n",
      "Processed 75%\n",
      "Epoch 1 test loss = 0.0572 \t train = 0.0035 \t time = 10.11s\n",
      "Processed 25%\n",
      "Processed 50%\n",
      "Processed 75%\n",
      "Epoch 2 test loss = 0.0430 \t train = 0.0027 \t time = 13.70s\n",
      "Processed 25%\n",
      "Processed 50%\n",
      "Processed 75%\n",
      "Epoch 3 test loss = 0.0329 \t train = 0.0020 \t time = 12.45s\n",
      "Processed 25%\n",
      "Processed 50%\n",
      "Processed 75%\n",
      "Epoch 4 test loss = 0.0229 \t train = 0.0015 \t time = 10.28s\n",
      "Processed 25%\n",
      "Processed 50%\n",
      "Processed 75%\n",
      "Epoch 5 test loss = 0.0170 \t train = 0.0011 \t time = 14.14s\n",
      "Processed 25%\n",
      "Processed 50%\n",
      "Processed 75%\n",
      "Epoch 6 test loss = 0.0129 \t train = 0.0008 \t time = 14.46s\n",
      "Processed 25%\n",
      "Processed 50%\n",
      "Processed 75%\n",
      "Epoch 7 test loss = 0.0097 \t train = 0.0006 \t time = 10.20s\n",
      "Processed 25%\n",
      "Processed 50%\n",
      "Processed 75%\n",
      "Epoch 8 test loss = 0.0077 \t train = 0.0005 \t time = 13.26s\n",
      "Processed 25%\n",
      "Processed 50%\n",
      "Processed 75%\n",
      "Epoch 9 test loss = 0.0061 \t train = 0.0003 \t time = 15.28s\n"
     ]
    }
   ],
   "source": [
    "net, inp, tar = create_network(build_network_identity, 10)\n",
    "irnn10 = train(net, inp, tar, train_data[10][\"x\"], train_data[10][\"y\"],\n",
    "                      test_data[10][\"x\"], test_data[10][\"y\"], \"irnn10\", num_epochs=10)"
   ]
  },
  {
   "cell_type": "code",
   "execution_count": 47,
   "metadata": {
    "collapsed": false,
    "scrolled": true
   },
   "outputs": [
    {
     "name": "stdout",
     "output_type": "stream",
     "text": [
      "Building network ...\n",
      "The network has 10501 params\n",
      "Computing updates ...\n",
      "Compiling functions ...\n",
      "Processed 25%\n",
      "Processed 50%\n",
      "Processed 75%\n",
      "Epoch 0 test loss = 0.1176 \t train = 0.0073 \t time = 9.70s\n",
      "Processed 25%\n",
      "Processed 50%\n",
      "Processed 75%\n",
      "Epoch 1 test loss = 0.0645 \t train = 0.0045 \t time = 10.10s\n",
      "Processed 25%\n",
      "Processed 50%\n",
      "Processed 75%\n",
      "Epoch 2 test loss = 0.0500 \t train = 0.0028 \t time = 12.85s\n",
      "Processed 25%\n",
      "Processed 50%\n",
      "Processed 75%\n",
      "Epoch 3 test loss = 0.0319 \t train = 0.0018 \t time = 14.35s\n",
      "Processed 25%\n",
      "Processed 50%\n",
      "Processed 75%\n",
      "Epoch 4 test loss = 0.0135 \t train = 0.0010 \t time = 14.36s\n",
      "Processed 25%\n",
      "Processed 50%\n",
      "Processed 75%\n",
      "Epoch 5 test loss = 0.0080 \t train = 0.0005 \t time = 14.36s\n",
      "Processed 25%\n",
      "Processed 50%\n",
      "Processed 75%\n",
      "Epoch 6 test loss = 0.0051 \t train = 0.0003 \t time = 14.36s\n",
      "Processed 25%\n",
      "Processed 50%\n",
      "Processed 75%\n",
      "Epoch 7 test loss = 0.0035 \t train = 0.0002 \t time = 14.37s\n",
      "Processed 25%\n",
      "Processed 50%\n",
      "Processed 75%\n",
      "Epoch 8 test loss = 0.0025 \t train = 0.0002 \t time = 14.43s\n",
      "Processed 25%\n",
      "Processed 50%\n",
      "Processed 75%\n",
      "Epoch 9 test loss = 0.0018 \t train = 0.0001 \t time = 14.36s\n"
     ]
    }
   ],
   "source": [
    "net, inp, tar = create_network(build_network_np, 10)\n",
    "nprnn10 = train(net, inp, tar, train_data[10][\"x\"], train_data[10][\"y\"],\n",
    "                      test_data[10][\"x\"], test_data[10][\"y\"], \"nprnn10\", num_epochs=10)"
   ]
  },
  {
   "cell_type": "code",
   "execution_count": null,
   "metadata": {
    "collapsed": true
   },
   "outputs": [],
   "source": []
  },
  {
   "cell_type": "code",
   "execution_count": 88,
   "metadata": {
    "collapsed": false
   },
   "outputs": [
    {
     "data": {
      "text/plain": [
       "<matplotlib.legend.Legend at 0x7fc4a876a0b8>"
      ]
     },
     "execution_count": 88,
     "metadata": {},
     "output_type": "execute_result"
    },
    {
     "data": {
      "image/png": "[encoded data removed]",
      "text/plain": [
       "<matplotlib.figure.Figure at 0x7fc4a883e400>"
      ]
     },
     "metadata": {},
     "output_type": "display_data"
    }
   ],
   "source": [
    "plt.figure(figsize=(6, 4))\n",
    "plt.title(\"Test loss MSE seq len = 10\")\n",
    "plt.xlabel(\"epoch\")\n",
    "plt.plot(srnn10[\"test_err\"], label=\"sRNN\")\n",
    "plt.plot(irnn10[\"test_err\"], label=\"IRNN\")\n",
    "plt.plot(nprnn10[\"test_err\"], label=\"npRNN\")\n",
    "plt.legend()"
   ]
  },
  {
   "cell_type": "code",
   "execution_count": null,
   "metadata": {
    "collapsed": true
   },
   "outputs": [],
   "source": []
  },
  {
   "cell_type": "markdown",
   "metadata": {},
   "source": [
    "### Sequence length is 50"
   ]
  },
  {
   "cell_type": "code",
   "execution_count": 62,
   "metadata": {
    "collapsed": false,
    "scrolled": true
   },
   "outputs": [
    {
     "name": "stdout",
     "output_type": "stream",
     "text": [
      "Building network ...\n",
      "The network has 10501 params\n",
      "Computing updates ...\n",
      "Compiling functions ...\n",
      "Processed 25%\n",
      "Processed 50%\n",
      "Processed 75%\n",
      "Epoch 0 test loss = 0.1680 \t train = 0.0094 \t time = 51.07s\n",
      "Processed 25%\n",
      "Processed 50%\n",
      "Processed 75%\n",
      "Epoch 1 test loss = 0.1667 \t train = 0.0083 \t time = 62.80s\n",
      "Processed 25%\n",
      "Processed 50%\n",
      "Processed 75%\n",
      "Epoch 2 test loss = 0.1664 \t train = 0.0083 \t time = 62.11s\n",
      "Processed 25%\n",
      "Processed 50%\n",
      "Processed 75%\n",
      "Epoch 3 test loss = 0.1662 \t train = 0.0082 \t time = 62.49s\n",
      "Processed 25%\n",
      "Processed 50%\n",
      "Processed 75%\n",
      "Epoch 4 test loss = 0.1657 \t train = 0.0082 \t time = 62.46s\n",
      "Processed 25%\n",
      "Processed 50%\n",
      "Processed 75%\n",
      "Epoch 5 test loss = 0.1655 \t train = 0.0082 \t time = 62.44s\n",
      "Processed 25%\n",
      "Processed 50%\n",
      "Processed 75%\n",
      "Epoch 6 test loss = 0.1652 \t train = 0.0082 \t time = 62.40s\n",
      "Processed 25%\n",
      "Processed 50%\n",
      "Processed 75%\n",
      "Epoch 7 test loss = 0.1649 \t train = 0.0082 \t time = 62.27s\n",
      "Processed 25%\n",
      "Processed 50%\n",
      "Processed 75%\n",
      "Epoch 8 test loss = 0.1648 \t train = 0.0082 \t time = 61.79s\n",
      "Processed 25%\n",
      "Processed 50%\n",
      "Processed 75%\n",
      "Epoch 9 test loss = 0.1643 \t train = 0.0082 \t time = 61.86s\n"
     ]
    }
   ],
   "source": [
    "net, inp, tar = create_network(build_network_gaus, seq_len=50)\n",
    "srnn50 = train(net, inp, tar, train_data[50][\"x\"], train_data[50][\"y\"],\n",
    "                      test_data[50][\"x\"], test_data[50][\"y\"], \"srnn50\", num_epochs=10)"
   ]
  },
  {
   "cell_type": "code",
   "execution_count": 63,
   "metadata": {
    "collapsed": false,
    "scrolled": true
   },
   "outputs": [
    {
     "name": "stdout",
     "output_type": "stream",
     "text": [
      "Computing updates ...\n",
      "Compiling functions ...\n",
      "Processed 25%\n",
      "Processed 50%\n",
      "Processed 75%\n",
      "Epoch 0 test loss = 0.1639 \t train = 0.0081 \t time = 50.73s\n",
      "Processed 25%\n",
      "Processed 50%\n",
      "Processed 75%\n",
      "Epoch 1 test loss = 0.1637 \t train = 0.0081 \t time = 62.39s\n",
      "Processed 25%\n",
      "Processed 50%\n",
      "Processed 75%\n",
      "Epoch 2 test loss = 0.1630 \t train = 0.0081 \t time = 62.26s\n",
      "Processed 25%\n",
      "Processed 50%\n",
      "Processed 75%\n",
      "Epoch 3 test loss = 0.1626 \t train = 0.0081 \t time = 61.67s\n",
      "Processed 25%\n",
      "Processed 50%\n",
      "Processed 75%\n",
      "Epoch 4 test loss = 0.1620 \t train = 0.0081 \t time = 61.64s\n",
      "Processed 25%\n",
      "Processed 50%\n",
      "Processed 75%\n",
      "Epoch 5 test loss = 0.1614 \t train = 0.0080 \t time = 61.78s\n",
      "Processed 25%\n",
      "Processed 50%\n",
      "Processed 75%\n",
      "Epoch 6 test loss = 0.1606 \t train = 0.0080 \t time = 61.79s\n",
      "Processed 25%\n",
      "Processed 50%\n",
      "Processed 75%\n",
      "Epoch 7 test loss = 0.1595 \t train = 0.0079 \t time = 61.58s\n",
      "Processed 25%\n",
      "Processed 50%\n",
      "Processed 75%\n",
      "Epoch 8 test loss = 0.1578 \t train = 0.0079 \t time = 61.77s\n",
      "Processed 25%\n",
      "Processed 50%\n",
      "Processed 75%\n",
      "Epoch 9 test loss = 0.1553 \t train = 0.0078 \t time = 61.87s\n",
      "Processed 25%\n",
      "Processed 50%\n",
      "Processed 75%\n",
      "Epoch 10 test loss = 0.0995 \t train = 0.0068 \t time = 62.17s\n",
      "Processed 25%\n",
      "Processed 50%\n",
      "Processed 75%\n",
      "Epoch 11 test loss = 0.0922 \t train = 0.0042 \t time = 62.32s\n",
      "Processed 25%\n",
      "Processed 50%\n",
      "Processed 75%\n",
      "Epoch 12 test loss = 0.0340 \t train = 0.0030 \t time = 62.46s\n",
      "Processed 25%\n",
      "Processed 50%\n",
      "Processed 75%\n",
      "Epoch 13 test loss = 0.0448 \t train = 0.0026 \t time = 62.50s\n",
      "Processed 25%\n",
      "Processed 50%\n",
      "Processed 75%\n",
      "Epoch 14 test loss = 0.0313 \t train = 0.0022 \t time = 62.72s\n",
      "Processed 25%\n",
      "Processed 50%\n",
      "Processed 75%\n",
      "Epoch 15 test loss = 0.0395 \t train = 0.0019 \t time = 62.78s\n",
      "Processed 25%\n",
      "Processed 50%\n",
      "Processed 75%\n",
      "Epoch 16 test loss = 0.0304 \t train = 0.0016 \t time = 62.79s\n",
      "Processed 25%\n",
      "Processed 50%\n",
      "Processed 75%\n",
      "Epoch 17 test loss = 0.0229 \t train = 0.0013 \t time = 62.78s\n",
      "Processed 25%\n",
      "Processed 50%\n",
      "Processed 75%\n",
      "Epoch 18 test loss = 0.0325 \t train = 0.0012 \t time = 62.77s\n",
      "Processed 25%\n",
      "Processed 50%\n",
      "Processed 75%\n",
      "Epoch 19 test loss = 0.0145 \t train = 0.0010 \t time = 62.79s\n"
     ]
    }
   ],
   "source": [
    "srnn50 = train(srnn50[\"network\"], srnn50[\"inp\"], srnn50[\"target\"],\n",
    "               train_data[50][\"x\"], train_data[50][\"y\"],\n",
    "               test_data[50][\"x\"], test_data[50][\"y\"], \"srnn50\", num_epochs=20)"
   ]
  },
  {
   "cell_type": "code",
   "execution_count": 67,
   "metadata": {
    "collapsed": false,
    "scrolled": true
   },
   "outputs": [
    {
     "name": "stdout",
     "output_type": "stream",
     "text": [
      "Building network ...\n",
      "The network has 10501 params\n",
      "Computing updates ...\n",
      "Compiling functions ...\n",
      "Proc 25%\tProc 50%\tProc 75%\n",
      "Epoch 0 test loss = 0.1626 \t train = 0.0084 \t time = 48.88s\tProc 25%\tProc 50%\tProc 75%\n",
      "Epoch 1 test loss = 0.1631 \t train = 0.0080 \t time = 55.61s\tProc 25%\tProc 50%\tProc 75%\n",
      "Epoch 2 test loss = 0.1373 \t train = 0.0075 \t time = 56.21s\tProc 25%\tProc 50%\tProc 75%\n",
      "Epoch 3 test loss = 0.0896 \t train = 0.0062 \t time = 56.20s\tProc 25%\tProc 50%\tProc 75%\n",
      "Epoch 4 test loss = 0.0621 \t train = 0.0045 \t time = 56.39s\tProc 25%\tProc 50%\tProc 75%\n",
      "Epoch 5 test loss = 0.0353 \t train = 0.0029 \t time = 59.14s\tProc 25%\tProc 50%\tProc 75%\n",
      "Epoch 6 test loss = 0.0232 \t train = 0.0017 \t time = 56.22s\tProc 25%\tProc 50%\tProc 75%\n",
      "Epoch 7 test loss = 0.0169 \t train = 0.0011 \t time = 56.28s\tProc 25%\tProc 50%\tProc 75%\n",
      "Epoch 8 test loss = 0.0150 \t train = 0.0008 \t time = 56.25s\tProc 25%\tProc 50%\tProc 75%\n",
      "Epoch 9 test loss = 0.0088 \t train = 0.0006 \t time = 56.27s\tProc 25%\tProc 50%\tProc 75%\n",
      "Epoch 10 test loss = 0.0073 \t train = 0.0005 \t time = 56.29s\tProc 25%\tProc 50%\tProc 75%\n",
      "Epoch 11 test loss = 0.0098 \t train = 0.0004 \t time = 56.37s\tProc 25%\tProc 50%\tProc 75%\n",
      "Epoch 12 test loss = 0.0057 \t train = 0.0004 \t time = 56.39s\tProc 25%\tProc 50%\tProc 75%\n",
      "Epoch 13 test loss = 0.0075 \t train = 0.0003 \t time = 59.26s\tProc 25%\tProc 50%\tProc 75%\n",
      "Epoch 14 test loss = 0.0040 \t train = 0.0003 \t time = 56.37s\tProc 25%\tProc 50%\tProc 75%\n",
      "Epoch 15 test loss = 0.0055 \t train = 0.0003 \t time = 56.47s\tProc 25%\tProc 50%\tProc 75%\n",
      "Epoch 16 test loss = 0.0035 \t train = 0.0002 \t time = 56.34s\tProc 25%\tProc 50%\tProc 75%\n",
      "Epoch 17 test loss = 0.0044 \t train = 0.0002 \t time = 56.41s\tProc 25%\tProc 50%\tProc 75%\n",
      "Epoch 18 test loss = 0.0030 \t train = 0.0002 \t time = 59.22s\tProc 25%\tProc 50%\tProc 75%\n",
      "Epoch 19 test loss = 0.0035 \t train = 0.0002 \t time = 56.36s\tProc 25%\tProc 50%\tProc 75%\n",
      "Epoch 20 test loss = 0.0029 \t train = 0.0002 \t time = 56.34s\tProc 25%\tProc 50%\tProc 75%\n",
      "Epoch 21 test loss = 0.0027 \t train = 0.0001 \t time = 56.32s\tProc 25%\tProc 50%\tProc 75%\n",
      "Epoch 22 test loss = 0.0021 \t train = 0.0001 \t time = 56.34s\tProc 25%\tProc 50%\tProc 75%\n",
      "Epoch 23 test loss = 0.0019 \t train = 0.0001 \t time = 56.31s\tProc 25%\tProc 50%\tProc 75%\n",
      "Epoch 24 test loss = 0.0017 \t train = 0.0001 \t time = 56.26s\tProc 25%\tProc 50%\tProc 75%\n",
      "Epoch 25 test loss = 0.0017 \t train = 0.0001 \t time = 56.29s\tProc 25%\tProc 50%\tProc 75%\n",
      "Epoch 26 test loss = 0.0033 \t train = 0.0001 \t time = 56.27s\tProc 25%\tProc 50%\tProc 75%\n",
      "Epoch 27 test loss = 0.0014 \t train = 0.0001 \t time = 56.40s\tProc 25%\tProc 50%\tProc 75%\n",
      "Epoch 28 test loss = 0.0015 \t train = 0.0001 \t time = 56.04s\tProc 25%\tProc 50%\tProc 75%\n",
      "Epoch 29 test loss = 0.0013 \t train = 0.0001 \t time = 56.07s\t"
     ]
    }
   ],
   "source": [
    "net, inp, tar = create_network(build_network_identity, seq_len=50)\n",
    "irnn50 = train(net, inp, tar, train_data[50][\"x\"], train_data[50][\"y\"],\n",
    "                      test_data[50][\"x\"], test_data[50][\"y\"], \"irnn50\", num_epochs=30)"
   ]
  },
  {
   "cell_type": "code",
   "execution_count": 68,
   "metadata": {
    "collapsed": false,
    "scrolled": true
   },
   "outputs": [
    {
     "name": "stdout",
     "output_type": "stream",
     "text": [
      "Building network ...\n",
      "The network has 10501 params\n",
      "Computing updates ...\n",
      "Compiling functions ...\n",
      "Proc 25%\tProc 50%\tProc 75%\n",
      "Epoch 0 test loss = 0.1673 \t train = 0.0087 \t time = 47.93s\tProc 25%\tProc 50%\tProc 75%\n",
      "Epoch 1 test loss = 0.1666 \t train = 0.0083 \t time = 55.20s\tProc 25%\tProc 50%\tProc 75%\n",
      "Epoch 2 test loss = 0.1663 \t train = 0.0083 \t time = 55.21s\tProc 25%\tProc 50%\tProc 75%\n",
      "Epoch 3 test loss = 0.1661 \t train = 0.0083 \t time = 55.13s\tProc 25%\tProc 50%\tProc 75%\n",
      "Epoch 4 test loss = 0.1655 \t train = 0.0083 \t time = 57.97s\tProc 25%\tProc 50%\tProc 75%\n",
      "Epoch 5 test loss = 0.1659 \t train = 0.0083 \t time = 55.22s\tProc 25%\tProc 50%\tProc 75%\n",
      "Epoch 6 test loss = 0.1644 \t train = 0.0082 \t time = 58.27s\tProc 25%\tProc 50%\tProc 75%\n",
      "Epoch 7 test loss = 0.1645 \t train = 0.0082 \t time = 55.54s\tProc 25%\tProc 50%\tProc 75%\n",
      "Epoch 8 test loss = 0.1624 \t train = 0.0082 \t time = 58.65s\tProc 25%\tProc 50%\tProc 75%\n",
      "Epoch 9 test loss = 0.1617 \t train = 0.0081 \t time = 58.61s\tProc 25%\tProc 50%\tProc 75%\n",
      "Epoch 10 test loss = 0.1644 \t train = 0.0080 \t time = 58.32s\tProc 25%\tProc 50%\tProc 75%\n",
      "Epoch 11 test loss = 0.1304 \t train = 0.0078 \t time = 55.48s\tProc 25%\tProc 50%\tProc 75%\n",
      "Epoch 12 test loss = 0.0717 \t train = 0.0055 \t time = 58.89s\tProc 25%\tProc 50%\tProc 75%\n",
      "Epoch 13 test loss = 0.1026 \t train = 0.0038 \t time = 59.10s\tProc 25%\tProc 50%\tProc 75%\n",
      "Epoch 14 test loss = 0.0698 \t train = 0.0031 \t time = 59.08s\tProc 25%\tProc 50%\tProc 75%\n",
      "Epoch 15 test loss = 0.0505 \t train = 0.0025 \t time = 56.48s\tProc 25%\tProc 50%\tProc 75%\n",
      "Epoch 16 test loss = 0.0235 \t train = 0.0017 \t time = 59.36s\tProc 25%\tProc 50%\tProc 75%\n",
      "Epoch 17 test loss = 0.0121 \t train = 0.0013 \t time = 59.32s\tProc 25%\tProc 50%\tProc 75%\n",
      "Epoch 18 test loss = 0.0106 \t train = 0.0010 \t time = 59.39s\tProc 25%\tProc 50%\tProc 75%\n",
      "Epoch 19 test loss = 0.0141 \t train = 0.0008 \t time = 56.26s\tProc 25%\tProc 50%\tProc 75%\n",
      "Epoch 20 test loss = 0.0054 \t train = 0.0006 \t time = 56.33s\tProc 25%\tProc 50%\tProc 75%\n",
      "Epoch 21 test loss = 0.0284 \t train = 0.0005 \t time = 59.41s\tProc 25%\tProc 50%\tProc 75%\n",
      "Epoch 22 test loss = 0.0123 \t train = 0.0005 \t time = 59.35s\tProc 25%\tProc 50%\tProc 75%\n",
      "Epoch 23 test loss = 0.0036 \t train = 0.0004 \t time = 59.43s\tProc 25%\tProc 50%\tProc 75%\n",
      "Epoch 24 test loss = 0.0033 \t train = 0.0004 \t time = 59.04s\tProc 25%\tProc 50%\tProc 75%\n",
      "Epoch 25 test loss = 0.0072 \t train = 0.0003 \t time = 56.18s\tProc 25%\tProc 50%\tProc 75%\n",
      "Epoch 26 test loss = 0.0058 \t train = 0.0003 \t time = 58.96s\tProc 25%\tProc 50%\tProc 75%\n",
      "Epoch 27 test loss = 0.0051 \t train = 0.0003 \t time = 59.07s\tProc 25%\tProc 50%\tProc 75%\n",
      "Epoch 28 test loss = 0.0178 \t train = 0.0002 \t time = 56.15s\tProc 25%\tProc 50%\tProc 75%\n",
      "Epoch 29 test loss = 0.0086 \t train = 0.0002 \t time = 59.15s\t"
     ]
    }
   ],
   "source": [
    "net, inp, tar = create_network(build_network_np, seq_len=50)\n",
    "nprnn50 = train(net, inp, tar, train_data[50][\"x\"], train_data[50][\"y\"],\n",
    "                      test_data[50][\"x\"], test_data[50][\"y\"], \"nprnn50\", num_epochs=30)"
   ]
  },
  {
   "cell_type": "code",
   "execution_count": null,
   "metadata": {
    "collapsed": true
   },
   "outputs": [],
   "source": [
    "[0.1680, 0.1667, 0.1664, 0.1662, 0.1657, 0.1655, 0.1652, 0.1649, 0.1648, 0.1643]"
   ]
  },
  {
   "cell_type": "code",
   "execution_count": 71,
   "metadata": {
    "collapsed": false
   },
   "outputs": [
    {
     "data": {
      "text/plain": [
       "array([1, 2, 3, 4])"
      ]
     },
     "execution_count": 71,
     "metadata": {},
     "output_type": "execute_result"
    }
   ],
   "source": [
    "a = np.array([1, 2])\n",
    "b = np.array([3, 4])\n",
    "np.concatenate((a, b))"
   ]
  },
  {
   "cell_type": "code",
   "execution_count": 87,
   "metadata": {
    "collapsed": false
   },
   "outputs": [
    {
     "data": {
      "text/plain": [
       "<matplotlib.legend.Legend at 0x7fc4a87ea7b8>"
      ]
     },
     "execution_count": 87,
     "metadata": {},
     "output_type": "execute_result"
    },
    {
     "data": {
      "image/png": "[encoded data removed]",
      "text/plain": [
       "<matplotlib.figure.Figure at 0x7fc4a8896278>"
      ]
     },
     "metadata": {},
     "output_type": "display_data"
    }
   ],
   "source": [
    "plt.figure(figsize=(7, 5))\n",
    "plt.title(\"Test loss MSE seq len = 50\")\n",
    "plt.xlabel(\"epoch\")\n",
    "plt.plot(np.concatenate((np.array([0.1680, 0.1667, 0.1664, 0.1662, 0.1657,\n",
    "                                  0.1655, 0.1652, 0.1649, 0.1648, 0.1643]), srnn50[\"test_err\"])), label=\"sRNN\")\n",
    "plt.plot(irnn50[\"test_err\"], label=\"IRNN\")\n",
    "plt.plot(nprnn50[\"test_err\"], label=\"npRNN\")\n",
    "plt.legend()"
   ]
  },
  {
   "cell_type": "code",
   "execution_count": null,
   "metadata": {
    "collapsed": true
   },
   "outputs": [],
   "source": []
  },
  {
   "cell_type": "markdown",
   "metadata": {},
   "source": [
    "### Sequence length is 70"
   ]
  },
  {
   "cell_type": "code",
   "execution_count": 74,
   "metadata": {
    "collapsed": false,
    "scrolled": true
   },
   "outputs": [
    {
     "name": "stdout",
     "output_type": "stream",
     "text": [
      "Building network ...\n",
      "The network has 10501 params\n",
      "Computing updates ...\n",
      "Compiling functions ...\n",
      "Proc 25%\tProc 50%\tProc 75%\n",
      "Epoch 0 test loss = 0.1648 \t train = 0.0096 \t time = 76.23s\tProc 25%\tProc 50%\tProc 75%\n",
      "Epoch 1 test loss = 0.1638 \t train = 0.0084 \t time = 80.73s\tProc 25%\tProc 50%\tProc 75%\n",
      "Epoch 2 test loss = 0.1634 \t train = 0.0083 \t time = 77.50s\tProc 25%\tProc 50%\tProc 75%\n",
      "Epoch 3 test loss = 0.1633 \t train = 0.0083 \t time = 80.31s\tProc 25%\tProc 50%\tProc 75%\n",
      "Epoch 4 test loss = 0.1631 \t train = 0.0083 \t time = 77.75s\tProc 25%\tProc 50%\tProc 75%\n",
      "Epoch 5 test loss = 0.1630 \t train = 0.0083 \t time = 78.32s\tProc 25%\tProc 50%\tProc 75%\n",
      "Epoch 6 test loss = 0.1629 \t train = 0.0083 \t time = 77.56s\tProc 25%\tProc 50%\tProc 75%\n",
      "Epoch 7 test loss = 0.1627 \t train = 0.0083 \t time = 81.42s\tProc 25%\tProc 50%\tProc 75%\n",
      "Epoch 8 test loss = 0.1626 \t train = 0.0083 \t time = 80.68s\tProc 25%\tProc 50%\tProc 75%\n",
      "Epoch 9 test loss = 0.1625 \t train = 0.0083 \t time = 77.34s\tProc 25%\tProc 50%\tProc 75%\n",
      "Epoch 10 test loss = 0.1623 \t train = 0.0083 \t time = 77.94s\tProc 25%\tProc 50%\tProc 75%\n",
      "Epoch 11 test loss = 0.1622 \t train = 0.0083 \t time = 80.44s\tProc 25%\tProc 50%\tProc 75%\n",
      "Epoch 12 test loss = 0.1624 \t train = 0.0082 \t time = 77.90s\tProc 25%\tProc 50%\tProc 75%\n",
      "Epoch 13 test loss = 0.1621 \t train = 0.0082 \t time = 78.13s\tProc 25%\tProc 50%\tProc 75%\n",
      "Epoch 14 test loss = 0.1617 \t train = 0.0082 \t time = 80.75s\tProc 25%\tProc 50%\tProc 75%\n",
      "Epoch 15 test loss = 0.1616 \t train = 0.0082 \t time = 77.60s\tProc 25%\tProc 50%\tProc 75%\n",
      "Epoch 16 test loss = 0.1614 \t train = 0.0082 \t time = 81.14s\tProc 25%\tProc 50%\tProc 75%\n",
      "Epoch 17 test loss = 0.1613 \t train = 0.0082 \t time = 77.66s\tProc 25%\tProc 50%\tProc 75%\n",
      "Epoch 18 test loss = 0.1614 \t train = 0.0082 \t time = 77.57s\tProc 25%\tProc 50%\tProc 75%\n",
      "Epoch 19 test loss = 0.1607 \t train = 0.0082 \t time = 78.06s\tProc 25%\tProc 50%\tProc 75%\n",
      "Epoch 20 test loss = 0.1605 \t train = 0.0082 \t time = 80.39s\tProc 25%\tProc 50%\tProc 75%\n",
      "Epoch 21 test loss = 0.1602 \t train = 0.0082 \t time = 77.32s\tProc 25%\tProc 50%\tProc 75%\n",
      "Epoch 22 test loss = 0.1599 \t train = 0.0081 \t time = 80.75s\tProc 25%\tProc 50%\tProc 75%\n",
      "Epoch 23 test loss = 0.1596 \t train = 0.0081 \t time = 77.11s\tProc 25%\tProc 50%\tProc 75%\n",
      "Epoch 24 test loss = 0.1593 \t train = 0.0081 \t time = 77.51s\tProc 25%\tProc 50%\tProc 75%\n",
      "Epoch 25 test loss = 0.1589 \t train = 0.0081 \t time = 77.70s\tProc 25%\tProc 50%\tProc 75%\n",
      "Epoch 26 test loss = 0.1580 \t train = 0.0081 \t time = 77.14s\tProc 25%\tProc 50%\tProc 75%\n",
      "Epoch 27 test loss = 0.1569 \t train = 0.0080 \t time = 77.78s\tProc 25%\tProc 50%\tProc 75%\n",
      "Epoch 28 test loss = 0.1552 \t train = 0.0079 \t time = 81.94s\tProc 25%\tProc 50%\tProc 75%\n",
      "Epoch 29 test loss = 0.1489 \t train = 0.0078 \t time = 77.31s\t"
     ]
    }
   ],
   "source": [
    "net, inp, tar = create_network(build_network_gaus, seq_len=70)\n",
    "srnn70 = train(net, inp, tar, train_data[70][\"x\"], train_data[70][\"y\"],\n",
    "                      test_data[70][\"x\"], test_data[70][\"y\"], \"srnn70\", num_epochs=30)"
   ]
  },
  {
   "cell_type": "code",
   "execution_count": 75,
   "metadata": {
    "collapsed": true
   },
   "outputs": [],
   "source": [
    "tmp_err = srnn70[\"test_err\"]"
   ]
  },
  {
   "cell_type": "code",
   "execution_count": 76,
   "metadata": {
    "collapsed": false,
    "scrolled": true
   },
   "outputs": [
    {
     "name": "stdout",
     "output_type": "stream",
     "text": [
      "Computing updates ...\n",
      "Compiling functions ...\n",
      "Proc 25%\tProc 50%\tProc 75%\n",
      "Epoch 0 test loss = 0.1660 \t train = 0.0068 \t time = 69.95s\tProc 25%\tProc 50%\tProc 75%\n",
      "Epoch 1 test loss = 0.0522 \t train = 0.0047 \t time = 77.62s\tProc 25%\tProc 50%\tProc 75%\n",
      "Epoch 2 test loss = 0.0515 \t train = 0.0034 \t time = 78.06s\tProc 25%\tProc 50%\tProc 75%\n",
      "Epoch 3 test loss = 0.0339 \t train = 0.0031 \t time = 78.69s\tProc 25%\tProc 50%\tProc 75%\n",
      "Epoch 4 test loss = 0.0711 \t train = 0.0029 \t time = 77.86s\tProc 25%\tProc 50%\tProc 75%\n",
      "Epoch 5 test loss = 0.0608 \t train = 0.0026 \t time = 80.67s\tProc 25%\tProc 50%\tProc 75%\n",
      "Epoch 6 test loss = 0.0472 \t train = 0.0024 \t time = 78.49s\tProc 25%\tProc 50%\tProc 75%\n",
      "Epoch 7 test loss = 0.0554 \t train = 0.0020 \t time = 78.44s\tProc 25%\tProc 50%\tProc 75%\n",
      "Epoch 8 test loss = 0.0329 \t train = 0.0016 \t time = 81.11s\tProc 25%\tProc 50%\tProc 75%\n",
      "Epoch 9 test loss = 0.0228 \t train = 0.0015 \t time = 78.59s\tProc 25%\tProc 50%\tProc 75%\n",
      "Epoch 10 test loss = 0.0156 \t train = 0.0014 \t time = 82.09s\tProc 25%\tProc 50%\tProc 75%\n",
      "Epoch 11 test loss = 0.0152 \t train = 0.0013 \t time = 78.67s\tProc 25%\tProc 50%\tProc 75%\n",
      "Epoch 12 test loss = 0.0235 \t train = 0.0013 \t time = 81.37s\tProc 25%\tProc 50%\tProc 75%\n",
      "Epoch 13 test loss = 0.0113 \t train = 0.0012 \t time = 80.82s\tProc 25%\tProc 50%\tProc 75%\n",
      "Epoch 14 test loss = 0.0106 \t train = 0.0012 \t time = 79.12s\tProc 25%\tProc 50%\tProc 75%\n",
      "Epoch 15 test loss = 0.0138 \t train = 0.0011 \t time = 81.57s\tProc 25%\tProc 50%\tProc 75%\n",
      "Epoch 16 test loss = 0.0193 \t train = 0.0011 \t time = 78.30s\tProc 25%\tProc 50%\tProc 75%\n",
      "Epoch 17 test loss = 0.0082 \t train = 0.0010 \t time = 84.60s\tProc 25%\tProc 50%\tProc 75%\n",
      "Epoch 18 test loss = 0.0094 \t train = 0.0010 \t time = 78.72s\tProc 25%\tProc 50%\tProc 75%\n",
      "Epoch 19 test loss = 0.0075 \t train = 0.0009 \t time = 81.44s\t"
     ]
    }
   ],
   "source": [
    "srnn70 = train(srnn70[\"network\"], srnn70[\"inp\"], srnn70[\"target\"],\n",
    "               train_data[70][\"x\"], train_data[70][\"y\"],\n",
    "               test_data[70][\"x\"], test_data[70][\"y\"], \"srnn70\", num_epochs=20)"
   ]
  },
  {
   "cell_type": "code",
   "execution_count": 77,
   "metadata": {
    "collapsed": false,
    "scrolled": true
   },
   "outputs": [
    {
     "name": "stdout",
     "output_type": "stream",
     "text": [
      "Building network ...\n",
      "The network has 10501 params\n",
      "Computing updates ...\n",
      "Compiling functions ...\n",
      "Proc 25%\tProc 50%\tProc 75%\n",
      "Epoch 0 test loss = 0.1751 \t train = 0.0085 \t time = 71.15s\tProc 25%\tProc 50%\tProc 75%\n",
      "Epoch 1 test loss = 0.1581 \t train = 0.0083 \t time = 78.08s\tProc 25%\tProc 50%\tProc 75%\n",
      "Epoch 2 test loss = 0.1613 \t train = 0.0081 \t time = 78.55s\tProc 25%\tProc 50%\tProc 75%\n",
      "Epoch 3 test loss = 0.1538 \t train = 0.0078 \t time = 78.82s\tProc 25%\tProc 50%\tProc 75%\n",
      "Epoch 4 test loss = 0.1301 \t train = 0.0071 \t time = 78.52s\tProc 25%\tProc 50%\tProc 75%\n",
      "Epoch 5 test loss = 0.1209 \t train = 0.0060 \t time = 78.65s\tProc 25%\tProc 50%\tProc 75%\n",
      "Epoch 6 test loss = 0.0996 \t train = 0.0053 \t time = 78.41s\tProc 25%\tProc 50%\tProc 75%\n",
      "Epoch 7 test loss = 0.0888 \t train = 0.0049 \t time = 78.09s\tProc 25%\tProc 50%\tProc 75%\n",
      "Epoch 8 test loss = 0.0887 \t train = 0.0047 \t time = 78.65s\tProc 25%\tProc 50%\tProc 75%\n",
      "Epoch 9 test loss = 0.0853 \t train = 0.0046 \t time = 79.31s\tProc 25%\tProc 50%\tProc 75%\n",
      "Epoch 10 test loss = 0.0841 \t train = 0.0045 \t time = 78.74s\tProc 25%\tProc 50%\tProc 75%\n",
      "Epoch 11 test loss = 0.0889 \t train = 0.0044 \t time = 78.62s\tProc 25%\tProc 50%\tProc 75%\n",
      "Epoch 12 test loss = 0.0767 \t train = 0.0042 \t time = 78.36s\tProc 25%\tProc 50%\tProc 75%\n",
      "Epoch 13 test loss = 0.0614 \t train = 0.0048 \t time = 78.34s\tProc 25%\tProc 50%\tProc 75%\n",
      "Epoch 14 test loss = 0.0481 \t train = 0.0027 \t time = 78.50s\tProc 25%\tProc 50%\tProc 75%\n",
      "Epoch 15 test loss = 0.0235 \t train = 0.0018 \t time = 78.69s\tProc 25%\tProc 50%\tProc 75%\n",
      "Epoch 16 test loss = 0.0142 \t train = 0.0011 \t time = 78.72s\tProc 25%\tProc 50%\tProc 75%\n",
      "Epoch 17 test loss = 0.0116 \t train = 0.0008 \t time = 78.43s\tProc 25%\tProc 50%\tProc 75%\n",
      "Epoch 18 test loss = 0.0127 \t train = 0.0006 \t time = 78.27s\tProc 25%\tProc 50%\tProc 75%\n",
      "Epoch 19 test loss = 0.0086 \t train = 0.0005 \t time = 78.64s\tProc 25%\tProc 50%\tProc 75%\n",
      "Epoch 20 test loss = 0.0083 \t train = 0.0004 \t time = 78.80s\tProc 25%\tProc 50%\tProc 75%\n",
      "Epoch 21 test loss = 0.0061 \t train = 0.0004 \t time = 78.82s\tProc 25%\tProc 50%\tProc 75%\n",
      "Epoch 22 test loss = 0.0067 \t train = 0.0003 \t time = 78.67s\tProc 25%\tProc 50%\tProc 75%\n",
      "Epoch 23 test loss = 0.0057 \t train = 0.0003 \t time = 78.37s\tProc 25%\tProc 50%\tProc 75%\n",
      "Epoch 24 test loss = 0.0054 \t train = 0.0003 \t time = 78.42s\tProc 25%\tProc 50%\tProc 75%\n",
      "Epoch 25 test loss = 0.0054 \t train = 0.0002 \t time = 81.77s\tProc 25%\tProc 50%\tProc 75%\n",
      "Epoch 26 test loss = 0.0048 \t train = 0.0002 \t time = 78.77s\tProc 25%\tProc 50%\tProc 75%\n",
      "Epoch 27 test loss = 0.0039 \t train = 0.0002 \t time = 78.44s\tProc 25%\tProc 50%\tProc 75%\n",
      "Epoch 28 test loss = 0.0039 \t train = 0.0002 \t time = 78.25s\tProc 25%\tProc 50%\tProc 75%\n",
      "Epoch 29 test loss = 0.0037 \t train = 0.0002 \t time = 78.57s\tProc 25%\tProc 50%\tProc 75%\n",
      "Epoch 30 test loss = 0.0035 \t train = 0.0002 \t time = 78.82s\tProc 25%\tProc 50%\tProc 75%\n",
      "Epoch 31 test loss = 0.0037 \t train = 0.0002 \t time = 79.06s\tProc 25%\tProc 50%\tProc 75%\n",
      "Epoch 32 test loss = 0.0030 \t train = 0.0002 \t time = 79.56s\tProc 25%\tProc 50%\tProc 75%\n",
      "Epoch 33 test loss = 0.0028 \t train = 0.0002 \t time = 78.66s\tProc 25%\tProc 50%\tProc 75%\n",
      "Epoch 34 test loss = 0.0027 \t train = 0.0001 \t time = 81.30s\tProc 25%\tProc 50%\tProc 75%\n",
      "Epoch 35 test loss = 0.0030 \t train = 0.0001 \t time = 78.36s\tProc 25%\tProc 50%\tProc 75%\n",
      "Epoch 36 test loss = 0.0024 \t train = 0.0001 \t time = 78.59s\tProc 25%\tProc 50%\tProc 75%\n",
      "Epoch 37 test loss = 0.0026 \t train = 0.0001 \t time = 78.59s\tProc 25%\tProc 50%\tProc 75%\n",
      "Epoch 38 test loss = 0.0026 \t train = 0.0001 \t time = 78.07s\tProc 25%\tProc 50%\tProc 75%\n",
      "Epoch 39 test loss = 0.0034 \t train = 0.0001 \t time = 78.88s\tProc 25%\tProc 50%\tProc 75%\n",
      "Epoch 40 test loss = 0.0023 \t train = 0.0001 \t time = 78.87s\tProc 25%\tProc 50%\tProc 75%\n",
      "Epoch 41 test loss = 0.0021 \t train = 0.0001 \t time = 79.08s\tProc 25%\tProc 50%\tProc 75%\n",
      "Epoch 42 test loss = 0.0019 \t train = 0.0001 \t time = 78.67s\tProc 25%\tProc 50%\tProc 75%\n",
      "Epoch 43 test loss = 0.0019 \t train = 0.0001 \t time = 81.17s\tProc 25%\tProc 50%\tProc 75%\n",
      "Epoch 44 test loss = 0.0020 \t train = 0.0001 \t time = 78.34s\tProc 25%\tProc 50%\tProc 75%\n",
      "Epoch 45 test loss = 0.0018 \t train = 0.0001 \t time = 78.60s\tProc 25%\tProc 50%\tProc 75%\n",
      "Epoch 46 test loss = 0.0019 \t train = 0.0001 \t time = 78.69s\tProc 25%\tProc 50%\tProc 75%\n",
      "Epoch 47 test loss = 0.0017 \t train = 0.0001 \t time = 78.68s\tProc 25%\tProc 50%\tProc 75%\n",
      "Epoch 48 test loss = 0.0020 \t train = 0.0001 \t time = 81.54s\tProc 25%\tProc 50%\tProc 75%\n",
      "Epoch 49 test loss = 0.0015 \t train = 0.0001 \t time = 78.67s\t"
     ]
    }
   ],
   "source": [
    "net, inp, tar = create_network(build_network_identity, seq_len=70)\n",
    "irnn70 = train(net, inp, tar, train_data[70][\"x\"], train_data[70][\"y\"],\n",
    "                      test_data[70][\"x\"], test_data[70][\"y\"], \"irnn70\", num_epochs=50)"
   ]
  },
  {
   "cell_type": "code",
   "execution_count": 78,
   "metadata": {
    "collapsed": false,
    "scrolled": true
   },
   "outputs": [
    {
     "name": "stdout",
     "output_type": "stream",
     "text": [
      "Building network ...\n",
      "The network has 10501 params\n",
      "Computing updates ...\n",
      "Compiling functions ...\n",
      "Proc 25%\tProc 50%\tProc 75%\n",
      "Epoch 0 test loss = 0.1644 \t train = 0.0088 \t time = 70.55s\tProc 25%\tProc 50%\tProc 75%\n",
      "Epoch 1 test loss = 0.1648 \t train = 0.0083 \t time = 77.77s\tProc 25%\tProc 50%\tProc 75%\n",
      "Epoch 2 test loss = 0.1638 \t train = 0.0083 \t time = 77.35s\tProc 25%\tProc 50%\tProc 75%\n",
      "Epoch 3 test loss = 0.1654 \t train = 0.0083 \t time = 77.79s\tProc 25%\tProc 50%\tProc 75%\n",
      "Epoch 4 test loss = 0.1637 \t train = 0.0083 \t time = 77.86s\tProc 25%\tProc 50%\tProc 75%\n",
      "Epoch 5 test loss = 0.1636 \t train = 0.0083 \t time = 80.24s\tProc 25%\tProc 50%\tProc 75%\n",
      "Epoch 6 test loss = 0.1634 \t train = 0.0083 \t time = 77.83s\tProc 25%\tProc 50%\tProc 75%\n",
      "Epoch 7 test loss = 0.1636 \t train = 0.0083 \t time = 84.34s\tProc 25%\tProc 50%\tProc 75%\n",
      "Epoch 8 test loss = 0.1640 \t train = 0.0083 \t time = 77.88s\tProc 25%\tProc 50%\tProc 75%\n",
      "Epoch 9 test loss = 0.1640 \t train = 0.0083 \t time = 81.45s\tProc 25%\tProc 50%\tProc 75%\n",
      "Epoch 10 test loss = 0.1629 \t train = 0.0083 \t time = 81.13s\tProc 25%\tProc 50%\tProc 75%\n",
      "Epoch 11 test loss = 0.1632 \t train = 0.0083 \t time = 78.05s\tProc 25%\tProc 50%\tProc 75%\n",
      "Epoch 12 test loss = 0.1624 \t train = 0.0083 \t time = 78.41s\tProc 25%\tProc 50%\tProc 75%\n",
      "Epoch 13 test loss = 0.1648 \t train = 0.0083 \t time = 81.64s\tProc 25%\tProc 50%\tProc 75%\n",
      "Epoch 14 test loss = 0.1630 \t train = 0.0083 \t time = 77.44s\tProc 25%\tProc 50%\tProc 75%\n",
      "Epoch 15 test loss = 0.1602 \t train = 0.0082 \t time = 80.74s\tProc 25%\tProc 50%\tProc 75%\n",
      "Epoch 16 test loss = 0.1583 \t train = 0.0082 \t time = 77.96s\tProc 25%\tProc 50%\tProc 75%\n",
      "Epoch 17 test loss = 0.1546 \t train = 0.0081 \t time = 77.77s\tProc 25%\tProc 50%\tProc 75%\n",
      "Epoch 18 test loss = 0.1853 \t train = 0.0080 \t time = 81.06s\tProc 25%\tProc 50%\tProc 75%\n",
      "Epoch 19 test loss = 0.1244 \t train = 0.0078 \t time = 78.29s\tProc 25%\tProc 50%\tProc 75%\n",
      "Epoch 20 test loss = 0.1156 \t train = 0.0057 \t time = 78.17s\tProc 25%\tProc 50%\tProc 75%\n",
      "Epoch 21 test loss = 0.0560 \t train = 0.0043 \t time = 78.31s\tProc 25%\tProc 50%\tProc 75%\n",
      "Epoch 22 test loss = 0.0519 \t train = 0.0036 \t time = 78.25s\tProc 25%\tProc 50%\tProc 75%\n",
      "Epoch 23 test loss = 0.0438 \t train = 0.0033 \t time = 81.76s\tProc 25%\tProc 50%\tProc 75%\n",
      "Epoch 24 test loss = 0.0411 \t train = 0.0029 \t time = 78.55s\tProc 25%\tProc 50%\tProc 75%\n",
      "Epoch 25 test loss = 0.0360 \t train = 0.0027 \t time = 78.17s\tProc 25%\tProc 50%\tProc 75%\n",
      "Epoch 26 test loss = 0.0386 \t train = 0.0025 \t time = 81.82s\tProc 25%\tProc 50%\tProc 75%\n",
      "Epoch 27 test loss = 0.0389 \t train = 0.0023 \t time = 79.23s\tProc 25%\tProc 50%\tProc 75%\n",
      "Epoch 28 test loss = 0.0454 \t train = 0.0021 \t time = 82.15s\tProc 25%\tProc 50%\tProc 75%\n",
      "Epoch 29 test loss = 0.0302 \t train = 0.0020 \t time = 79.15s\tProc 25%\tProc 50%\tProc 75%\n",
      "Epoch 30 test loss = 0.0165 \t train = 0.0017 \t time = 78.67s\tProc 25%\tProc 50%\tProc 75%\n",
      "Epoch 31 test loss = 0.0205 \t train = 0.0014 \t time = 81.74s\tProc 25%\tProc 50%\tProc 75%\n",
      "Epoch 32 test loss = 0.0103 \t train = 0.0012 \t time = 82.17s\tProc 25%\tProc 50%\tProc 75%\n",
      "Epoch 33 test loss = 0.0253 \t train = 0.0011 \t time = 82.18s\tProc 25%\tProc 50%\tProc 75%\n",
      "Epoch 34 test loss = 0.0157 \t train = 0.0009 \t time = 81.64s\tProc 25%\tProc 50%\tProc 75%\n",
      "Epoch 35 test loss = 0.0062 \t train = 0.0008 \t time = 78.75s\tProc 25%\tProc 50%\tProc 75%\n",
      "Epoch 36 test loss = 0.0075 \t train = 0.0007 \t time = 78.98s\tProc 25%\tProc 50%\tProc 75%\n",
      "Epoch 37 test loss = 0.0063 \t train = 0.0006 \t time = 82.16s\tProc 25%\tProc 50%\tProc 75%\n",
      "Epoch 38 test loss = 0.0322 \t train = 0.0006 \t time = 81.99s\tProc 25%\tProc 50%\tProc 75%\n",
      "Epoch 39 test loss = 0.0045 \t train = 0.0005 \t time = 78.76s\tProc 25%\tProc 50%\tProc 75%\n",
      "Epoch 40 test loss = 0.0042 \t train = 0.0005 \t time = 81.79s\tProc 25%\tProc 50%\tProc 75%\n",
      "Epoch 41 test loss = 0.0062 \t train = 0.0005 \t time = 79.07s\tProc 25%\tProc 50%\tProc 75%\n",
      "Epoch 42 test loss = 0.0032 \t train = 0.0004 \t time = 82.09s\tProc 25%\tProc 50%\tProc 75%\n",
      "Epoch 43 test loss = 0.0033 \t train = 0.0004 \t time = 79.15s\tProc 25%\tProc 50%\tProc 75%\n",
      "Epoch 44 test loss = 0.0029 \t train = 0.0003 \t time = 81.53s\tProc 25%\tProc 50%\tProc 75%\n",
      "Epoch 45 test loss = 0.0016 \t train = 0.0003 \t time = 81.91s\tProc 25%\tProc 50%\tProc 75%\n",
      "Epoch 46 test loss = 0.0039 \t train = 0.0003 \t time = 79.12s\tProc 25%\tProc 50%\tProc 75%\n",
      "Epoch 47 test loss = 0.0015 \t train = 0.0002 \t time = 82.11s\tProc 25%\tProc 50%\tProc 75%\n",
      "Epoch 48 test loss = 0.0027 \t train = 0.0002 \t time = 81.69s\tProc 25%\tProc 50%\tProc 75%\n",
      "Epoch 49 test loss = 0.0109 \t train = 0.0002 \t time = 81.85s\t"
     ]
    }
   ],
   "source": [
    "net, inp, tar = create_network(build_network_np, seq_len=70)\n",
    "nprnn70 = train(net, inp, tar, train_data[70][\"x\"], train_data[70][\"y\"],\n",
    "                      test_data[70][\"x\"], test_data[70][\"y\"], \"nprnn70\", num_epochs=50)"
   ]
  },
  {
   "cell_type": "code",
   "execution_count": null,
   "metadata": {
    "collapsed": true
   },
   "outputs": [],
   "source": []
  },
  {
   "cell_type": "code",
   "execution_count": 86,
   "metadata": {
    "collapsed": false
   },
   "outputs": [
    {
     "data": {
      "text/plain": [
       "<matplotlib.legend.Legend at 0x7fc4a887b4a8>"
      ]
     },
     "execution_count": 86,
     "metadata": {},
     "output_type": "execute_result"
    },
    {
     "data": {
      "image/png": "[encoded data removed]",
      "text/plain": [
       "<matplotlib.figure.Figure at 0x7fc4ad39c240>"
      ]
     },
     "metadata": {},
     "output_type": "display_data"
    }
   ],
   "source": [
    "plt.figure(figsize=(7, 5))\n",
    "plt.title(\"Test loss MSE seq len = 70\")\n",
    "plt.xlabel(\"epoch\")\n",
    "plt.plot(np.concatenate((tmp_err, srnn70[\"test_err\"])), label=\"sRNN\")\n",
    "plt.plot(irnn70[\"test_err\"], label=\"IRNN\")\n",
    "plt.plot(nprnn70[\"test_err\"], label=\"npRNN\")\n",
    "plt.legend()"
   ]
  },
  {
   "cell_type": "code",
   "execution_count": null,
   "metadata": {
    "collapsed": true
   },
   "outputs": [],
   "source": []
  },
  {
   "cell_type": "markdown",
   "metadata": {},
   "source": [
    "### Sequence length is 100"
   ]
  },
  {
   "cell_type": "code",
   "execution_count": 80,
   "metadata": {
    "collapsed": false,
    "scrolled": true
   },
   "outputs": [
    {
     "name": "stdout",
     "output_type": "stream",
     "text": [
      "Building network ...\n",
      "The network has 10501 params\n",
      "Computing updates ...\n",
      "Compiling functions ...\n",
      "Proc 25%\tProc 50%\tProc 75%\n",
      "Epoch 0 test loss = 0.1647 \t train = 0.0096 \t time = 114.70s\tProc 25%\tProc 50%\tProc 75%\n",
      "Epoch 1 test loss = 0.1640 \t train = 0.0084 \t time = 125.87s\tProc 25%\tProc 50%\tProc 75%\n",
      "Epoch 2 test loss = 0.1638 \t train = 0.0084 \t time = 125.35s\tProc 25%\tProc 50%\tProc 75%\n",
      "Epoch 3 test loss = 0.1637 \t train = 0.0083 \t time = 125.68s\tProc 25%\tProc 50%\tProc 75%\n",
      "Epoch 4 test loss = 0.1635 \t train = 0.0083 \t time = 124.89s\tProc 25%\tProc 50%\tProc 75%\n",
      "Epoch 5 test loss = 0.1634 \t train = 0.0083 \t time = 125.34s\tProc 25%\tProc 50%\tProc 75%\n",
      "Epoch 6 test loss = 0.1634 \t train = 0.0083 \t time = 124.78s\tProc 25%\tProc 50%\tProc 75%\n",
      "Epoch 7 test loss = 0.1633 \t train = 0.0083 \t time = 125.95s\tProc 25%\tProc 50%\tProc 75%\n",
      "Epoch 8 test loss = 0.1631 \t train = 0.0083 \t time = 125.54s\tProc 25%\tProc 50%\tProc 75%\n",
      "Epoch 9 test loss = 0.1631 \t train = 0.0083 \t time = 125.65s\tProc 25%\tProc 50%\tProc 75%\n",
      "Epoch 10 test loss = 0.1630 \t train = 0.0083 \t time = 125.56s\tProc 25%\tProc 50%\tProc 75%\n",
      "Epoch 11 test loss = 0.1630 \t train = 0.0083 \t time = 125.77s\tProc 25%\tProc 50%\tProc 75%\n",
      "Epoch 12 test loss = 0.1628 \t train = 0.0083 \t time = 126.50s\tProc 25%\tProc 50%\tProc 75%\n",
      "Epoch 13 test loss = 0.1627 \t train = 0.0083 \t time = 125.81s\tProc 25%\tProc 50%\tProc 75%\n",
      "Epoch 14 test loss = 0.1626 \t train = 0.0083 \t time = 124.73s\tProc 25%\tProc 50%\tProc 75%\n",
      "Epoch 15 test loss = 0.1626 \t train = 0.0083 \t time = 125.70s\tProc 25%\tProc 50%\tProc 75%\n",
      "Epoch 16 test loss = 0.1624 \t train = 0.0083 \t time = 125.82s\tProc 25%\tProc 50%\tProc 75%\n",
      "Epoch 17 test loss = 0.1624 \t train = 0.0083 \t time = 125.49s\tProc 25%\tProc 50%\tProc 75%\n",
      "Epoch 18 test loss = 0.1624 \t train = 0.0083 \t time = 125.32s\tProc 25%\tProc 50%\tProc 75%\n",
      "Epoch 19 test loss = 0.1622 \t train = 0.0083 \t time = 124.74s\tProc 25%\tProc 50%\tProc 75%\n",
      "Epoch 20 test loss = 0.1621 \t train = 0.0083 \t time = 125.70s\tProc 25%\tProc 50%\tProc 75%\n",
      "Epoch 21 test loss = 0.1620 \t train = 0.0083 \t time = 124.74s\tProc 25%\tProc 50%\tProc 75%\n",
      "Epoch 22 test loss = 0.1619 \t train = 0.0083 \t time = 124.96s\tProc 25%\tProc 50%\tProc 75%\n",
      "Epoch 23 test loss = 0.1619 \t train = 0.0083 \t time = 124.68s\tProc 25%\tProc 50%\tProc 75%\n",
      "Epoch 24 test loss = 0.1619 \t train = 0.0083 \t time = 125.67s\tProc 25%\tProc 50%\tProc 75%\n",
      "Epoch 25 test loss = 0.1616 \t train = 0.0083 \t time = 124.68s\tProc 25%\tProc 50%\tProc 75%\n",
      "Epoch 26 test loss = 0.1615 \t train = 0.0083 \t time = 126.40s\tProc 25%\tProc 50%\tProc 75%\n",
      "Epoch 27 test loss = 0.1614 \t train = 0.0082 \t time = 125.81s\tProc 25%\tProc 50%\tProc 75%\n",
      "Epoch 28 test loss = 0.1613 \t train = 0.0082 \t time = 125.70s\tProc 25%\tProc 50%\tProc 75%\n",
      "Epoch 29 test loss = 0.1612 \t train = 0.0082 \t time = 124.84s\tProc 25%\tProc 50%\tProc 75%\n",
      "Epoch 30 test loss = 0.1610 \t train = 0.0082 \t time = 125.66s\tProc 25%\tProc 50%\tProc 75%\n",
      "Epoch 31 test loss = 0.1611 \t train = 0.0082 \t time = 125.74s\tProc 25%\tProc 50%\tProc 75%\n",
      "Epoch 32 test loss = 0.1607 \t train = 0.0082 \t time = 125.71s\tProc 25%\tProc 50%\tProc 75%\n",
      "Epoch 33 test loss = 0.1604 \t train = 0.0082 \t time = 124.66s\tProc 25%\tProc 50%\tProc 75%\n",
      "Epoch 34 test loss = 0.1604 \t train = 0.0082 \t time = 125.68s\tProc 25%\tProc 50%\tProc 75%\n",
      "Epoch 35 test loss = 0.1602 \t train = 0.0082 \t time = 124.87s\tProc 25%\tProc 50%\tProc 75%\n",
      "Epoch 36 test loss = 0.1597 \t train = 0.0082 \t time = 125.66s\tProc 25%\tProc 50%\tProc 75%\n",
      "Epoch 37 test loss = 0.1596 \t train = 0.0082 \t time = 125.23s\tProc 25%\tProc 50%\tProc 75%\n",
      "Epoch 38 test loss = 0.1590 \t train = 0.0081 \t time = 124.91s\tProc 25%\tProc 50%\tProc 75%\n",
      "Epoch 39 test loss = 0.1589 \t train = 0.0081 \t time = 125.13s\tProc 25%\tProc 50%\tProc 75%\n",
      "Epoch 40 test loss = 0.1575 \t train = 0.0081 \t time = 125.21s\tProc 25%\tProc 50%\tProc 75%\n",
      "Epoch 41 test loss = 0.1552 \t train = 0.0080 \t time = 126.09s\tProc 25%\tProc 50%\tProc 75%\n",
      "Epoch 42 test loss = 0.1570 \t train = 0.0077 \t time = 125.68s\tProc 25%\tProc 50%\tProc 75%\n",
      "Epoch 43 test loss = 0.2418 \t train = 0.0075 \t time = 125.86s\tProc 25%\tProc 50%\tProc 75%\n",
      "Epoch 44 test loss = 0.1057 \t train = 0.0069 \t time = 125.63s\tProc 25%\tProc 50%\tProc 75%\n",
      "Epoch 45 test loss = 0.0925 \t train = 0.0044 \t time = 125.73s\tProc 25%\tProc 50%\tProc 75%\n",
      "Epoch 46 test loss = 0.0483 \t train = 0.0039 \t time = 127.09s\tProc 25%\tProc 50%\tProc 75%\n",
      "Epoch 47 test loss = 0.0933 \t train = 0.0037 \t time = 127.11s\tProc 25%\tProc 50%\tProc 75%\n",
      "Epoch 48 test loss = 0.1980 \t train = 0.0036 \t time = 127.26s\tProc 25%\tProc 50%\tProc 75%\n",
      "Epoch 49 test loss = 0.0544 \t train = 0.0034 \t time = 126.85s\t"
     ]
    }
   ],
   "source": [
    "net, inp, tar = create_network(build_network_gaus, seq_len=100)\n",
    "srnn100 = train(net, inp, tar, train_data[100][\"x\"], train_data[100][\"y\"],\n",
    "                      test_data[100][\"x\"], test_data[100][\"y\"], \"srnn100\", num_epochs=50)"
   ]
  },
  {
   "cell_type": "code",
   "execution_count": 83,
   "metadata": {
    "collapsed": false,
    "scrolled": true
   },
   "outputs": [
    {
     "name": "stdout",
     "output_type": "stream",
     "text": [
      "Building network ...\n",
      "The network has 10501 params\n",
      "Computing updates ...\n",
      "Compiling functions ...\n",
      "Proc 25%\tProc 50%\tProc 75%\n",
      "Epoch 0 test loss = 0.1636 \t train = 0.1704 \t time = 108.94s\tProc 25%\tProc 50%\tProc 75%\n",
      "Epoch 1 test loss = 0.1627 \t train = 0.1681 \t time = 119.51s\tProc 25%\tProc 50%\tProc 75%\n",
      "Epoch 2 test loss = 0.1583 \t train = 0.1662 \t time = 121.71s\tProc 25%\tProc 50%\tProc 75%\n",
      "Epoch 3 test loss = 0.1562 \t train = 0.1634 \t time = 118.84s\tProc 25%\tProc 50%\tProc 75%\n",
      "Epoch 4 test loss = 0.1537 \t train = 0.1609 \t time = 125.57s\tProc 25%\tProc 50%\tProc 75%\n",
      "Epoch 5 test loss = 0.1284 \t train = 0.1541 \t time = 114.95s\tProc 25%\tProc 50%\tProc 75%\n",
      "Epoch 6 test loss = 0.1116 \t train = 0.1237 \t time = 124.33s\tProc 25%\tProc 50%\tProc 75%\n",
      "Epoch 7 test loss = 0.0442 \t train = 0.0867 \t time = 115.29s\tProc 25%\tProc 50%\tProc 75%\n",
      "Epoch 8 test loss = 0.0219 \t train = 0.0330 \t time = 125.46s\tProc 25%\tProc 50%\tProc 75%\n",
      "Epoch 9 test loss = 0.0306 \t train = 0.0143 \t time = 119.32s\tProc 25%\tProc 50%\tProc 75%\n",
      "Epoch 10 test loss = 0.0071 \t train = 0.0098 \t time = 121.23s\tProc 25%\tProc 50%\tProc 75%\n",
      "Epoch 11 test loss = 0.0076 \t train = 0.0078 \t time = 129.11s\tProc 25%\tProc 50%\tProc 75%\n",
      "Epoch 12 test loss = 0.0089 \t train = 0.0066 \t time = 121.18s\tProc 25%\tProc 50%\tProc 75%\n",
      "Epoch 13 test loss = 0.0059 \t train = 0.0059 \t time = 124.29s\tProc 25%\tProc 50%\tProc 75%\n",
      "Epoch 14 test loss = 0.0051 \t train = 0.0053 \t time = 132.20s\tProc 25%\tProc 50%\tProc 75%\n",
      "Epoch 15 test loss = 0.0053 \t train = 0.0048 \t time = 121.25s\tProc 25%\tProc 50%\tProc 75%\n",
      "Epoch 16 test loss = 0.0042 \t train = 0.0044 \t time = 124.57s\tProc 25%\tProc 50%\tProc 75%\n",
      "Epoch 17 test loss = 0.0047 \t train = 0.0042 \t time = 122.71s\tProc 25%\tProc 50%\tProc 75%\n",
      "Epoch 18 test loss = 0.0059 \t train = 0.0039 \t time = 120.55s\tProc 25%\tProc 50%\tProc 75%\n",
      "Epoch 19 test loss = 0.0035 \t train = 0.0037 \t time = 128.43s\tProc 25%\tProc 50%\tProc 75%\n",
      "Epoch 20 test loss = 0.0034 \t train = 0.0035 \t time = 115.44s\tProc 25%\tProc 50%\tProc 75%\n",
      "Epoch 21 test loss = 0.0033 \t train = 0.0034 \t time = 124.21s\tProc 25%\tProc 50%\tProc 75%\n",
      "Epoch 22 test loss = 0.0034 \t train = 0.0032 \t time = 130.72s\tProc 25%\tProc 50%\tProc 75%\n",
      "Epoch 23 test loss = 0.0036 \t train = 0.0031 \t time = 119.76s\tProc 25%\tProc 50%\tProc 75%\n",
      "Epoch 24 test loss = 0.0029 \t train = 0.0030 \t time = 129.75s\tProc 25%\tProc 50%\tProc 75%\n",
      "Epoch 25 test loss = 0.0032 \t train = 0.0029 \t time = 126.26s\tProc 25%\tProc 50%\tProc 75%\n",
      "Epoch 26 test loss = 0.0028 \t train = 0.0028 \t time = 116.43s\tProc 25%\tProc 50%\tProc 75%\n",
      "Epoch 27 test loss = 0.0029 \t train = 0.0027 \t time = 132.63s\tProc 25%\tProc 50%\tProc 75%\n",
      "Epoch 28 test loss = 0.0032 \t train = 0.0026 \t time = 133.91s\tProc 25%\tProc 50%\tProc 75%\n",
      "Epoch 29 test loss = 0.0028 \t train = 0.0025 \t time = 133.52s\tProc 25%\tProc 50%\tProc 75%\n",
      "Epoch 30 test loss = 0.0029 \t train = 0.0025 \t time = 117.01s\tProc 25%\tProc 50%\tProc 75%\n",
      "Epoch 31 test loss = 0.0026 \t train = 0.0024 \t time = 130.27s\tProc 25%\tProc 50%\tProc 75%\n",
      "Epoch 32 test loss = 0.0024 \t train = 0.0023 \t time = 132.14s\tProc 25%\tProc 50%\tProc 75%\n",
      "Epoch 33 test loss = 0.0024 \t train = 0.0023 \t time = 137.47s\tProc 25%\tProc 50%\tProc 75%\n",
      "Epoch 34 test loss = 0.0023 \t train = 0.0022 \t time = 121.41s\tProc 25%\tProc 50%\tProc 75%\n",
      "Epoch 35 test loss = 0.0024 \t train = 0.0022 \t time = 125.14s\tProc 25%\tProc 50%\tProc 75%\n",
      "Epoch 36 test loss = 0.0032 \t train = 0.0021 \t time = 126.33s\tProc 25%\tProc 50%\tProc 75%\n",
      "Epoch 37 test loss = 0.0022 \t train = 0.0021 \t time = 115.94s\tProc 25%\tProc 50%\tProc 75%\n",
      "Epoch 38 test loss = 0.0021 \t train = 0.0020 \t time = 128.90s\tProc 25%\tProc 50%\tProc 75%\n",
      "Epoch 39 test loss = 0.0024 \t train = 0.0020 \t time = 129.98s\tProc 25%\tProc 50%\tProc 75%\n",
      "Epoch 40 test loss = 0.0020 \t train = 0.0019 \t time = 118.18s\tProc 25%\tProc 50%\tProc 75%\n",
      "Epoch 41 test loss = 0.0019 \t train = 0.0019 \t time = 126.61s\tProc 25%\tProc 50%\tProc 75%\n",
      "Epoch 42 test loss = 0.0019 \t train = 0.0019 \t time = 120.43s\tProc 25%\tProc 50%\tProc 75%\n",
      "Epoch 43 test loss = 0.0021 \t train = 0.0018 \t time = 124.19s\tProc 25%\tProc 50%\tProc 75%\n",
      "Epoch 44 test loss = 0.0019 \t train = 0.0018 \t time = 125.88s\tProc 25%\tProc 50%\tProc 75%\n",
      "Epoch 45 test loss = 0.0019 \t train = 0.0018 \t time = 120.47s\tProc 25%\tProc 50%\tProc 75%\n",
      "Epoch 46 test loss = 0.0018 \t train = 0.0017 \t time = 129.60s\tProc 25%\tProc 50%\tProc 75%\n",
      "Epoch 47 test loss = 0.0025 \t train = 0.0017 \t time = 127.10s\tProc 25%\tProc 50%\tProc 75%\n",
      "Epoch 48 test loss = 0.0017 \t train = 0.0016 \t time = 119.44s\tProc 25%\tProc 50%\tProc 75%\n",
      "Epoch 49 test loss = 0.0022 \t train = 0.0016 \t time = 127.47s\t"
     ]
    }
   ],
   "source": [
    "net, inp, tar = create_network(build_network_identity, seq_len=100)\n",
    "irnn100 = train(net, inp, tar, train_data[100][\"x\"], train_data[100][\"y\"],\n",
    "                      test_data[100][\"x\"], test_data[100][\"y\"], \"irnn100\", num_epochs=50)"
   ]
  },
  {
   "cell_type": "code",
   "execution_count": 84,
   "metadata": {
    "collapsed": false,
    "scrolled": true
   },
   "outputs": [
    {
     "name": "stdout",
     "output_type": "stream",
     "text": [
      "Building network ...\n",
      "The network has 10501 params\n",
      "Computing updates ...\n",
      "Compiling functions ...\n",
      "Proc 25%\tProc 50%\tProc 75%\n",
      "Epoch 0 test loss = 0.1639 \t train = 0.1767 \t time = 106.27s\tProc 25%\tProc 50%\tProc 75%\n",
      "Epoch 1 test loss = 0.1639 \t train = 0.1674 \t time = 130.86s\tProc 25%\tProc 50%\tProc 75%\n",
      "Epoch 2 test loss = 0.1639 \t train = 0.1673 \t time = 139.61s\tProc 25%\tProc 50%\tProc 75%\n",
      "Epoch 3 test loss = 0.1638 \t train = 0.1672 \t time = 132.15s\tProc 25%\tProc 50%\tProc 75%\n",
      "Epoch 4 test loss = 0.1642 \t train = 0.1672 \t time = 129.40s\tProc 25%\tProc 50%\tProc 75%\n",
      "Epoch 5 test loss = 0.1637 \t train = 0.1672 \t time = 130.73s\tProc 25%\tProc 50%\tProc 75%\n",
      "Epoch 6 test loss = 0.1647 \t train = 0.1671 \t time = 116.48s\tProc 25%\tProc 50%\tProc 75%\n",
      "Epoch 7 test loss = 0.1637 \t train = 0.1671 \t time = 127.13s\tProc 25%\tProc 50%\tProc 75%\n",
      "Epoch 8 test loss = 0.1637 \t train = 0.1671 \t time = 122.70s\tProc 25%\tProc 50%\tProc 75%\n",
      "Epoch 9 test loss = 0.1637 \t train = 0.1670 \t time = 129.24s\tProc 25%\tProc 50%\tProc 75%\n",
      "Epoch 10 test loss = 0.1636 \t train = 0.1670 \t time = 121.96s\tProc 25%\tProc 50%\tProc 75%\n",
      "Epoch 11 test loss = 0.1638 \t train = 0.1670 \t time = 125.11s\tProc 25%\tProc 50%\tProc 75%\n",
      "Epoch 12 test loss = 0.1642 \t train = 0.1670 \t time = 123.40s\tProc 25%\tProc 50%\tProc 75%\n",
      "Epoch 13 test loss = 0.1643 \t train = 0.1669 \t time = 122.58s\tProc 25%\tProc 50%\tProc 75%\n",
      "Epoch 14 test loss = 0.1642 \t train = 0.1669 \t time = 126.40s\tProc 25%\tProc 50%\tProc 75%\n",
      "Epoch 15 test loss = 0.1637 \t train = 0.1669 \t time = 120.12s\tProc 25%\tProc 50%\tProc 75%\n",
      "Epoch 16 test loss = 0.1636 \t train = 0.1668 \t time = 128.01s\tProc 25%\tProc 50%\tProc 75%\n",
      "Epoch 17 test loss = 0.1634 \t train = 0.1668 \t time = 118.14s\tProc 25%\tProc 50%\tProc 75%\n",
      "Epoch 18 test loss = 0.1634 \t train = 0.1668 \t time = 127.32s\tProc 25%\tProc 50%\tProc 75%\n",
      "Epoch 19 test loss = 0.1633 \t train = 0.1667 \t time = 120.99s\tProc 25%\tProc 50%\tProc 75%\n",
      "Epoch 20 test loss = 0.1636 \t train = 0.1666 \t time = 122.55s\tProc 25%\tProc 50%\tProc 75%\n",
      "Epoch 21 test loss = 0.1632 \t train = 0.1666 \t time = 122.60s\tProc 25%\tProc 50%\tProc 75%\n",
      "Epoch 22 test loss = 0.1654 \t train = 0.1666 \t time = 123.43s\tProc 25%\tProc 50%\tProc 75%\n",
      "Epoch 23 test loss = 0.1630 \t train = 0.1664 \t time = 128.06s\tProc 25%\tProc 50%\tProc 75%\n",
      "Epoch 24 test loss = 0.1641 \t train = 0.1664 \t time = 123.72s\tProc 25%\tProc 50%\tProc 75%\n",
      "Epoch 25 test loss = 0.1628 \t train = 0.1662 \t time = 128.32s\tProc 25%\tProc 50%\tProc 75%\n",
      "Epoch 26 test loss = 0.1636 \t train = 0.1662 \t time = 117.87s\tProc 25%\tProc 50%\tProc 75%\n",
      "Epoch 27 test loss = 0.1627 \t train = 0.1661 \t time = 129.79s\tProc 25%\tProc 50%\tProc 75%\n",
      "Epoch 28 test loss = 0.1631 \t train = 0.1660 \t time = 122.19s\tProc 25%\tProc 50%\tProc 75%\n",
      "Epoch 29 test loss = 0.1627 \t train = 0.1658 \t time = 122.79s\tProc 25%\tProc 50%\tProc 75%\n",
      "Epoch 30 test loss = 0.1618 \t train = 0.1656 \t time = 126.20s\tProc 25%\tProc 50%\tProc 75%\n",
      "Epoch 31 test loss = 0.1621 \t train = 0.1654 \t time = 122.51s\tProc 25%\tProc 50%\tProc 75%\n",
      "Epoch 32 test loss = 0.1618 \t train = 0.1652 \t time = 127.46s\tProc 25%\tProc 50%\tProc 75%\n",
      "Epoch 33 test loss = 0.1607 \t train = 0.1649 \t time = 117.15s\tProc 25%\tProc 50%\tProc 75%\n",
      "Epoch 34 test loss = 0.1608 \t train = 0.1646 \t time = 127.51s\tProc 25%\tProc 50%\tProc 75%\n",
      "Epoch 35 test loss = 0.1633 \t train = 0.1641 \t time = 118.24s\tProc 25%\tProc 50%\tProc 75%\n",
      "Epoch 36 test loss = 0.1589 \t train = 0.1636 \t time = 129.41s\tProc 25%\tProc 50%\tProc 75%\n",
      "Epoch 37 test loss = 0.1606 \t train = 0.1626 \t time = 117.49s\tProc 25%\tProc 50%\tProc 75%\n",
      "Epoch 38 test loss = 0.1661 \t train = 0.1610 \t time = 128.61s\tProc 25%\tProc 50%\tProc 75%\n",
      "Epoch 39 test loss = 0.1440 \t train = 0.1579 \t time = 130.27s\tProc 25%\tProc 50%\tProc 75%\n",
      "Epoch 40 test loss = 0.1304 \t train = 0.1533 \t time = 118.36s\tProc 25%\tProc 50%\tProc 75%\n",
      "Epoch 41 test loss = 0.0667 \t train = 0.1384 \t time = 132.07s\tProc 25%\tProc 50%\tProc 75%\n",
      "Epoch 42 test loss = 0.0530 \t train = 0.0810 \t time = 121.85s\tProc 25%\tProc 50%\tProc 75%\n",
      "Epoch 43 test loss = 0.0468 \t train = 0.0695 \t time = 127.70s\tProc 25%\tProc 50%\tProc 75%\n",
      "Epoch 44 test loss = 0.0445 \t train = 0.0650 \t time = 135.66s\tProc 25%\tProc 50%\tProc 75%\n",
      "Epoch 45 test loss = 0.0632 \t train = 0.0599 \t time = 121.79s\tProc 25%\tProc 50%\tProc 75%\n",
      "Epoch 46 test loss = 0.0357 \t train = 0.0548 \t time = 129.51s\tProc 25%\tProc 50%\tProc 75%\n",
      "Epoch 47 test loss = 0.0306 \t train = 0.0493 \t time = 134.48s\tProc 25%\tProc 50%\tProc 75%\n",
      "Epoch 48 test loss = 0.0523 \t train = 0.0440 \t time = 122.67s\tProc 25%\tProc 50%\tProc 75%\n",
      "Epoch 49 test loss = 0.0465 \t train = 0.0392 \t time = 124.57s\t"
     ]
    }
   ],
   "source": [
    "net, inp, tar = create_network(build_network_np, seq_len=100)\n",
    "nprnn100 = train(net, inp, tar, train_data[100][\"x\"], train_data[100][\"y\"],\n",
    "                      test_data[100][\"x\"], test_data[100][\"y\"], \"nprnn100\", num_epochs=50)"
   ]
  },
  {
   "cell_type": "code",
   "execution_count": null,
   "metadata": {
    "collapsed": true
   },
   "outputs": [],
   "source": []
  },
  {
   "cell_type": "code",
   "execution_count": 85,
   "metadata": {
    "collapsed": false
   },
   "outputs": [
    {
     "data": {
      "text/plain": [
       "<matplotlib.legend.Legend at 0x7fc4a88fc898>"
      ]
     },
     "execution_count": 85,
     "metadata": {},
     "output_type": "execute_result"
    },
    {
     "data": {
      "image/png": "[encoded data removed]",
      "text/plain": [
       "<matplotlib.figure.Figure at 0x7fc4ad39c668>"
      ]
     },
     "metadata": {},
     "output_type": "display_data"
    }
   ],
   "source": [
    "plt.figure(figsize=(7, 5))\n",
    "plt.title(\"Test loss MSE seq len = 100\")\n",
    "plt.xlabel(\"epoch\")\n",
    "plt.plot(srnn100[\"test_err\"], label=\"sRNN\")\n",
    "plt.plot(irnn100[\"test_err\"], label=\"IRNN\")\n",
    "plt.plot(nprnn100[\"test_err\"], label=\"npRNN\")\n",
    "plt.legend()"
   ]
  },
  {
   "cell_type": "code",
   "execution_count": null,
   "metadata": {
    "collapsed": true
   },
   "outputs": [],
   "source": []
  },
  {
   "cell_type": "code",
   "execution_count": null,
   "metadata": {
    "collapsed": true
   },
   "outputs": [],
   "source": []
  },
  {
   "cell_type": "markdown",
   "metadata": {},
   "source": [
    "### Sequence length is 150"
   ]
  },
  {
   "cell_type": "code",
   "execution_count": 16,
   "metadata": {
    "collapsed": false,
    "scrolled": true
   },
   "outputs": [
    {
     "name": "stdout",
     "output_type": "stream",
     "text": [
      "Building network ...\n",
      "The network has 10501 params\n",
      "Computing updates ...\n",
      "Compiling functions ...\n",
      "Proc 25%\tProc 50%\tProc 75%\n",
      "Epoch 0 test loss = 0.1681 \t train = 0.1914 \t time = 177.59s\tProc 25%\tProc 50%\tProc 75%\n",
      "Epoch 1 test loss = 0.1658 \t train = 0.1666 \t time = 188.49s\tProc 25%\tProc 50%\tProc 75%\n",
      "Epoch 2 test loss = 0.1653 \t train = 0.1657 \t time = 188.88s\tProc 25%\tProc 50%\tProc 75%\n",
      "Epoch 3 test loss = 0.1652 \t train = 0.1655 \t time = 188.93s\tProc 25%\tProc 50%\tProc 75%\n",
      "Epoch 4 test loss = 0.1651 \t train = 0.1654 \t time = 188.98s\tProc 25%\tProc 50%\tProc 75%\n",
      "Epoch 5 test loss = 0.1650 \t train = 0.1653 \t time = 188.69s\tProc 25%\tProc 50%\tProc 75%\n",
      "Epoch 6 test loss = 0.1649 \t train = 0.1652 \t time = 188.33s\tProc 25%\tProc 50%\tProc 75%\n",
      "Epoch 7 test loss = 0.1649 \t train = 0.1652 \t time = 188.18s\tProc 25%\tProc 50%\tProc 75%\n",
      "Epoch 8 test loss = 0.1649 \t train = 0.1651 \t time = 188.06s\tProc 25%\tProc 50%\tProc 75%\n",
      "Epoch 9 test loss = 0.1649 \t train = 0.1651 \t time = 188.11s\tProc 25%\tProc 50%\tProc 75%\n",
      "Epoch 10 test loss = 0.1649 \t train = 0.1651 \t time = 188.12s\tProc 25%\tProc 50%\tProc 75%\n",
      "Epoch 11 test loss = 0.1649 \t train = 0.1651 \t time = 188.74s\tProc 25%\tProc 50%\tProc 75%\n",
      "Epoch 12 test loss = 0.1648 \t train = 0.1650 \t time = 187.99s\tProc 25%\tProc 50%\tProc 75%\n",
      "Epoch 13 test loss = 0.1648 \t train = 0.1650 \t time = 188.18s\tProc 25%\tProc 50%\tProc 75%\n",
      "Epoch 14 test loss = 0.1649 \t train = 0.1650 \t time = 189.73s\tProc 25%\tProc 50%\tProc 75%\n",
      "Epoch 15 test loss = 0.1648 \t train = 0.1649 \t time = 187.23s\tProc 25%\tProc 50%\tProc 75%\n",
      "Epoch 16 test loss = 0.1647 \t train = 0.1649 \t time = 188.29s\tProc 25%\tProc 50%\tProc 75%\n",
      "Epoch 17 test loss = 0.1647 \t train = 0.1649 \t time = 187.25s\tProc 25%\tProc 50%\tProc 75%\n",
      "Epoch 18 test loss = 0.1647 \t train = 0.1649 \t time = 188.80s\tProc 25%\tProc 50%\tProc 75%\n",
      "Epoch 19 test loss = 0.1646 \t train = 0.1649 \t time = 188.91s\tProc 25%\tProc 50%\tProc 75%\n",
      "Epoch 20 test loss = 0.1646 \t train = 0.1648 \t time = 187.78s\tProc 25%\tProc 50%\tProc 75%\n",
      "Epoch 21 test loss = 0.1646 \t train = 0.1648 \t time = 187.03s\tProc 25%\tProc 50%\tProc 75%\n",
      "Epoch 22 test loss = 0.1645 \t train = 0.1648 \t time = 188.69s\tProc 25%\tProc 50%\tProc 75%\n",
      "Epoch 23 test loss = 0.1651 \t train = 0.1647 \t time = 188.21s\tProc 25%\tProc 50%\tProc 75%\n",
      "Epoch 24 test loss = 0.1645 \t train = 0.1647 \t time = 188.04s\tProc 25%\tProc 50%\tProc 75%\n",
      "Epoch 25 test loss = 0.1645 \t train = 0.1647 \t time = 187.19s\tProc 25%\tProc 50%\tProc 75%\n",
      "Epoch 26 test loss = 0.1646 \t train = 0.1647 \t time = 187.79s\tProc 25%\tProc 50%\tProc 75%\n",
      "Epoch 27 test loss = 0.1647 \t train = 0.1646 \t time = 188.23s\tProc 25%\tProc 50%\tProc 75%\n",
      "Epoch 28 test loss = 0.1645 \t train = 0.1646 \t time = 188.03s\tProc 25%\tProc 50%\tProc 75%\n",
      "Epoch 29 test loss = 0.1644 \t train = 0.1646 \t time = 188.05s\tProc 25%\tProc 50%\tProc 75%\n",
      "Epoch 30 test loss = 0.1643 \t train = 0.1645 \t time = 187.66s\tProc 25%\tProc 50%\tProc 75%\n",
      "Epoch 31 test loss = 0.1643 \t train = 0.1645 \t time = 189.05s\tProc 25%\tProc 50%\tProc 75%\n",
      "Epoch 32 test loss = 0.1643 \t train = 0.1645 \t time = 189.13s\tProc 25%\tProc 50%\tProc 75%\n",
      "Epoch 33 test loss = 0.1642 \t train = 0.1644 \t time = 188.77s\tProc 25%\tProc 50%\tProc 75%\n",
      "Epoch 34 test loss = 0.1642 \t train = 0.1644 \t time = 186.99s\tProc 25%\tProc 50%\tProc 75%\n",
      "Epoch 35 test loss = 0.1642 \t train = 0.1644 \t time = 188.22s\tProc 25%\tProc 50%\tProc 75%\n",
      "Epoch 36 test loss = 0.1642 \t train = 0.1644 \t time = 188.11s\tProc 25%\tProc 50%\tProc 75%\n",
      "Epoch 37 test loss = 0.1641 \t train = 0.1643 \t time = 188.05s\tProc 25%\tProc 50%\tProc 75%\n",
      "Epoch 38 test loss = 0.1641 \t train = 0.1643 \t time = 188.55s\tProc 25%\tProc 50%\tProc 75%\n",
      "Epoch 39 test loss = 0.1641 \t train = 0.1643 \t time = 188.65s\tProc 25%\tProc 50%\tProc 75%\n",
      "Epoch 40 test loss = 0.1640 \t train = 0.1642 \t time = 187.98s\tProc 25%\tProc 50%\tProc 75%\n",
      "Epoch 41 test loss = 0.1639 \t train = 0.1642 \t time = 187.10s\tProc 25%\tProc 50%\tProc 75%\n",
      "Epoch 42 test loss = 0.1639 \t train = 0.1641 \t time = 187.30s\tProc 25%\tProc 50%\tProc 75%\n",
      "Epoch 43 test loss = 0.1640 \t train = 0.1641 \t time = 187.27s\tProc 25%\tProc 50%\tProc 75%\n",
      "Epoch 44 test loss = 0.1639 \t train = 0.1641 \t time = 187.16s\tProc 25%\tProc 50%\tProc 75%\n",
      "Epoch 45 test loss = 0.1638 \t train = 0.1640 \t time = 187.07s\tProc 25%\tProc 50%\tProc 75%\n",
      "Epoch 46 test loss = 0.1639 \t train = 0.1639 \t time = 186.92s\tProc 25%\tProc 50%\tProc 75%\n",
      "Epoch 47 test loss = 0.1637 \t train = 0.1639 \t time = 188.64s\tProc 25%\tProc 50%\tProc 75%\n",
      "Epoch 48 test loss = 0.1636 \t train = 0.1638 \t time = 188.81s\tProc 25%\tProc 50%\tProc 75%\n",
      "Epoch 49 test loss = 0.1637 \t train = 0.1638 \t time = 188.15s\tProc 25%\tProc 50%\tProc 75%\n",
      "Epoch 50 test loss = 0.1636 \t train = 0.1637 \t time = 186.85s\tProc 25%\tProc 50%\tProc 75%\n",
      "Epoch 51 test loss = 0.1635 \t train = 0.1636 \t time = 187.01s\tProc 25%\tProc 50%\tProc 75%\n",
      "Epoch 52 test loss = 0.1634 \t train = 0.1636 \t time = 187.21s\tProc 25%\tProc 50%\tProc 75%\n",
      "Epoch 53 test loss = 0.1633 \t train = 0.1635 \t time = 186.95s\tProc 25%\tProc 50%\tProc 75%\n",
      "Epoch 54 test loss = 0.1635 \t train = 0.1634 \t time = 187.99s\tProc 25%\tProc 50%\tProc 75%\n",
      "Epoch 55 test loss = 0.1632 \t train = 0.1633 \t time = 188.08s\tProc 25%\tProc 50%\tProc 75%\n",
      "Epoch 56 test loss = 0.1630 \t train = 0.1632 \t time = 187.00s\tProc 25%\tProc 50%\tProc 75%\n",
      "Epoch 57 test loss = 0.1629 \t train = 0.1631 \t time = 186.94s\tProc 25%\tProc 50%\tProc 75%\n",
      "Epoch 58 test loss = 0.1628 \t train = 0.1630 \t time = 188.13s\tProc 25%\tProc 50%\tProc 75%\n",
      "Epoch 59 test loss = 0.1628 \t train = 0.1628 \t time = 188.50s\tProc 25%\tProc 50%\tProc 75%\n",
      "Epoch 60 test loss = 0.1624 \t train = 0.1627 \t time = 188.04s\tProc 25%\tProc 50%\tProc 75%\n",
      "Epoch 61 test loss = 0.1621 \t train = 0.1624 \t time = 187.19s\tProc 25%\tProc 50%\tProc 75%\n",
      "Epoch 62 test loss = 0.1618 \t train = 0.1621 \t time = 188.00s\tProc 25%\tProc 50%\tProc 75%\n",
      "Epoch 63 test loss = 0.1613 \t train = 0.1617 \t time = 188.01s\tProc 25%\tProc 50%\tProc 75%\n",
      "Epoch 64 test loss = 0.1606 \t train = 0.1612 \t time = 188.23s\tProc 25%\tProc 50%\tProc 75%\n",
      "Epoch 65 test loss = 0.1610 \t train = 0.1599 \t time = 187.93s\tProc 25%\tProc 50%\tProc 75%\n",
      "Epoch 66 test loss = 0.1497 \t train = 0.1557 \t time = 187.92s\tProc 25%\tProc 50%\tProc 75%\n",
      "Epoch 67 test loss = 0.1522 \t train = 0.1530 \t time = 188.94s\tProc 25%\tProc 50%\tProc 75%\n",
      "Epoch 68 test loss = 0.1885 \t train = 0.1519 \t time = 189.30s\tProc 25%\tProc 50%\tProc 75%\n",
      "Epoch 69 test loss = 0.0739 \t train = 0.1398 \t time = 189.02s\tProc 25%\tProc 50%\tProc 75%\n",
      "Epoch 70 test loss = 0.0638 \t train = 0.0857 \t time = 189.64s\tProc 25%\tProc 50%\tProc 75%\n",
      "Epoch 71 test loss = 0.0603 \t train = 0.0800 \t time = 189.85s\tProc 25%\tProc 50%\tProc 75%\n",
      "Epoch 72 test loss = 0.0583 \t train = 0.0773 \t time = 189.85s\tProc 25%\tProc 50%\tProc 75%\n",
      "Epoch 73 test loss = 0.0630 \t train = 0.0748 \t time = 189.90s\tProc 25%\tProc 50%\tProc 75%\n",
      "Epoch 74 test loss = 0.0576 \t train = 0.0746 \t time = 189.03s\tProc 25%\tProc 50%\tProc 75%\n",
      "Epoch 75 test loss = 0.1578 \t train = 0.0733 \t time = 188.54s\tProc 25%\tProc 50%\tProc 75%\n",
      "Epoch 76 test loss = 0.0716 \t train = 0.0725 \t time = 189.09s\tProc 25%\tProc 50%\tProc 75%\n",
      "Epoch 77 test loss = 0.0804 \t train = 0.0713 \t time = 189.74s\tProc 25%\tProc 50%\tProc 75%\n",
      "Epoch 78 test loss = 0.0491 \t train = 0.0683 \t time = 190.30s\tProc 25%\tProc 50%\tProc 75%\n",
      "Epoch 79 test loss = 0.0450 \t train = 0.0663 \t time = 190.07s\t"
     ]
    }
   ],
   "source": [
    "net, inp, tar = create_network(build_network_gaus, seq_len=150)\n",
    "srnn150 = train(net, inp, tar, train_data[150][\"x\"], train_data[150][\"y\"],\n",
    "                      test_data[150][\"x\"], test_data[150][\"y\"], \"srnn150\", num_epochs=80)"
   ]
  },
  {
   "cell_type": "code",
   "execution_count": null,
   "metadata": {
    "collapsed": false,
    "scrolled": true
   },
   "outputs": [
    {
     "name": "stdout",
     "output_type": "stream",
     "text": [
      "Building network ...\n",
      "The network has 10501 params\n",
      "Computing updates ...\n",
      "Compiling functions ...\n",
      "Proc 25%\tProc 50%\tProc 75%\n",
      "Epoch 0 test loss = 0.1660 \t train = 0.1702 \t time = 206.27s\tProc 25%\tProc 50%\tProc 75%\n",
      "Epoch 1 test loss = 0.1669 \t train = 0.1663 \t time = 199.82s\tProc 25%\tProc 50%\tProc 75%\n",
      "Epoch 2 test loss = 0.1659 \t train = 0.1664 \t time = 207.24s\tProc 25%\tProc 50%\tProc 75%\n",
      "Epoch 3 test loss = 0.1654 \t train = 0.1667 \t time = 212.40s\tProc 25%\tProc 50%\tProc 75%\n",
      "Epoch 4 test loss = 0.1671 \t train = 0.1665 \t time = 192.68s\tProc 25%\tProc 50%\tProc 75%\n",
      "Epoch 5 test loss = 0.1637 \t train = 0.1661 \t time = 193.61s\tProc 25%\tProc 50%\tProc 75%\n",
      "Epoch 6 test loss = 0.1655 \t train = 0.1656 \t time = 188.94s\tProc 25%\tProc 50%\tProc 75%\n",
      "Epoch 7 test loss = 0.1665 \t train = 0.1640 \t time = 187.99s\tProc 25%\tProc 50%\tProc 75%\n",
      "Epoch 8 test loss = 0.1642 \t train = 0.1626 \t time = 188.51s\tProc 25%\tProc 50%\tProc 75%\n",
      "Epoch 9 test loss = 0.1611 \t train = 0.1624 \t time = 189.13s\tProc 25%\tProc 50%\tProc 75%\n",
      "Epoch 10 test loss = 0.1616 \t train = 0.1628 \t time = 188.86s\tProc 25%\tProc 50%\tProc 75%\n",
      "Epoch 11 test loss = 0.1611 \t train = 0.1621 \t time = 188.97s\tProc 25%\tProc 50%\tProc 75%\n",
      "Epoch 12 test loss = 0.1630 \t train = 0.1619 \t time = 189.48s\tProc 25%\tProc 50%\tProc 75%\n",
      "Epoch 13 test loss = 0.1618 \t train = 0.1613 \t time = 189.40s\tProc 25%\tProc 50%\tProc 75%\n",
      "Epoch 14 test loss = 0.1608 \t train = 0.1611 \t time = 188.68s\tProc 25%\tProc 50%\tProc 75%\n",
      "Epoch 15 test loss = 0.1598 \t train = 0.1608 \t time = 189.46s\tProc 25%\tProc 50%\tProc 75%\n",
      "Epoch 16 test loss = 0.1596 \t train = 0.1603 \t time = 188.05s\tProc 25%\tProc 50%\tProc 75%\n",
      "Epoch 17 test loss = 0.1576 \t train = 0.1592 \t time = 189.44s\tProc 25%\tProc 50%\tProc 75%\n",
      "Epoch 18 test loss = 0.1332 \t train = 0.2406 \t time = 189.57s\tProc 25%\tProc 50%\tProc 75%\n",
      "Epoch 19 test loss = 0.0700 \t train = 11.1733 \t time = 189.55s\tProc 25%\tProc 50%\tProc 75%\n",
      "Epoch 20 test loss = 0.0436 \t train = 734.0029 \t time = 189.15s\tProc 25%\tProc 50%\tProc 75%\n",
      "Epoch 21 test loss = 0.0247 \t train = 0.0426 \t time = 189.23s\tProc 25%\tProc 50%\tProc 75%\n",
      "Epoch 22 test loss = 0.0233 \t train = 0.0236 \t time = 189.17s\tProc 25%\tProc 50%\tProc 75%\n",
      "Epoch 23 test loss = 0.0104 \t train = 0.0163 \t time = 188.97s\tProc 25%\tProc 50%\tProc 75%\n",
      "Epoch 24 test loss = 0.0103 \t train = 0.0123 \t time = 188.96s\tProc 25%\tProc 50%\tProc 75%\n",
      "Epoch 25 test loss = 0.0070 \t train = 0.0101 \t time = 188.46s\tProc 25%\tProc 50%\tProc 75%\n",
      "Epoch 26 test loss = 0.0104 \t train = 0.0084 \t time = 188.66s\tProc 25%\tProc 50%\tProc 75%\n",
      "Epoch 27 test loss = 0.0060 \t train = 0.0071 \t time = 188.73s\tProc 25%\tProc 50%\tProc 75%\n",
      "Epoch 28 test loss = 0.0056 \t train = 0.0061 \t time = 188.98s\tProc 25%\tProc 50%\tProc 75%\n",
      "Epoch 29 test loss = 0.0038 \t train = 0.0054 \t time = 188.65s\tProc 25%\tProc 50%\tProc 75%\n",
      "Epoch 30 test loss = 0.0036 \t train = 0.0048 \t time = 188.75s\tProc 25%\tProc 50%\tProc 75%\n",
      "Epoch 31 test loss = 0.0037 \t train = 0.0043 \t time = 188.72s\tProc 25%\tProc 50%\tProc 75%\n",
      "Epoch 32 test loss = 0.0032 \t train = 0.0042 \t time = 188.93s\tProc 25%\tProc 50%\tProc 75%\n",
      "Epoch 33 test loss = 0.0044 \t train = 0.0037 \t time = 188.79s\tProc 25%\tProc 50%\tProc 75%\n",
      "Epoch 34 test loss = 0.0033 \t train = 0.0035 \t time = 189.50s\tProc 25%\tProc 50%\tProc 75%\n",
      "Epoch 35 test loss = 0.0027 \t train = 0.0031 \t time = 188.65s\tProc 25%\tProc 50%\tProc 75%\n",
      "Epoch 36 test loss = 0.0023 \t train = 0.0030 \t time = 188.63s\tProc 25%\tProc 50%\tProc 75%\n",
      "Epoch 37 test loss = 0.0026 \t train = 0.0028 \t time = 188.72s\tProc 25%\tProc 50%\tProc 75%\n",
      "Epoch 38 test loss = 0.0022 \t train = 0.0028 \t time = 188.79s\tProc 25%\tProc 50%\tProc 75%\n",
      "Epoch 39 test loss = 0.0022 \t train = 0.0025 \t time = 189.31s\tProc 25%\tProc 50%\tProc 75%\n",
      "Epoch 40 test loss = 0.0020 \t train = 0.0025 \t time = 189.55s\tProc 25%\tProc 50%\tProc 75%\n",
      "Epoch 41 test loss = 0.0021 \t train = 0.0024 \t time = 189.49s\tProc 25%\tProc 50%\tProc 75%\n",
      "Epoch 42 test loss = 0.0020 \t train = 0.0022 \t time = 189.46s\tProc 25%\tProc 50%\tProc 75%\n",
      "Epoch 43 test loss = 0.0016 \t train = 0.0022 \t time = 189.53s\tProc 25%\tProc 50%\tProc 75%\n",
      "Epoch 44 test loss = 0.0017 \t train = 0.0020 \t time = 187.94s\tProc 25%\tProc 50%\tProc 75%\n",
      "Epoch 45 test loss = 0.0016 \t train = 0.0021 \t time = 187.84s\tProc 25%\tProc 50%\tProc 75%\n",
      "Epoch 46 test loss = 0.0020 \t train = 0.0019 \t time = 188.16s\tProc 25%\tProc 50%\tProc 75%\n",
      "Epoch 47 test loss = 0.0015 \t train = 0.0019 \t time = 188.60s\tProc 25%\tProc 50%\tProc 75%\n",
      "Epoch 48 test loss = 0.0020 \t train = 0.0018 \t time = 187.85s\tProc 25%\tProc 50%\tProc 75%\n",
      "Epoch 49 test loss = 0.0014 \t train = 0.0017 \t time = 187.90s\tProc 25%\tProc 50%\tProc 75%\n",
      "Epoch 50 test loss = 0.0015 \t train = 0.0017 \t time = 187.84s\tProc 25%\tProc 50%\tProc 75%\n",
      "Epoch 51 test loss = 0.0013 \t train = 0.0017 \t time = 187.95s\tProc 25%\tProc 50%\tProc 75%\n",
      "Epoch 52 test loss = 0.0019 \t train = 0.0017 \t time = 188.67s\tProc 25%\tProc 50%\tProc 75%\n",
      "Epoch 53 test loss = 0.0014 \t train = 0.0016 \t time = 189.02s\tProc 25%\t"
     ]
    }
   ],
   "source": [
    "net, inp, tar = create_network(build_network_identity, seq_len=150)\n",
    "irnn150 = train(net, inp, tar, train_data[150][\"x\"], train_data[150][\"y\"],\n",
    "                      test_data[150][\"x\"], test_data[150][\"y\"], \"irnn150\", num_epochs=80)"
   ]
  },
  {
   "cell_type": "code",
   "execution_count": 98,
   "metadata": {
    "collapsed": false
   },
   "outputs": [
    {
     "data": {
      "text/plain": [
       "909547.42112069449"
      ]
     },
     "execution_count": 98,
     "metadata": {},
     "output_type": "execute_result"
    }
   ],
   "source": [
    "irnn150[\"test_err\"][21]"
   ]
  },
  {
   "cell_type": "code",
   "execution_count": 99,
   "metadata": {
    "collapsed": false,
    "scrolled": true
   },
   "outputs": [
    {
     "name": "stdout",
     "output_type": "stream",
     "text": [
      "Building network ...\n",
      "The network has 10501 params\n",
      "Computing updates ...\n",
      "Compiling functions ...\n",
      "Proc 25%\tProc 50%\tProc 75%\n",
      "Epoch 0 test loss = 0.1622 \t train = 0.1736 \t time = 177.34s\tProc 25%\tProc 50%\tProc 75%\n",
      "Epoch 1 test loss = 0.1621 \t train = 0.1671 \t time = 187.77s\tProc 25%\tProc 50%\tProc 75%\n",
      "Epoch 2 test loss = 0.1622 \t train = 0.1670 \t time = 187.78s\tProc 25%\tProc 50%\tProc 75%\n",
      "Epoch 3 test loss = 0.1621 \t train = 0.1669 \t time = 187.73s\tProc 25%\tProc 50%\tProc 75%\n",
      "Epoch 4 test loss = 0.1621 \t train = 0.1669 \t time = 187.72s\tProc 25%\tProc 50%\tProc 75%\n",
      "Epoch 5 test loss = 0.1630 \t train = 0.1668 \t time = 187.76s\tProc 25%\tProc 50%\tProc 75%\n",
      "Epoch 6 test loss = 0.1621 \t train = 0.1667 \t time = 187.74s\tProc 25%\tProc 50%\tProc 75%\n",
      "Epoch 7 test loss = 0.1621 \t train = 0.1668 \t time = 187.78s\tProc 25%\tProc 50%\tProc 75%\n",
      "Epoch 8 test loss = 0.1632 \t train = 0.1667 \t time = 188.92s\tProc 25%\tProc 50%\tProc 75%\n",
      "Epoch 9 test loss = 0.1621 \t train = 0.1667 \t time = 186.89s\tProc 25%\tProc 50%\tProc 75%\n",
      "Epoch 10 test loss = 0.1622 \t train = 0.1667 \t time = 186.88s\tProc 25%\tProc 50%\tProc 75%\n",
      "Epoch 11 test loss = 0.1624 \t train = 0.1667 \t time = 187.76s\tProc 25%\tProc 50%\tProc 75%\n",
      "Epoch 12 test loss = 0.1621 \t train = 0.1667 \t time = 187.68s\tProc 25%\tProc 50%\tProc 75%\n",
      "Epoch 13 test loss = 0.1621 \t train = 0.1667 \t time = 187.81s\tProc 25%\tProc 50%\tProc 75%\n",
      "Epoch 14 test loss = 0.1621 \t train = 0.1666 \t time = 187.70s\tProc 25%\tProc 50%\tProc 75%\n",
      "Epoch 15 test loss = 0.1620 \t train = 0.1666 \t time = 187.67s\tProc 25%\tProc 50%\tProc 75%\n",
      "Epoch 16 test loss = 0.1620 \t train = 0.1666 \t time = 187.72s\tProc 25%\tProc 50%\tProc 75%\n",
      "Epoch 17 test loss = 0.1621 \t train = 0.1666 \t time = 187.67s\tProc 25%\tProc 50%\tProc 75%\n",
      "Epoch 18 test loss = 0.1623 \t train = 0.1665 \t time = 187.95s\tProc 25%\tProc 50%\tProc 75%\n",
      "Epoch 19 test loss = 0.1621 \t train = 0.1665 \t time = 186.90s\tProc 25%\tProc 50%\tProc 75%\n",
      "Epoch 20 test loss = 0.1624 \t train = 0.1665 \t time = 186.98s\tProc 25%\tProc 50%\tProc 75%\n",
      "Epoch 21 test loss = 0.1619 \t train = 0.1665 \t time = 186.89s\tProc 25%\tProc 50%\tProc 75%\n",
      "Epoch 22 test loss = 0.1619 \t train = 0.1664 \t time = 186.91s\tProc 25%\tProc 50%\tProc 75%\n",
      "Epoch 23 test loss = 0.1619 \t train = 0.1664 \t time = 186.93s\tProc 25%\tProc 50%\tProc 75%\n",
      "Epoch 24 test loss = 0.1621 \t train = 0.1664 \t time = 186.97s\tProc 25%\tProc 50%\tProc 75%\n",
      "Epoch 25 test loss = 0.1619 \t train = 0.1664 \t time = 189.55s\tProc 25%\tProc 50%\tProc 75%\n",
      "Epoch 26 test loss = 0.1618 \t train = 0.1664 \t time = 187.11s\tProc 25%\tProc 50%\tProc 75%\n",
      "Epoch 27 test loss = 0.1619 \t train = 0.1664 \t time = 187.56s\tProc 25%\tProc 50%\tProc 75%\n",
      "Epoch 28 test loss = 0.1618 \t train = 0.1663 \t time = 187.72s\tProc 25%\tProc 50%\tProc 75%\n",
      "Epoch 29 test loss = 0.1617 \t train = 0.1663 \t time = 186.85s\tProc 25%\tProc 50%\tProc 75%\n",
      "Epoch 30 test loss = 0.1618 \t train = 0.1662 \t time = 186.96s\tProc 25%\tProc 50%\tProc 75%\n",
      "Epoch 31 test loss = 0.1616 \t train = 0.1662 \t time = 186.83s\tProc 25%\tProc 50%\tProc 75%\n",
      "Epoch 32 test loss = 0.1616 \t train = 0.1661 \t time = 187.79s\tProc 25%\tProc 50%\tProc 75%\n",
      "Epoch 33 test loss = 0.1616 \t train = 0.1661 \t time = 188.24s\tProc 25%\tProc 50%\tProc 75%\n",
      "Epoch 34 test loss = 0.1617 \t train = 0.1661 \t time = 189.55s\tProc 25%\tProc 50%\tProc 75%\n",
      "Epoch 35 test loss = 0.1623 \t train = 0.1660 \t time = 189.52s\tProc 25%\tProc 50%\tProc 75%\n",
      "Epoch 36 test loss = 0.1615 \t train = 0.1659 \t time = 189.73s\tProc 25%\tProc 50%\tProc 75%\n",
      "Epoch 37 test loss = 0.1613 \t train = 0.1659 \t time = 188.22s\tProc 25%\tProc 50%\tProc 75%\n",
      "Epoch 38 test loss = 0.1611 \t train = 0.1659 \t time = 187.08s\tProc 25%\tProc 50%\tProc 75%\n",
      "Epoch 39 test loss = 0.1610 \t train = 0.1658 \t time = 187.05s\tProc 25%\tProc 50%\tProc 75%\n",
      "Epoch 40 test loss = 0.1615 \t train = 0.1656 \t time = 187.08s\tProc 25%\tProc 50%\tProc 75%\n",
      "Epoch 41 test loss = 0.1611 \t train = 0.1655 \t time = 187.02s\tProc 25%\tProc 50%\tProc 75%\n",
      "Epoch 42 test loss = 0.1603 \t train = 0.1653 \t time = 187.84s\tProc 25%\tProc 50%\tProc 75%\n",
      "Epoch 43 test loss = 0.1616 \t train = 0.1650 \t time = 188.21s\tProc 25%\tProc 50%\tProc 75%\n",
      "Epoch 44 test loss = 0.1613 \t train = 0.1645 \t time = 189.67s\tProc 25%\tProc 50%\tProc 75%\n",
      "Epoch 45 test loss = 0.1610 \t train = 0.1640 \t time = 187.84s\tProc 25%\tProc 50%\tProc 75%\n",
      "Epoch 46 test loss = 0.1563 \t train = 0.1632 \t time = 188.02s\tProc 25%\tProc 50%\tProc 75%\n",
      "Epoch 47 test loss = 0.1485 \t train = 0.1620 \t time = 188.63s\tProc 25%\tProc 50%\tProc 75%\n",
      "Epoch 48 test loss = 0.1462 \t train = 0.1601 \t time = 188.74s\tProc 25%\tProc 50%\tProc 75%\n",
      "Epoch 49 test loss = 0.1266 \t train = 0.1555 \t time = 189.16s\tProc 25%\tProc 50%\tProc 75%\n",
      "Epoch 50 test loss = 0.1419 \t train = 0.1306 \t time = 189.26s\tProc 25%\tProc 50%\tProc 75%\n",
      "Epoch 51 test loss = 0.0594 \t train = 0.1066 \t time = 190.38s\tProc 25%\tProc 50%\tProc 75%\n",
      "Epoch 52 test loss = 0.0759 \t train = 0.1110 \t time = 189.47s\tProc 25%\tProc 50%\tProc 75%\n",
      "Epoch 53 test loss = 0.0494 \t train = 0.1124 \t time = 189.63s\tProc 25%\tProc 50%\tProc 75%\n",
      "Epoch 54 test loss = 0.0770 \t train = 0.1132 \t time = 189.61s\tProc 25%\tProc 50%\tProc 75%\n",
      "Epoch 55 test loss = 0.0819 \t train = 0.0541 \t time = 189.67s\tProc 25%\tProc 50%\tProc 75%\n",
      "Epoch 56 test loss = 0.0208 \t train = 0.0342 \t time = 190.02s\tProc 25%\tProc 50%\tProc 75%\n",
      "Epoch 57 test loss = 0.0216 \t train = 0.0314 \t time = 189.65s\tProc 25%\tProc 50%\tProc 75%\n",
      "Epoch 58 test loss = 0.0202 \t train = 0.0310 \t time = 189.76s\tProc 25%\tProc 50%\tProc 75%\n",
      "Epoch 59 test loss = 0.0307 \t train = 0.0271 \t time = 189.86s\tProc 25%\tProc 50%\tProc 75%\n",
      "Epoch 60 test loss = 0.0161 \t train = 0.0251 \t time = 189.00s\tProc 25%\tProc 50%\tProc 75%\n",
      "Epoch 61 test loss = 0.0181 \t train = 0.0227 \t time = 188.96s\tProc 25%\tProc 50%\tProc 75%\n",
      "Epoch 62 test loss = 0.0409 \t train = 0.0218 \t time = 189.01s\tProc 25%\tProc 50%\tProc 75%\n",
      "Epoch 63 test loss = 0.0116 \t train = 0.0213 \t time = 189.13s\tProc 25%\tProc 50%\tProc 75%\n",
      "Epoch 64 test loss = 0.0090 \t train = 0.0175 \t time = 189.07s\tProc 25%\tProc 50%\tProc 75%\n",
      "Epoch 65 test loss = 0.0110 \t train = 0.0147 \t time = 189.48s\tProc 25%\tProc 50%\tProc 75%\n",
      "Epoch 66 test loss = 0.0132 \t train = 0.0138 \t time = 189.02s\tProc 25%\tProc 50%\tProc 75%\n",
      "Epoch 67 test loss = 0.0081 \t train = 0.0127 \t time = 188.90s\tProc 25%\tProc 50%\tProc 75%\n",
      "Epoch 68 test loss = 0.0091 \t train = 0.0123 \t time = 188.86s\tProc 25%\tProc 50%\tProc 75%\n",
      "Epoch 69 test loss = 0.0071 \t train = 0.0114 \t time = 188.85s\tProc 25%\tProc 50%\tProc 75%\n",
      "Epoch 70 test loss = 0.0068 \t train = 0.0111 \t time = 188.83s\tProc 25%\tProc 50%\tProc 75%\n",
      "Epoch 71 test loss = 0.0060 \t train = 0.0102 \t time = 188.87s\tProc 25%\tProc 50%\tProc 75%\n",
      "Epoch 72 test loss = 0.0089 \t train = 0.0098 \t time = 188.96s\tProc 25%\tProc 50%\tProc 75%\n",
      "Epoch 73 test loss = 0.0063 \t train = 0.0090 \t time = 188.94s\tProc 25%\tProc 50%\tProc 75%\n",
      "Epoch 74 test loss = 0.0266 \t train = 0.0089 \t time = 188.91s\tProc 25%\tProc 50%\tProc 75%\n",
      "Epoch 75 test loss = 0.0047 \t train = 0.0090 \t time = 190.01s\tProc 25%\tProc 50%\tProc 75%\n",
      "Epoch 76 test loss = 0.0078 \t train = 0.0082 \t time = 189.03s\tProc 25%\tProc 50%\tProc 75%\n",
      "Epoch 77 test loss = 0.0064 \t train = 0.0079 \t time = 188.92s\tProc 25%\tProc 50%\tProc 75%\n",
      "Epoch 78 test loss = 0.0113 \t train = 0.0077 \t time = 189.03s\tProc 25%\tProc 50%\tProc 75%\n",
      "Epoch 79 test loss = 0.0066 \t train = 0.0075 \t time = 188.62s\t"
     ]
    }
   ],
   "source": [
    "net, inp, tar = create_network(build_network_np, seq_len=150)\n",
    "nprnn150 = train(net, inp, tar, train_data[150][\"x\"], train_data[150][\"y\"],\n",
    "                      test_data[150][\"x\"], test_data[150][\"y\"], \"nprnn150\", num_epochs=80)"
   ]
  },
  {
   "cell_type": "code",
   "execution_count": 97,
   "metadata": {
    "collapsed": false,
    "scrolled": true
   },
   "outputs": [
    {
     "data": {
      "text/plain": [
       "<matplotlib.legend.Legend at 0x7fc4a68ed9b0>"
      ]
     },
     "execution_count": 97,
     "metadata": {},
     "output_type": "execute_result"
    },
    {
     "data": {
      "image/png": "[encoded data removed]",
      "text/plain": [
       "<matplotlib.figure.Figure at 0x7fc4ad7d8780>"
      ]
     },
     "metadata": {},
     "output_type": "display_data"
    }
   ],
   "source": [
    "plt.figure(figsize=(7, 5))\n",
    "plt.title(\"Test loss MSE seq len = 150\")\n",
    "plt.xlabel(\"epoch\")\n",
    "plt.plot(np.concatenate((tmp_loss150, srnn150[\"test_err\"])), label=\"sRNN\")\n",
    "plt.plot(np.concatenate((irnn150[\"test_err\"][:21], irnn150[\"test_err\"][22:])), label=\"IRNN\")\n",
    "plt.legend()"
   ]
  },
  {
   "cell_type": "code",
   "execution_count": null,
   "metadata": {
    "collapsed": true
   },
   "outputs": [],
   "source": []
  },
  {
   "cell_type": "code",
   "execution_count": null,
   "metadata": {
    "collapsed": true
   },
   "outputs": [],
   "source": []
  },
  {
   "cell_type": "code",
   "execution_count": null,
   "metadata": {
    "collapsed": false
   },
   "outputs": [
    {
     "name": "stdout",
     "output_type": "stream",
     "text": [
      "Building network ...\n",
      "The network has 10501 params\n",
      "Computing updates ...\n",
      "Compiling functions ...\n"
     ]
    }
   ],
   "source": [
    "net, inp, tar = create_network(build_network_gaus, seq_len=200)\n",
    "srnn200 = train(net, inp, tar, train_data[200][\"x\"], train_data[200][\"y\"],\n",
    "                      test_data[200][\"x\"], test_data[200][\"y\"], \"srnn200\", num_epochs=80)"
   ]
  },
  {
   "cell_type": "code",
   "execution_count": null,
   "metadata": {
    "collapsed": true
   },
   "outputs": [],
   "source": []
  },
  {
   "cell_type": "code",
   "execution_count": null,
   "metadata": {
    "collapsed": true
   },
   "outputs": [],
   "source": []
  },
  {
   "cell_type": "code",
   "execution_count": null,
   "metadata": {
    "collapsed": true
   },
   "outputs": [],
   "source": []
  },
  {
   "cell_type": "code",
   "execution_count": null,
   "metadata": {
    "collapsed": true
   },
   "outputs": [],
   "source": []
  },
  {
   "cell_type": "code",
   "execution_count": 152,
   "metadata": {
    "collapsed": false
   },
   "outputs": [
    {
     "name": "stdout",
     "output_type": "stream",
     "text": [
      "Building network ...\n",
      "The network has 10501 params\n",
      "Computing updates ...\n",
      "Compiling functions ...\n",
      "Epoch 0 test loss = 1.1685 \t train = 0.7130 \t time = 24.18s\n",
      "Epoch 1 test loss = 1.1685 \t train = 0.8389 \t time = 21.60s\n",
      "Epoch 2 test loss = 1.1685 \t train = 0.6875 \t time = 24.02s\n",
      "Epoch 3 test loss = 1.1685 \t train = 0.7662 \t time = 23.74s\n",
      "Epoch 4 test loss = 1.1685 \t train = 0.8242 \t time = 22.49s\n",
      "Epoch 5 test loss = 1.1685 \t train = 0.7327 \t time = 22.30s\n",
      "Epoch 6 test loss = 1.1685 \t train = 0.8922 \t time = 22.37s\n",
      "Epoch 7 test loss = 1.1685 \t train = 0.6688 \t time = 22.87s\n",
      "Epoch 8 test loss = 1.1685 \t train = 1.1502 \t time = 25.44s\n",
      "Epoch 9 test loss = 1.1685 \t train = 0.7427 \t time = 23.64s\n"
     ]
    },
    {
     "ename": "IndexError",
     "evalue": "index 10 is out of bounds for axis 0 with size 10",
     "output_type": "error",
     "traceback": [
      "\u001b[1;31m\u001b[0m",
      "\u001b[1;31mIndexError\u001b[0mTraceback (most recent call last)",
      "\u001b[1;32m<ipython-input-152-331d21f7d03a>\u001b[0m in \u001b[0;36m<module>\u001b[1;34m()\u001b[0m\n\u001b[0;32m      1\u001b[0m train(SEQ_LENS[0], train_data[0][0], train_data[0][1],\n\u001b[1;32m----> 2\u001b[1;33m                test_data[0][0], test_data[0][1], 20)\n\u001b[0m",
      "\u001b[1;32m<ipython-input-150-e1e23aadff8a>\u001b[0m in \u001b[0;36mtrain\u001b[1;34m(seq_len, Xtrain, ytrain, Xtest, ytest, num_epochs)\u001b[0m\n\u001b[0;32m     32\u001b[0m         \u001b[1;32mfor\u001b[0m \u001b[0mbatch\u001b[0m \u001b[1;32min\u001b[0m \u001b[0mrange\u001b[0m\u001b[1;33m(\u001b[0m\u001b[0mTRAIN_SIZE\u001b[0m\u001b[1;33m)\u001b[0m\u001b[1;33m:\u001b[0m\u001b[1;33m\u001b[0m\u001b[0m\n\u001b[0;32m     33\u001b[0m             \u001b[0midx\u001b[0m \u001b[1;33m=\u001b[0m \u001b[0mnp\u001b[0m\u001b[1;33m.\u001b[0m\u001b[0mrandom\u001b[0m\u001b[1;33m.\u001b[0m\u001b[0mrandint\u001b[0m\u001b[1;33m(\u001b[0m\u001b[0mTRAIN_SIZE\u001b[0m\u001b[1;33m,\u001b[0m \u001b[0msize\u001b[0m\u001b[1;33m=\u001b[0m\u001b[0mBATCH_SIZE\u001b[0m\u001b[1;33m)\u001b[0m\u001b[1;33m\u001b[0m\u001b[0m\n\u001b[1;32m---> 34\u001b[1;33m             \u001b[0mtrain_err\u001b[0m\u001b[1;33m[\u001b[0m\u001b[0mepoch\u001b[0m\u001b[1;33m]\u001b[0m \u001b[1;33m+=\u001b[0m \u001b[0mtrain_fn\u001b[0m\u001b[1;33m(\u001b[0m\u001b[0mXtrain\u001b[0m\u001b[1;33m[\u001b[0m\u001b[0midx\u001b[0m\u001b[1;33m,\u001b[0m \u001b[1;33m:\u001b[0m\u001b[1;33m,\u001b[0m \u001b[1;33m:\u001b[0m\u001b[1;33m]\u001b[0m\u001b[1;33m,\u001b[0m \u001b[0mytrain\u001b[0m\u001b[1;33m[\u001b[0m\u001b[0midx\u001b[0m\u001b[1;33m]\u001b[0m\u001b[1;33m)\u001b[0m\u001b[1;33m\u001b[0m\u001b[0m\n\u001b[0m\u001b[0;32m     35\u001b[0m         \u001b[0mtrain_err\u001b[0m\u001b[1;33m[\u001b[0m\u001b[0mepoch\u001b[0m\u001b[1;33m]\u001b[0m \u001b[1;33m/=\u001b[0m \u001b[0mTRAIN_SIZE\u001b[0m\u001b[1;33m\u001b[0m\u001b[0m\n\u001b[0;32m     36\u001b[0m         \u001b[0mtest_err\u001b[0m\u001b[1;33m[\u001b[0m\u001b[0mepoch\u001b[0m\u001b[1;33m]\u001b[0m \u001b[1;33m=\u001b[0m \u001b[0mcompute_cost\u001b[0m\u001b[1;33m(\u001b[0m\u001b[0mXtest\u001b[0m\u001b[1;33m,\u001b[0m \u001b[0mytest\u001b[0m\u001b[1;33m)\u001b[0m\u001b[1;33m\u001b[0m\u001b[0m\n",
      "\u001b[1;31mIndexError\u001b[0m: index 10 is out of bounds for axis 0 with size 10"
     ]
    }
   ],
   "source": [
    "train(SEQ_LENS[0], train_data[0][0], train_data[0][1],\n",
    "               test_data[0][0], test_data[0][1], 20)"
   ]
  },
  {
   "cell_type": "code",
   "execution_count": 148,
   "metadata": {
    "collapsed": false
   },
   "outputs": [
    {
     "data": {
      "text/plain": [
       "0.16666666666666613"
      ]
     },
     "execution_count": 148,
     "metadata": {},
     "output_type": "execute_result"
    }
   ],
   "source": [
    "def f(x):\n",
    "    return - x**4 / 4 + 4 * x**3 / 3 - 5*x**2 / 2 + 2*x\n",
    "\n",
    "f(2) - f(1) + 1 / 12"
   ]
  },
  {
   "cell_type": "code",
   "execution_count": 27,
   "metadata": {
    "collapsed": false
   },
   "outputs": [
    {
     "name": "stdout",
     "output_type": "stream",
     "text": [
      "Building network ...\n",
      "The network has 10501 params\n",
      "Computing updates ...\n",
      "Compiling functions ...\n",
      "Epoch 0 test loss = 0.1612 \t train = 0.1691 \t time = 859.80s\n",
      "Epoch 1 test loss = 0.1615 \t train = 0.1673 \t time = 906.57s\n",
      "Epoch 2 test loss = 0.1612 \t train = 0.1672 \t time = 873.38s\n",
      "Epoch 3 test loss = 0.1620 \t train = 0.1657 \t time = 815.92s\n",
      "Epoch 4 test loss = 0.1615 \t train = 0.1660 \t time = 816.37s\n",
      "Epoch 5 test loss = 0.1611 \t train = 0.1667 \t time = 810.19s\n",
      "Epoch 6 test loss = 0.1609 \t train = 0.1670 \t time = 822.93s\n",
      "Epoch 7 test loss = 0.1605 \t train = 0.1652 \t time = 825.71s\n",
      "Epoch 8 test loss = 0.1587 \t train = 0.1624 \t time = 897.41s\n",
      "Epoch 9 test loss = 0.0586 \t train = 0.1940 \t time = 813.96s\n"
     ]
    },
    {
     "ename": "NameError",
     "evalue": "name 'target' is not defined",
     "output_type": "error",
     "traceback": [
      "\u001b[1;31m\u001b[0m",
      "\u001b[1;31mNameError\u001b[0mTraceback (most recent call last)",
      "\u001b[1;32m<ipython-input-27-cf219565b166>\u001b[0m in \u001b[0;36m<module>\u001b[1;34m()\u001b[0m\n\u001b[0;32m      1\u001b[0m model1 = train(SEQ_LENS[0], train_data[0][0], train_data[0][1],\n\u001b[1;32m----> 2\u001b[1;33m                test_data[0][0], test_data[0][1], NUM_EPOCHS)\n\u001b[0m",
      "\u001b[1;32m<ipython-input-26-b4a75cb3c1b4>\u001b[0m in \u001b[0;36mtrain\u001b[1;34m(seq_len, Xtrain, ytrain, Xtest, ytest, num_epochs)\u001b[0m\n\u001b[0;32m     37\u001b[0m         print(\"Epoch {} test loss = {:.4f} \\t train = {:.4f} \\t time = {:.2f}s\".format(\n\u001b[0;32m     38\u001b[0m                 epoch, test_err[epoch], train_err[epoch], time.time() - start_time))\n\u001b[1;32m---> 39\u001b[1;33m     \u001b[1;32mreturn\u001b[0m \u001b[0mpack\u001b[0m\u001b[1;33m(\u001b[0m\u001b[0mtrain_err\u001b[0m\u001b[1;33m,\u001b[0m \u001b[0mtest_err\u001b[0m\u001b[1;33m,\u001b[0m \u001b[0mnetwork\u001b[0m\u001b[1;33m,\u001b[0m \u001b[0minp\u001b[0m\u001b[1;33m,\u001b[0m \u001b[0mtarget\u001b[0m\u001b[1;33m,\u001b[0m \u001b[0mtrain_fn\u001b[0m\u001b[1;33m,\u001b[0m \u001b[0mtest_fn\u001b[0m\u001b[1;33m)\u001b[0m\u001b[1;33m\u001b[0m\u001b[0m\n\u001b[0m",
      "\u001b[1;31mNameError\u001b[0m: name 'target' is not defined"
     ]
    }
   ],
   "source": [
    "model1 = train(SEQ_LENS[0], train_data[0][0], train_data[0][1],\n",
    "               test_data[0][0], test_data[0][1], NUM_EPOCHS)"
   ]
  },
  {
   "cell_type": "code",
   "execution_count": 50,
   "metadata": {
    "collapsed": false
   },
   "outputs": [
    {
     "name": "stdout",
     "output_type": "stream",
     "text": [
      "Building network ...\n",
      "The network has 10501 params\n",
      "Computing updates ...\n",
      "Compiling functions ...\n",
      "Epoch 0 test loss = 0.1622 \t train = 0.1721 \t time = 806.53s\n",
      "Epoch 1 test loss = 0.1612 \t train = 0.1673 \t time = 786.58s\n",
      "Epoch 2 test loss = 0.1612 \t train = 0.1671 \t time = 838.45s\n",
      "Epoch 3 test loss = 0.1612 \t train = 0.1654 \t time = 812.91s\n",
      "Epoch 4 test loss = 0.1624 \t train = 0.1668 \t time = 810.96s\n",
      "Epoch 5 test loss = 0.1614 \t train = 0.1673 \t time = 784.09s\n",
      "Epoch 6 test loss = 0.1611 \t train = 0.1665 \t time = 821.50s\n",
      "Epoch 7 test loss = 0.1610 \t train = 0.1664 \t time = 840.86s\n",
      "Epoch 8 test loss = 0.1603 \t train = 0.1662 \t time = 887.44s\n",
      "Epoch 9 test loss = 0.1601 \t train = 0.1658 \t time = 923.61s\n",
      "Epoch 10 test loss = 0.0581 \t train = 0.1693 \t time = 832.91s\n"
     ]
    }
   ],
   "source": [
    "model1 = train(SEQ_LENS[0], train_data[0][0], train_data[0][1],\n",
    "               test_data[0][0], test_data[0][1], NUM_EPOCHS)"
   ]
  },
  {
   "cell_type": "code",
   "execution_count": null,
   "metadata": {
    "collapsed": false
   },
   "outputs": [
    {
     "name": "stdout",
     "output_type": "stream",
     "text": [
      "Building network ...\n",
      "The network has 10501 params\n",
      "Computing updates ...\n",
      "Compiling functions ...\n",
      "Epoch 0 test loss = 0.1670 \t train = 0.1695 \t time = 1114.95s\n",
      "Epoch 1 test loss = 0.1668 \t train = 0.1682 \t time = 1072.94s\n",
      "Epoch 2 test loss = 0.1670 \t train = 0.1669 \t time = 1061.33s\n",
      "Epoch 3 test loss = 0.1668 \t train = 0.1675 \t time = 1060.87s\n"
     ]
    }
   ],
   "source": [
    "model2 = train(SEQ_LENS[1], train_data[1][0], train_data[1][1],\n",
    "               test_data[1][0], test_data[1][1], NUM_EPOCHS)"
   ]
  },
  {
   "cell_type": "code",
   "execution_count": 56,
   "metadata": {
    "collapsed": false
   },
   "outputs": [
    {
     "data": {
      "text/plain": [
       "{'inp': input,\n",
       " 'network': <lasagne.layers.dense.DenseLayer at 0x7f6082e4df60>,\n",
       " 'target': target_output,\n",
       " 'test_err': array([ 0.16702086,  0.1668479 ,  0.16698732,  0.16682679,  0.16716476,\n",
       "         0.16684967,  0.16687859,  0.16677489,  0.16696768,  0.16674251,\n",
       "         0.16654639]),\n",
       " 'test_fn': <theano.compile.function_module.Function at 0x7f609966f898>,\n",
       " 'train_err': array([ 0.16946059,  0.16821286,  0.16688193,  0.16753311,  0.16703759,\n",
       "         0.16731607,  0.16840916,  0.16859257,  0.16727919,  0.16696799,\n",
       "         0.16691616]),\n",
       " 'train_fn': <theano.compile.function_module.Function at 0x7f6082422be0>}"
      ]
     },
     "execution_count": 56,
     "metadata": {},
     "output_type": "execute_result"
    }
   ],
   "source": [
    "model2"
   ]
  },
  {
   "cell_type": "code",
   "execution_count": null,
   "metadata": {
    "collapsed": false
   },
   "outputs": [
    {
     "name": "stdout",
     "output_type": "stream",
     "text": [
      "Building network ...\n",
      "The network has 10501 params\n",
      "Computing updates ...\n",
      "Compiling functions ...\n",
      "Epoch 0 test loss = 0.1648 \t train = 0.1686 \t time = 1662.67s\n",
      "Epoch 1 test loss = 0.1652 \t train = 0.1674 \t time = 1583.99s\n",
      "Epoch 2 test loss = 0.1654 \t train = 0.1663 \t time = 1624.62s\n",
      "Epoch 3 test loss = 0.1651 \t train = 0.1664 \t time = 1630.90s\n",
      "Epoch 4 test loss = 0.1661 \t train = 0.1674 \t time = 1578.29s\n",
      "Epoch 5 test loss = 0.1647 \t train = 0.1678 \t time = 1577.50s\n",
      "Epoch 6 test loss = 0.1648 \t train = 0.1675 \t time = 1577.60s\n"
     ]
    }
   ],
   "source": [
    "model3 = train(SEQ_LENS[2], train_data[2][0], train_data[2][1],\n",
    "               test_data[2][0], test_data[2][1], NUM_EPOCHS)"
   ]
  },
  {
   "cell_type": "code",
   "execution_count": 72,
   "metadata": {
    "collapsed": false
   },
   "outputs": [
    {
     "data": {
      "text/plain": [
       "{'inp': input,\n",
       " 'network': <lasagne.layers.dense.DenseLayer at 0x7f60832219b0>,\n",
       " 'target': target_output,\n",
       " 'test_err': array([ 0.16484366,  0.16524224,  0.16543644,  0.16513016,  0.1660609 ,\n",
       "         0.16466655,  0.16480166,  0.16478171,  0.16472904,  0.16568135]),\n",
       " 'test_fn': <theano.compile.function_module.Function at 0x7f60811eb0b8>,\n",
       " 'train_err': array([ 0.16862747,  0.16742174,  0.1663266 ,  0.16641542,  0.16740696,\n",
       "         0.16779978,  0.16745764,  0.16703502,  0.16680789,  0.16587701]),\n",
       " 'train_fn': <theano.compile.function_module.Function at 0x7f6080ec60f0>}"
      ]
     },
     "execution_count": 72,
     "metadata": {},
     "output_type": "execute_result"
    }
   ],
   "source": [
    "model3"
   ]
  },
  {
   "cell_type": "code",
   "execution_count": 73,
   "metadata": {
    "collapsed": false
   },
   "outputs": [
    {
     "name": "stdout",
     "output_type": "stream",
     "text": [
      "Building network ...\n",
      "The network has 10501 params\n",
      "Computing updates ...\n",
      "Compiling functions ...\n",
      "Epoch 0 test loss = 0.1726 \t train = 0.1671 \t time = 2137.14s\n",
      "Epoch 1 test loss = 0.1665 \t train = 0.1673 \t time = 2124.30s\n",
      "Epoch 2 test loss = 0.1679 \t train = 0.1668 \t time = 2058.24s\n",
      "Epoch 3 test loss = 0.1665 \t train = 0.1665 \t time = 1986.15s\n",
      "Epoch 4 test loss = 0.1665 \t train = 0.1663 \t time = 2030.84s\n",
      "Epoch 5 test loss = 0.1664 \t train = 0.1656 \t time = 1991.12s\n",
      "Epoch 6 test loss = 0.1664 \t train = 0.1657 \t time = 2029.58s\n",
      "Epoch 7 test loss = 0.1664 \t train = 0.1646 \t time = 2009.58s\n",
      "Epoch 8 test loss = 0.1666 \t train = 0.1653 \t time = 2039.72s\n",
      "Epoch 9 test loss = 0.1668 \t train = 0.1647 \t time = 2035.09s\n"
     ]
    }
   ],
   "source": [
    "model4 = train(SEQ_LENS[3], train_data[3][0], train_data[3][1],\n",
    "               test_data[3][0], test_data[3][1], NUM_EPOCHS)"
   ]
  },
  {
   "cell_type": "code",
   "execution_count": null,
   "metadata": {
    "collapsed": true
   },
   "outputs": [],
   "source": []
  },
  {
   "cell_type": "code",
   "execution_count": 116,
   "metadata": {
    "collapsed": false
   },
   "outputs": [
    {
     "data": {
      "text/plain": [
       "{'inp': input,\n",
       " 'network': <lasagne.layers.dense.DenseLayer at 0x7f60825df748>,\n",
       " 'target': target_output,\n",
       " 'test_err': array([ 0.16223222,  0.16124856,  0.16122107,  0.16119332,  0.16235495,\n",
       "         0.16136186,  0.16106722,  0.161027  ,  0.16025838,  0.16010919,\n",
       "         0.05806245]),\n",
       " 'test_fn': <theano.compile.function_module.Function at 0x7f6081c71550>,\n",
       " 'train_err': array([ 0.17208107,  0.16726611,  0.16708384,  0.16540762,  0.1668164 ,\n",
       "         0.16730034,  0.16647114,  0.16644216,  0.16621783,  0.16580767,\n",
       "         0.16927648]),\n",
       " 'train_fn': <theano.compile.function_module.Function at 0x7f6081c5e518>}"
      ]
     },
     "execution_count": 116,
     "metadata": {},
     "output_type": "execute_result"
    }
   ],
   "source": [
    "model1"
   ]
  },
  {
   "cell_type": "code",
   "execution_count": 80,
   "metadata": {
    "collapsed": true
   },
   "outputs": [],
   "source": [
    "# test_data[seq_len][x/y][idx]"
   ]
  },
  {
   "cell_type": "code",
   "execution_count": 87,
   "metadata": {
    "collapsed": false
   },
   "outputs": [
    {
     "name": "stdout",
     "output_type": "stream",
     "text": [
      "1218 0.1218\n"
     ]
    }
   ],
   "source": [
    "count = 0\n",
    "for i in range(TEST_SIZE):\n",
    "    if model1[\"test_fn\"](test_data[0][0][i:i+1], test_data[0][1][i:i+1]) < 0.0016:\n",
    "        count += 1\n",
    "print(count, count / TEST_SIZE)"
   ]
  },
  {
   "cell_type": "code",
   "execution_count": 88,
   "metadata": {
    "collapsed": false
   },
   "outputs": [
    {
     "name": "stdout",
     "output_type": "stream",
     "text": [
      "1169 0.1169\n"
     ]
    }
   ],
   "source": [
    "count = 0\n",
    "for i in range(TEST_SIZE):\n",
    "    if model1[\"test_fn\"](test_data[1][0][i:i+1], test_data[1][1][i:i+1]) < 0.0016:\n",
    "        count += 1\n",
    "print(count, count / TEST_SIZE)"
   ]
  },
  {
   "cell_type": "code",
   "execution_count": 89,
   "metadata": {
    "collapsed": false
   },
   "outputs": [
    {
     "name": "stdout",
     "output_type": "stream",
     "text": [
      "1075 0.1075\n"
     ]
    }
   ],
   "source": [
    "count = 0\n",
    "for i in range(TEST_SIZE):\n",
    "    if model1[\"test_fn\"](test_data[2][0][i:i+1], test_data[2][1][i:i+1]) < 0.0016:\n",
    "        count += 1\n",
    "print(count, count / TEST_SIZE)"
   ]
  },
  {
   "cell_type": "code",
   "execution_count": 90,
   "metadata": {
    "collapsed": false
   },
   "outputs": [
    {
     "name": "stdout",
     "output_type": "stream",
     "text": [
      "970 0.097\n"
     ]
    }
   ],
   "source": [
    "count = 0\n",
    "for i in range(TEST_SIZE):\n",
    "    if model1[\"test_fn\"](test_data[3][0][i:i+1], test_data[3][1][i:i+1]) < 0.0016:\n",
    "        count += 1\n",
    "print(count, count / TEST_SIZE)"
   ]
  },
  {
   "cell_type": "code",
   "execution_count": null,
   "metadata": {
    "collapsed": true
   },
   "outputs": [],
   "source": []
  },
  {
   "cell_type": "code",
   "execution_count": null,
   "metadata": {
    "collapsed": true
   },
   "outputs": [],
   "source": []
  },
  {
   "cell_type": "code",
   "execution_count": 141,
   "metadata": {
    "collapsed": false
   },
   "outputs": [],
   "source": [
    "def train(network, inp, target_values, Xtrain, ytrain, Xtest, ytest, num_epochs=NUM_EPOCHS):\n",
    "    train_err = np.zeros(num_epochs)\n",
    "    test_err = np.zeros(num_epochs)\n",
    "    \n",
    "    # CHANGE THIS!!!!!!!!!!!!!!!!!!!!!!!!!!!!!!!!!!!!!!!!!!!!!!!!!!!!!!!!!!!!!!!!!!!!!!!!!!!!!!!!!!!!!!!!!!!!\n",
    "    network_output = lasagne.layers.get_output(network)\n",
    "    print(network_output.shape)\n",
    "    # first dim of predicted_values is BATCH_SIZE\n",
    "    predicted_values = network_output[:, -1]\n",
    "    print(predicted_values.shape)\n",
    "    \n",
    "    # Cost is MSE\n",
    "    cost = T.mean((predicted_values - target_values)**2)\n",
    "    all_params = lasagne.layers.get_all_params(network)\n",
    "    print(\"Computing updates ...\")\n",
    "    all_grads = T.grad(cost, all_params)\n",
    "    scaled_grads = lasagne.updates.total_norm_constraint(all_grads, GRAD_CLIP)\n",
    "    updates = lasagne.updates.adam(scaled_grads, all_params, LEARNING_RATE)\n",
    "    \n",
    "    print(\"Compiling functions ...\")\n",
    "    train_fn = theano.function([inp, target_values], cost, updates=updates, allow_input_downcast=True)\n",
    "    compute_cost = theano.function([inp, target_values], cost, allow_input_downcast=True)\n",
    "    \n",
    "    num_batches = TRAIN_SIZE // BATCH_SIZE\n",
    "    train_idxs = np.arange(TRAIN_SIZE)\n",
    "    for epoch in range(num_epochs):\n",
    "        start_time = time.time()\n",
    "        np.shuffle(train_idxs)\n",
    "        for batch in range(num_batches):\n",
    "            idx = train_idxs[BATCH_SIZE * batch : BATCH_SIZE * (batch + 1)]\n",
    "            train_err[epoch] += train_fn(Xtrain[idx, :, :], ytrain[idx])\n",
    "            \n",
    "            if batch == num_batches // 4:\n",
    "                print(\"Processed 25%\")\n",
    "            if batch == num_batches // 2:\n",
    "                print(\"Processed 50%\")\n",
    "            if batch == num_batches // 4 * 3:\n",
    "                print(\"Processed 75%\")\n",
    "                \n",
    "        train_err[epoch] /= TRAIN_SIZE\n",
    "        test_err[epoch] = compute_cost(Xtest, ytest)\n",
    "        print(\"Epoch {} test loss = {:.4f} \\t train = {:.4f} \\t time = {:.2f}s\".format(\n",
    "                epoch, test_err[epoch], train_err[epoch], time.time() - start_time))\n",
    "    return pack(network, inp, target_values, train_err, test_err, train_fn, compute_cost)"
   ]
  },
  {
   "cell_type": "code",
   "execution_count": 142,
   "metadata": {
    "collapsed": true
   },
   "outputs": [],
   "source": [
    "TRAIN_SIZE = 10\n",
    "BATCH_SIZE = 100"
   ]
  },
  {
   "cell_type": "code",
   "execution_count": 144,
   "metadata": {
    "collapsed": false
   },
   "outputs": [
    {
     "name": "stdout",
     "output_type": "stream",
     "text": [
      "Building network ...\n",
      "The network has 10501 params\n",
      "Computing updates ...\n",
      "Compiling functions ...\n",
      "Epoch 0 test loss = 0.5101 \t train = 0.6639 \t norm = 6.125143622326812 \t time = 32.57s\n",
      "Epoch 1 test loss = 0.3488 \t train = 0.3001 \t norm = 3.800840105018453 \t time = 32.12s\n",
      "Epoch 2 test loss = 0.1643 \t train = 0.0999 \t norm = 2.5677671656809027 \t time = 32.72s\n",
      "Epoch 3 test loss = 0.2225 \t train = 0.0812 \t norm = 1.0763219145607437 \t time = 30.37s\n",
      "Epoch 4 test loss = 0.1804 \t train = 0.0778 \t norm = 1.080205013349289 \t time = 31.14s\n",
      "Epoch 5 test loss = 0.2011 \t train = 0.0731 \t norm = 0.25422163000423215 \t time = 31.69s\n",
      "Epoch 6 test loss = 0.1817 \t train = 0.0756 \t norm = 0.3019141106830181 \t time = 31.45s\n",
      "Epoch 7 test loss = 0.2058 \t train = 0.0746 \t norm = 0.21720167825755626 \t time = 30.35s\n",
      "Epoch 8 test loss = 0.1937 \t train = 0.0733 \t norm = 0.7964197326509098 \t time = 31.89s\n",
      "Epoch 9 test loss = 0.1958 \t train = 0.0727 \t norm = 0.650898958294212 \t time = 32.20s\n"
     ]
    }
   ],
   "source": [
    "mod = train_adam(SEQ_LENS[0], train_data[0][0], train_data[0][1],\n",
    "                 test_data[0][0], test_data[0][1])"
   ]
  },
  {
   "cell_type": "code",
   "execution_count": null,
   "metadata": {
    "collapsed": true
   },
   "outputs": [],
   "source": []
  }
 ],
 "metadata": {
  "anaconda-cloud": {},
  "kernelspec": {
   "display_name": "Python [Root]",
   "language": "python",
   "name": "Python [Root]"
  },
  "language_info": {
   "codemirror_mode": {
    "name": "ipython",
    "version": 3
   },
   "file_extension": ".py",
   "mimetype": "text/x-python",
   "name": "python",
   "nbconvert_exporter": "python",
   "pygments_lexer": "ipython3",
   "version": "3.5.2"
  }
 },
 "nbformat": 4,
 "nbformat_minor": 0
}
