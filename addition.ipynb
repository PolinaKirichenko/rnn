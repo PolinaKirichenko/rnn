{
 "cells": [
  {
   "cell_type": "code",
   "execution_count": 95,
   "metadata": {
    "collapsed": false
   },
   "outputs": [],
   "source": [
    "import numpy as np\n",
    "import numpy.random as rnd\n",
    "import theano\n",
    "import theano.tensor as T\n",
    "import lasagne\n",
    "import time"
   ]
  },
  {
   "cell_type": "markdown",
   "metadata": {},
   "source": [
    "CROSS VALIDATION FOR HYPERPARAMETERS"
   ]
  },
  {
   "cell_type": "code",
   "execution_count": 149,
   "metadata": {
    "collapsed": true
   },
   "outputs": [],
   "source": [
    "LEARNING_RATE = 0.001\n",
    "GRAD_CLIP = 10\n",
    "BATCH_SIZE = 1\n",
    "NUM_EPOCHS = 10\n",
    "N_HIDDEN = 100\n",
    "TRAIN_SIZE = 10#int(1e5)\n",
    "TEST_SIZE = int(1e4)\n",
    "SEQ_LENS = [150, 200, 300, 400]"
   ]
  },
  {
   "cell_type": "code",
   "execution_count": null,
   "metadata": {
    "collapsed": true
   },
   "outputs": [],
   "source": []
  },
  {
   "cell_type": "code",
   "execution_count": 60,
   "metadata": {
    "collapsed": false
   },
   "outputs": [],
   "source": [
    "def gen_add_data(length, n_batch=BATCH_SIZE):\n",
    "    X = np.concatenate([np.random.uniform(size=(n_batch, length, 1)),\n",
    "                        np.zeros((n_batch, length, 1))],\n",
    "                        axis=-1)\n",
    "    y = np.zeros((n_batch,))\n",
    "    \n",
    "    X[np.arange(n_batch), np.random.randint(length/10, size=n_batch), 1] = 1\n",
    "    X[np.arange(n_batch), np.random.randint(length/2, length, size=n_batch), 1] = 1\n",
    "    # Multiply and sum the dimensions of X to get the target value\n",
    "    y = np.sum(X[:, :, 0] * X[:, :, 1], axis=1)\n",
    "    \n",
    "    # Center the inputs and outputs ?\n",
    "    #X -= X.reshape(-1, 2).mean(axis=0)\n",
    "    #y -= y.mean()\n",
    "    return (X.astype(theano.config.floatX), y.astype(theano.config.floatX),)"
   ]
  },
  {
   "cell_type": "code",
   "execution_count": null,
   "metadata": {
    "collapsed": true
   },
   "outputs": [],
   "source": []
  },
  {
   "cell_type": "code",
   "execution_count": null,
   "metadata": {
    "collapsed": false
   },
   "outputs": [],
   "source": [
    "x, y = gen_add_data(10, 2)\n",
    "y"
   ]
  },
  {
   "cell_type": "code",
   "execution_count": 5,
   "metadata": {
    "collapsed": false
   },
   "outputs": [],
   "source": [
    "train_data = [gen_add_data(T, TRAIN_SIZE) for T in SEQ_LENS]"
   ]
  },
  {
   "cell_type": "code",
   "execution_count": 6,
   "metadata": {
    "collapsed": true
   },
   "outputs": [],
   "source": [
    "test_data = [gen_add_data(T, TEST_SIZE) for T in SEQ_LENS]"
   ]
  },
  {
   "cell_type": "code",
   "execution_count": null,
   "metadata": {
    "collapsed": true
   },
   "outputs": [],
   "source": []
  },
  {
   "cell_type": "code",
   "execution_count": 61,
   "metadata": {
    "collapsed": true
   },
   "outputs": [],
   "source": [
    "# Вспомогательная функция для запаковки результата обучения \n",
    "def pack(train_err, test_err, network, inp, target, train_fn, test_fn):\n",
    "    return {'train_err':train_err,\n",
    "        'test_err':test_err,\n",
    "        'network':network,\n",
    "        'inp':inp,\n",
    "        'target':target,\n",
    "        'train_fn':train_fn, \n",
    "        'test_fn':test_fn\n",
    "        } "
   ]
  },
  {
   "cell_type": "code",
   "execution_count": 62,
   "metadata": {
    "collapsed": true
   },
   "outputs": [],
   "source": [
    "def init_posdef_w():\n",
    "    R = np.random.normal(size=(N_HIDDEN, N_HIDDEN))\n",
    "    A = 1 / N_HIDDEN * np.dot(R.T, R)\n",
    "    eig, _ = np.linalg.eig(A + np.eye(N_HIDDEN))\n",
    "    e = max(eig)\n",
    "    W = (A + np.eye(N_HIDDEN)) / e\n",
    "    return W"
   ]
  },
  {
   "cell_type": "code",
   "execution_count": 153,
   "metadata": {
    "collapsed": false
   },
   "outputs": [],
   "source": [
    "def build_paper_network(inp, seq_len, num_epochs=NUM_EPOCHS):\n",
    "    # First, we build the network, starting with an input layer\n",
    "    # Recurrent layers expect input of shape\n",
    "    # (batch size, max sequence length, number of features)\n",
    "    l_in = lasagne.layers.InputLayer(shape=(None, seq_len, 2), input_var=inp)\n",
    "\n",
    "    alpha = np.sqrt(2) * np.exp(1.2 / (max(N_HIDDEN, 6)))\n",
    "    l_rnn = lasagne.layers.RecurrentLayer(\n",
    "        l_in, N_HIDDEN, grad_clipping=GRAD_CLIP,\n",
    "        W_in_to_hid=lasagne.init.Normal(std=alpha / N_HIDDEN, mean=0.0),\n",
    "        W_hid_to_hid=init_posdef_w(),\n",
    "        learn_init=True,\n",
    "        only_return_final=True,\n",
    "        nonlinearity=lasagne.nonlinearities.rectify)\n",
    "\n",
    "    # Our output layer is a simple dense connection, with 1 output unit\n",
    "    l_out = lasagne.layers.DenseLayer(l_rnn, num_units=1,\n",
    "                                      W=lasagne.init.GlorotNormal(),\n",
    "                                      nonlinearity=lasagne.nonlinearities.rectify)\n",
    "    return l_out"
   ]
  },
  {
   "cell_type": "code",
   "execution_count": null,
   "metadata": {
    "collapsed": true
   },
   "outputs": [],
   "source": [
    "def build_network(inp, seq_len, num_epochs=NUM_EPOCHS):\n",
    "    # First, we build the network, starting with an input layer\n",
    "    # Recurrent layers expect input of shape\n",
    "    # (batch size, max sequence length, number of features)\n",
    "    l_in = lasagne.layers.InputLayer(shape=(None, seq_len, 2), input_var=inp)\n",
    "\n",
    "    l_rnn = lasagne.layers.RecurrentLayer(\n",
    "        l_in, N_HIDDEN, grad_clipping=GRAD_CLIP,\n",
    "        W_in_to_hid=lasagne.init.GlorotNormal(),\n",
    "        W_hid_to_hid=lasagne.init.GlorotNormal(),\n",
    "        learn_init=True,\n",
    "        only_return_final=True,\n",
    "        nonlinearity=lasagne.nonlinearities.rectify)\n",
    "\n",
    "    # Our output layer is a simple dense connection, with 1 output unit\n",
    "    l_out = lasagne.layers.DenseLayer(l_rnn, num_units=1,\n",
    "                                      W=lasagne.init.GlorotNormal(),\n",
    "                                      nonlinearity=lasagne.nonlinearities.rectify)\n",
    "    return l_out"
   ]
  },
  {
   "cell_type": "code",
   "execution_count": 150,
   "metadata": {
    "collapsed": true
   },
   "outputs": [],
   "source": [
    "def train(seq_len, Xtrain, ytrain, Xtest, ytest, num_epochs=NUM_EPOCHS):\n",
    "    print(\"Building network ...\")\n",
    "    inp = T.tensor3('input', dtype='float64')\n",
    "    target_values = T.vector('target_output', dtype='float64')\n",
    "    network = build_network(inp, seq_len)\n",
    "    print(\"The network has {} params\".format(lasagne.layers.count_params(network)))\n",
    "    \n",
    "    train_err = np.zeros(num_epochs)\n",
    "    test_err = np.zeros(num_epochs)\n",
    "    \n",
    "    # lasagne.layers.get_output produces a variable for the output of the net\n",
    "    network_output = lasagne.layers.get_output(network)\n",
    "    # The value we care about is the final value produced for each sequence\n",
    "    # first dim of predicted_values is BATCH_SIZE\n",
    "    predicted_values = network_output[:, -1]\n",
    "    # Our cost will be mean-squared error\n",
    "    cost = T.mean((predicted_values - target_values)**2)\n",
    "    # Retrieve all parameters from the network\n",
    "    all_params = lasagne.layers.get_all_params(network)\n",
    "    # Compute SGD updates for training\n",
    "    print(\"Computing updates ...\")\n",
    "    all_grads = T.grad(cost, all_params)\n",
    "    scaled_grads = lasagne.updates.total_norm_constraint(all_grads, GRAD_CLIP)\n",
    "    updates = lasagne.updates.sgd(scaled_grads, all_params, LEARNING_RATE)\n",
    "    # Theano functions for training and computing cost\n",
    "    print(\"Compiling functions ...\")\n",
    "    train_fn = theano.function([inp, target_values], cost, updates=updates, allow_input_downcast=True)\n",
    "    compute_cost = theano.function([inp, target_values], cost, allow_input_downcast=True)\n",
    "\n",
    "    for epoch in range(num_epochs):\n",
    "        start_time = time.time()\n",
    "        for batch in range(TRAIN_SIZE):\n",
    "            idx = np.random.randint(TRAIN_SIZE, size=BATCH_SIZE)\n",
    "            train_err[epoch] += train_fn(Xtrain[idx, :, :], ytrain[idx])\n",
    "        train_err[epoch] /= TRAIN_SIZE\n",
    "        test_err[epoch] = compute_cost(Xtest, ytest)\n",
    "        print(\"Epoch {} test loss = {:.4f} \\t train = {:.4f} \\t time = {:.2f}s\".format(\n",
    "                epoch, test_err[epoch], train_err[epoch], time.time() - start_time))\n",
    "    return pack(train_err, test_err, network, inp, target_values, train_fn, compute_cost)"
   ]
  },
  {
   "cell_type": "code",
   "execution_count": 152,
   "metadata": {
    "collapsed": false
   },
   "outputs": [
    {
     "name": "stdout",
     "output_type": "stream",
     "text": [
      "Building network ...\n",
      "The network has 10501 params\n",
      "Computing updates ...\n",
      "Compiling functions ...\n",
      "Epoch 0 test loss = 1.1685 \t train = 0.7130 \t time = 24.18s\n",
      "Epoch 1 test loss = 1.1685 \t train = 0.8389 \t time = 21.60s\n",
      "Epoch 2 test loss = 1.1685 \t train = 0.6875 \t time = 24.02s\n",
      "Epoch 3 test loss = 1.1685 \t train = 0.7662 \t time = 23.74s\n",
      "Epoch 4 test loss = 1.1685 \t train = 0.8242 \t time = 22.49s\n",
      "Epoch 5 test loss = 1.1685 \t train = 0.7327 \t time = 22.30s\n",
      "Epoch 6 test loss = 1.1685 \t train = 0.8922 \t time = 22.37s\n",
      "Epoch 7 test loss = 1.1685 \t train = 0.6688 \t time = 22.87s\n",
      "Epoch 8 test loss = 1.1685 \t train = 1.1502 \t time = 25.44s\n",
      "Epoch 9 test loss = 1.1685 \t train = 0.7427 \t time = 23.64s\n"
     ]
    },
    {
     "ename": "IndexError",
     "evalue": "index 10 is out of bounds for axis 0 with size 10",
     "output_type": "error",
     "traceback": [
      "\u001b[1;31m\u001b[0m",
      "\u001b[1;31mIndexError\u001b[0mTraceback (most recent call last)",
      "\u001b[1;32m<ipython-input-152-331d21f7d03a>\u001b[0m in \u001b[0;36m<module>\u001b[1;34m()\u001b[0m\n\u001b[0;32m      1\u001b[0m train(SEQ_LENS[0], train_data[0][0], train_data[0][1],\n\u001b[1;32m----> 2\u001b[1;33m                test_data[0][0], test_data[0][1], 20)\n\u001b[0m",
      "\u001b[1;32m<ipython-input-150-e1e23aadff8a>\u001b[0m in \u001b[0;36mtrain\u001b[1;34m(seq_len, Xtrain, ytrain, Xtest, ytest, num_epochs)\u001b[0m\n\u001b[0;32m     32\u001b[0m         \u001b[1;32mfor\u001b[0m \u001b[0mbatch\u001b[0m \u001b[1;32min\u001b[0m \u001b[0mrange\u001b[0m\u001b[1;33m(\u001b[0m\u001b[0mTRAIN_SIZE\u001b[0m\u001b[1;33m)\u001b[0m\u001b[1;33m:\u001b[0m\u001b[1;33m\u001b[0m\u001b[0m\n\u001b[0;32m     33\u001b[0m             \u001b[0midx\u001b[0m \u001b[1;33m=\u001b[0m \u001b[0mnp\u001b[0m\u001b[1;33m.\u001b[0m\u001b[0mrandom\u001b[0m\u001b[1;33m.\u001b[0m\u001b[0mrandint\u001b[0m\u001b[1;33m(\u001b[0m\u001b[0mTRAIN_SIZE\u001b[0m\u001b[1;33m,\u001b[0m \u001b[0msize\u001b[0m\u001b[1;33m=\u001b[0m\u001b[0mBATCH_SIZE\u001b[0m\u001b[1;33m)\u001b[0m\u001b[1;33m\u001b[0m\u001b[0m\n\u001b[1;32m---> 34\u001b[1;33m             \u001b[0mtrain_err\u001b[0m\u001b[1;33m[\u001b[0m\u001b[0mepoch\u001b[0m\u001b[1;33m]\u001b[0m \u001b[1;33m+=\u001b[0m \u001b[0mtrain_fn\u001b[0m\u001b[1;33m(\u001b[0m\u001b[0mXtrain\u001b[0m\u001b[1;33m[\u001b[0m\u001b[0midx\u001b[0m\u001b[1;33m,\u001b[0m \u001b[1;33m:\u001b[0m\u001b[1;33m,\u001b[0m \u001b[1;33m:\u001b[0m\u001b[1;33m]\u001b[0m\u001b[1;33m,\u001b[0m \u001b[0mytrain\u001b[0m\u001b[1;33m[\u001b[0m\u001b[0midx\u001b[0m\u001b[1;33m]\u001b[0m\u001b[1;33m)\u001b[0m\u001b[1;33m\u001b[0m\u001b[0m\n\u001b[0m\u001b[0;32m     35\u001b[0m         \u001b[0mtrain_err\u001b[0m\u001b[1;33m[\u001b[0m\u001b[0mepoch\u001b[0m\u001b[1;33m]\u001b[0m \u001b[1;33m/=\u001b[0m \u001b[0mTRAIN_SIZE\u001b[0m\u001b[1;33m\u001b[0m\u001b[0m\n\u001b[0;32m     36\u001b[0m         \u001b[0mtest_err\u001b[0m\u001b[1;33m[\u001b[0m\u001b[0mepoch\u001b[0m\u001b[1;33m]\u001b[0m \u001b[1;33m=\u001b[0m \u001b[0mcompute_cost\u001b[0m\u001b[1;33m(\u001b[0m\u001b[0mXtest\u001b[0m\u001b[1;33m,\u001b[0m \u001b[0mytest\u001b[0m\u001b[1;33m)\u001b[0m\u001b[1;33m\u001b[0m\u001b[0m\n",
      "\u001b[1;31mIndexError\u001b[0m: index 10 is out of bounds for axis 0 with size 10"
     ]
    }
   ],
   "source": [
    "train(SEQ_LENS[0], train_data[0][0], train_data[0][1],\n",
    "               test_data[0][0], test_data[0][1], 20)"
   ]
  },
  {
   "cell_type": "code",
   "execution_count": 148,
   "metadata": {
    "collapsed": false
   },
   "outputs": [
    {
     "data": {
      "text/plain": [
       "0.16666666666666613"
      ]
     },
     "execution_count": 148,
     "metadata": {},
     "output_type": "execute_result"
    }
   ],
   "source": [
    "def f(x):\n",
    "    return - x**4 / 4 + 4 * x**3 / 3 - 5*x**2 / 2 + 2*x\n",
    "\n",
    "f(2) - f(1) + 1 / 12"
   ]
  },
  {
   "cell_type": "code",
   "execution_count": 27,
   "metadata": {
    "collapsed": false
   },
   "outputs": [
    {
     "name": "stdout",
     "output_type": "stream",
     "text": [
      "Building network ...\n",
      "The network has 10501 params\n",
      "Computing updates ...\n",
      "Compiling functions ...\n",
      "Epoch 0 test loss = 0.1612 \t train = 0.1691 \t time = 859.80s\n",
      "Epoch 1 test loss = 0.1615 \t train = 0.1673 \t time = 906.57s\n",
      "Epoch 2 test loss = 0.1612 \t train = 0.1672 \t time = 873.38s\n",
      "Epoch 3 test loss = 0.1620 \t train = 0.1657 \t time = 815.92s\n",
      "Epoch 4 test loss = 0.1615 \t train = 0.1660 \t time = 816.37s\n",
      "Epoch 5 test loss = 0.1611 \t train = 0.1667 \t time = 810.19s\n",
      "Epoch 6 test loss = 0.1609 \t train = 0.1670 \t time = 822.93s\n",
      "Epoch 7 test loss = 0.1605 \t train = 0.1652 \t time = 825.71s\n",
      "Epoch 8 test loss = 0.1587 \t train = 0.1624 \t time = 897.41s\n",
      "Epoch 9 test loss = 0.0586 \t train = 0.1940 \t time = 813.96s\n"
     ]
    },
    {
     "ename": "NameError",
     "evalue": "name 'target' is not defined",
     "output_type": "error",
     "traceback": [
      "\u001b[1;31m\u001b[0m",
      "\u001b[1;31mNameError\u001b[0mTraceback (most recent call last)",
      "\u001b[1;32m<ipython-input-27-cf219565b166>\u001b[0m in \u001b[0;36m<module>\u001b[1;34m()\u001b[0m\n\u001b[0;32m      1\u001b[0m model1 = train(SEQ_LENS[0], train_data[0][0], train_data[0][1],\n\u001b[1;32m----> 2\u001b[1;33m                test_data[0][0], test_data[0][1], NUM_EPOCHS)\n\u001b[0m",
      "\u001b[1;32m<ipython-input-26-b4a75cb3c1b4>\u001b[0m in \u001b[0;36mtrain\u001b[1;34m(seq_len, Xtrain, ytrain, Xtest, ytest, num_epochs)\u001b[0m\n\u001b[0;32m     37\u001b[0m         print(\"Epoch {} test loss = {:.4f} \\t train = {:.4f} \\t time = {:.2f}s\".format(\n\u001b[0;32m     38\u001b[0m                 epoch, test_err[epoch], train_err[epoch], time.time() - start_time))\n\u001b[1;32m---> 39\u001b[1;33m     \u001b[1;32mreturn\u001b[0m \u001b[0mpack\u001b[0m\u001b[1;33m(\u001b[0m\u001b[0mtrain_err\u001b[0m\u001b[1;33m,\u001b[0m \u001b[0mtest_err\u001b[0m\u001b[1;33m,\u001b[0m \u001b[0mnetwork\u001b[0m\u001b[1;33m,\u001b[0m \u001b[0minp\u001b[0m\u001b[1;33m,\u001b[0m \u001b[0mtarget\u001b[0m\u001b[1;33m,\u001b[0m \u001b[0mtrain_fn\u001b[0m\u001b[1;33m,\u001b[0m \u001b[0mtest_fn\u001b[0m\u001b[1;33m)\u001b[0m\u001b[1;33m\u001b[0m\u001b[0m\n\u001b[0m",
      "\u001b[1;31mNameError\u001b[0m: name 'target' is not defined"
     ]
    }
   ],
   "source": [
    "model1 = train(SEQ_LENS[0], train_data[0][0], train_data[0][1],\n",
    "               test_data[0][0], test_data[0][1], NUM_EPOCHS)"
   ]
  },
  {
   "cell_type": "code",
   "execution_count": 50,
   "metadata": {
    "collapsed": false
   },
   "outputs": [
    {
     "name": "stdout",
     "output_type": "stream",
     "text": [
      "Building network ...\n",
      "The network has 10501 params\n",
      "Computing updates ...\n",
      "Compiling functions ...\n",
      "Epoch 0 test loss = 0.1622 \t train = 0.1721 \t time = 806.53s\n",
      "Epoch 1 test loss = 0.1612 \t train = 0.1673 \t time = 786.58s\n",
      "Epoch 2 test loss = 0.1612 \t train = 0.1671 \t time = 838.45s\n",
      "Epoch 3 test loss = 0.1612 \t train = 0.1654 \t time = 812.91s\n",
      "Epoch 4 test loss = 0.1624 \t train = 0.1668 \t time = 810.96s\n",
      "Epoch 5 test loss = 0.1614 \t train = 0.1673 \t time = 784.09s\n",
      "Epoch 6 test loss = 0.1611 \t train = 0.1665 \t time = 821.50s\n",
      "Epoch 7 test loss = 0.1610 \t train = 0.1664 \t time = 840.86s\n",
      "Epoch 8 test loss = 0.1603 \t train = 0.1662 \t time = 887.44s\n",
      "Epoch 9 test loss = 0.1601 \t train = 0.1658 \t time = 923.61s\n",
      "Epoch 10 test loss = 0.0581 \t train = 0.1693 \t time = 832.91s\n"
     ]
    }
   ],
   "source": [
    "model1 = train(SEQ_LENS[0], train_data[0][0], train_data[0][1],\n",
    "               test_data[0][0], test_data[0][1], NUM_EPOCHS)"
   ]
  },
  {
   "cell_type": "code",
   "execution_count": null,
   "metadata": {
    "collapsed": false
   },
   "outputs": [
    {
     "name": "stdout",
     "output_type": "stream",
     "text": [
      "Building network ...\n",
      "The network has 10501 params\n",
      "Computing updates ...\n",
      "Compiling functions ...\n",
      "Epoch 0 test loss = 0.1670 \t train = 0.1695 \t time = 1114.95s\n",
      "Epoch 1 test loss = 0.1668 \t train = 0.1682 \t time = 1072.94s\n",
      "Epoch 2 test loss = 0.1670 \t train = 0.1669 \t time = 1061.33s\n",
      "Epoch 3 test loss = 0.1668 \t train = 0.1675 \t time = 1060.87s\n"
     ]
    }
   ],
   "source": [
    "model2 = train(SEQ_LENS[1], train_data[1][0], train_data[1][1],\n",
    "               test_data[1][0], test_data[1][1], NUM_EPOCHS)"
   ]
  },
  {
   "cell_type": "code",
   "execution_count": 56,
   "metadata": {
    "collapsed": false
   },
   "outputs": [
    {
     "data": {
      "text/plain": [
       "{'inp': input,\n",
       " 'network': <lasagne.layers.dense.DenseLayer at 0x7f6082e4df60>,\n",
       " 'target': target_output,\n",
       " 'test_err': array([ 0.16702086,  0.1668479 ,  0.16698732,  0.16682679,  0.16716476,\n",
       "         0.16684967,  0.16687859,  0.16677489,  0.16696768,  0.16674251,\n",
       "         0.16654639]),\n",
       " 'test_fn': <theano.compile.function_module.Function at 0x7f609966f898>,\n",
       " 'train_err': array([ 0.16946059,  0.16821286,  0.16688193,  0.16753311,  0.16703759,\n",
       "         0.16731607,  0.16840916,  0.16859257,  0.16727919,  0.16696799,\n",
       "         0.16691616]),\n",
       " 'train_fn': <theano.compile.function_module.Function at 0x7f6082422be0>}"
      ]
     },
     "execution_count": 56,
     "metadata": {},
     "output_type": "execute_result"
    }
   ],
   "source": [
    "model2"
   ]
  },
  {
   "cell_type": "code",
   "execution_count": null,
   "metadata": {
    "collapsed": false
   },
   "outputs": [
    {
     "name": "stdout",
     "output_type": "stream",
     "text": [
      "Building network ...\n",
      "The network has 10501 params\n",
      "Computing updates ...\n",
      "Compiling functions ...\n",
      "Epoch 0 test loss = 0.1648 \t train = 0.1686 \t time = 1662.67s\n",
      "Epoch 1 test loss = 0.1652 \t train = 0.1674 \t time = 1583.99s\n",
      "Epoch 2 test loss = 0.1654 \t train = 0.1663 \t time = 1624.62s\n",
      "Epoch 3 test loss = 0.1651 \t train = 0.1664 \t time = 1630.90s\n",
      "Epoch 4 test loss = 0.1661 \t train = 0.1674 \t time = 1578.29s\n",
      "Epoch 5 test loss = 0.1647 \t train = 0.1678 \t time = 1577.50s\n",
      "Epoch 6 test loss = 0.1648 \t train = 0.1675 \t time = 1577.60s\n"
     ]
    }
   ],
   "source": [
    "model3 = train(SEQ_LENS[2], train_data[2][0], train_data[2][1],\n",
    "               test_data[2][0], test_data[2][1], NUM_EPOCHS)"
   ]
  },
  {
   "cell_type": "code",
   "execution_count": 72,
   "metadata": {
    "collapsed": false
   },
   "outputs": [
    {
     "data": {
      "text/plain": [
       "{'inp': input,\n",
       " 'network': <lasagne.layers.dense.DenseLayer at 0x7f60832219b0>,\n",
       " 'target': target_output,\n",
       " 'test_err': array([ 0.16484366,  0.16524224,  0.16543644,  0.16513016,  0.1660609 ,\n",
       "         0.16466655,  0.16480166,  0.16478171,  0.16472904,  0.16568135]),\n",
       " 'test_fn': <theano.compile.function_module.Function at 0x7f60811eb0b8>,\n",
       " 'train_err': array([ 0.16862747,  0.16742174,  0.1663266 ,  0.16641542,  0.16740696,\n",
       "         0.16779978,  0.16745764,  0.16703502,  0.16680789,  0.16587701]),\n",
       " 'train_fn': <theano.compile.function_module.Function at 0x7f6080ec60f0>}"
      ]
     },
     "execution_count": 72,
     "metadata": {},
     "output_type": "execute_result"
    }
   ],
   "source": [
    "model3"
   ]
  },
  {
   "cell_type": "code",
   "execution_count": 73,
   "metadata": {
    "collapsed": false
   },
   "outputs": [
    {
     "name": "stdout",
     "output_type": "stream",
     "text": [
      "Building network ...\n",
      "The network has 10501 params\n",
      "Computing updates ...\n",
      "Compiling functions ...\n",
      "Epoch 0 test loss = 0.1726 \t train = 0.1671 \t time = 2137.14s\n",
      "Epoch 1 test loss = 0.1665 \t train = 0.1673 \t time = 2124.30s\n",
      "Epoch 2 test loss = 0.1679 \t train = 0.1668 \t time = 2058.24s\n",
      "Epoch 3 test loss = 0.1665 \t train = 0.1665 \t time = 1986.15s\n",
      "Epoch 4 test loss = 0.1665 \t train = 0.1663 \t time = 2030.84s\n",
      "Epoch 5 test loss = 0.1664 \t train = 0.1656 \t time = 1991.12s\n",
      "Epoch 6 test loss = 0.1664 \t train = 0.1657 \t time = 2029.58s\n",
      "Epoch 7 test loss = 0.1664 \t train = 0.1646 \t time = 2009.58s\n",
      "Epoch 8 test loss = 0.1666 \t train = 0.1653 \t time = 2039.72s\n",
      "Epoch 9 test loss = 0.1668 \t train = 0.1647 \t time = 2035.09s\n"
     ]
    }
   ],
   "source": [
    "model4 = train(SEQ_LENS[3], train_data[3][0], train_data[3][1],\n",
    "               test_data[3][0], test_data[3][1], NUM_EPOCHS)"
   ]
  },
  {
   "cell_type": "code",
   "execution_count": null,
   "metadata": {
    "collapsed": true
   },
   "outputs": [],
   "source": []
  },
  {
   "cell_type": "code",
   "execution_count": 116,
   "metadata": {
    "collapsed": false
   },
   "outputs": [
    {
     "data": {
      "text/plain": [
       "{'inp': input,\n",
       " 'network': <lasagne.layers.dense.DenseLayer at 0x7f60825df748>,\n",
       " 'target': target_output,\n",
       " 'test_err': array([ 0.16223222,  0.16124856,  0.16122107,  0.16119332,  0.16235495,\n",
       "         0.16136186,  0.16106722,  0.161027  ,  0.16025838,  0.16010919,\n",
       "         0.05806245]),\n",
       " 'test_fn': <theano.compile.function_module.Function at 0x7f6081c71550>,\n",
       " 'train_err': array([ 0.17208107,  0.16726611,  0.16708384,  0.16540762,  0.1668164 ,\n",
       "         0.16730034,  0.16647114,  0.16644216,  0.16621783,  0.16580767,\n",
       "         0.16927648]),\n",
       " 'train_fn': <theano.compile.function_module.Function at 0x7f6081c5e518>}"
      ]
     },
     "execution_count": 116,
     "metadata": {},
     "output_type": "execute_result"
    }
   ],
   "source": [
    "model1"
   ]
  },
  {
   "cell_type": "code",
   "execution_count": 80,
   "metadata": {
    "collapsed": true
   },
   "outputs": [],
   "source": [
    "# test_data[seq_len][x/y][idx]"
   ]
  },
  {
   "cell_type": "code",
   "execution_count": 87,
   "metadata": {
    "collapsed": false
   },
   "outputs": [
    {
     "name": "stdout",
     "output_type": "stream",
     "text": [
      "1218 0.1218\n"
     ]
    }
   ],
   "source": [
    "count = 0\n",
    "for i in range(TEST_SIZE):\n",
    "    if model1[\"test_fn\"](test_data[0][0][i:i+1], test_data[0][1][i:i+1]) < 0.0016:\n",
    "        count += 1\n",
    "print(count, count / TEST_SIZE)"
   ]
  },
  {
   "cell_type": "code",
   "execution_count": 88,
   "metadata": {
    "collapsed": false
   },
   "outputs": [
    {
     "name": "stdout",
     "output_type": "stream",
     "text": [
      "1169 0.1169\n"
     ]
    }
   ],
   "source": [
    "count = 0\n",
    "for i in range(TEST_SIZE):\n",
    "    if model1[\"test_fn\"](test_data[1][0][i:i+1], test_data[1][1][i:i+1]) < 0.0016:\n",
    "        count += 1\n",
    "print(count, count / TEST_SIZE)"
   ]
  },
  {
   "cell_type": "code",
   "execution_count": 89,
   "metadata": {
    "collapsed": false
   },
   "outputs": [
    {
     "name": "stdout",
     "output_type": "stream",
     "text": [
      "1075 0.1075\n"
     ]
    }
   ],
   "source": [
    "count = 0\n",
    "for i in range(TEST_SIZE):\n",
    "    if model1[\"test_fn\"](test_data[2][0][i:i+1], test_data[2][1][i:i+1]) < 0.0016:\n",
    "        count += 1\n",
    "print(count, count / TEST_SIZE)"
   ]
  },
  {
   "cell_type": "code",
   "execution_count": 90,
   "metadata": {
    "collapsed": false
   },
   "outputs": [
    {
     "name": "stdout",
     "output_type": "stream",
     "text": [
      "970 0.097\n"
     ]
    }
   ],
   "source": [
    "count = 0\n",
    "for i in range(TEST_SIZE):\n",
    "    if model1[\"test_fn\"](test_data[3][0][i:i+1], test_data[3][1][i:i+1]) < 0.0016:\n",
    "        count += 1\n",
    "print(count, count / TEST_SIZE)"
   ]
  },
  {
   "cell_type": "code",
   "execution_count": null,
   "metadata": {
    "collapsed": true
   },
   "outputs": [],
   "source": []
  },
  {
   "cell_type": "code",
   "execution_count": null,
   "metadata": {
    "collapsed": true
   },
   "outputs": [],
   "source": []
  },
  {
   "cell_type": "code",
   "execution_count": 141,
   "metadata": {
    "collapsed": false
   },
   "outputs": [],
   "source": [
    "def train_adam(seq_len, Xtrain, ytrain, Xtest, ytest, num_epochs=NUM_EPOCHS):\n",
    "    print(\"Building network ...\")\n",
    "    inp = T.tensor3('input', dtype='float64')\n",
    "    target_values = T.vector('target_output', dtype='float64')\n",
    "    network = build_network(inp, seq_len)\n",
    "    print(\"The network has {} params\".format(lasagne.layers.count_params(network)))\n",
    "    \n",
    "    train_err = np.zeros(NUM_EPOCHS)\n",
    "    test_err = np.zeros(NUM_EPOCHS)\n",
    "    \n",
    "    # lasagne.layers.get_output produces a variable for the output of the net\n",
    "    network_output = lasagne.layers.get_output(network)\n",
    "    # The value we care about is the final value produced for each sequence\n",
    "    # first dim of predicted_values is BATCH_SIZE\n",
    "    predicted_values = network_output\n",
    "    # Our cost will be mean-squared error\n",
    "    cost = T.mean((predicted_values.T - target_values)**2)\n",
    "    # Retrieve all parameters from the network\n",
    "    all_params = lasagne.layers.get_all_params(network)\n",
    "    # Compute SGD updates for training\n",
    "    print(\"Computing updates ...\")\n",
    "    all_grads = T.grad(cost, all_params)\n",
    "    scaled_grads, norm = lasagne.updates.total_norm_constraint(all_grads, GRAD_CLIP, return_norm=True)\n",
    "    updates = lasagne.updates.adam(scaled_grads, all_params)\n",
    "    # Theano functions for training and computing cost\n",
    "    print(\"Compiling functions ...\")\n",
    "    train_fn = theano.function([inp, target_values], [cost, norm], updates=updates, allow_input_downcast=True)\n",
    "    compute_cost = theano.function([inp, target_values], cost, allow_input_downcast=True)\n",
    "\n",
    "    for epoch in range(NUM_EPOCHS):\n",
    "        start_time = time.time()\n",
    "        for batch in range(TRAIN_SIZE):\n",
    "            idx = np.random.randint(TRAIN_SIZE, size=BATCH_SIZE)\n",
    "            err, norm_tr = train_fn(Xtrain[idx, :, :], ytrain[idx])\n",
    "            train_err[epoch] += err\n",
    "        train_err[epoch] /= TRAIN_SIZE\n",
    "        test_err[epoch] = compute_cost(Xtest, ytest)\n",
    "        print(\"Epoch {} test loss = {:.4f} \\t train = {:.4f} \\t norm = {} \\t time = {:.2f}s\".format(\n",
    "                epoch, test_err[epoch], train_err[epoch], norm_tr, time.time() - start_time))\n",
    "    return pack(train_err, test_err, network, inp, target_values, train_fn, compute_cost)"
   ]
  },
  {
   "cell_type": "code",
   "execution_count": 142,
   "metadata": {
    "collapsed": true
   },
   "outputs": [],
   "source": [
    "TRAIN_SIZE = 10\n",
    "BATCH_SIZE = 100"
   ]
  },
  {
   "cell_type": "code",
   "execution_count": 144,
   "metadata": {
    "collapsed": false
   },
   "outputs": [
    {
     "name": "stdout",
     "output_type": "stream",
     "text": [
      "Building network ...\n",
      "The network has 10501 params\n",
      "Computing updates ...\n",
      "Compiling functions ...\n",
      "Epoch 0 test loss = 0.5101 \t train = 0.6639 \t norm = 6.125143622326812 \t time = 32.57s\n",
      "Epoch 1 test loss = 0.3488 \t train = 0.3001 \t norm = 3.800840105018453 \t time = 32.12s\n",
      "Epoch 2 test loss = 0.1643 \t train = 0.0999 \t norm = 2.5677671656809027 \t time = 32.72s\n",
      "Epoch 3 test loss = 0.2225 \t train = 0.0812 \t norm = 1.0763219145607437 \t time = 30.37s\n",
      "Epoch 4 test loss = 0.1804 \t train = 0.0778 \t norm = 1.080205013349289 \t time = 31.14s\n",
      "Epoch 5 test loss = 0.2011 \t train = 0.0731 \t norm = 0.25422163000423215 \t time = 31.69s\n",
      "Epoch 6 test loss = 0.1817 \t train = 0.0756 \t norm = 0.3019141106830181 \t time = 31.45s\n",
      "Epoch 7 test loss = 0.2058 \t train = 0.0746 \t norm = 0.21720167825755626 \t time = 30.35s\n",
      "Epoch 8 test loss = 0.1937 \t train = 0.0733 \t norm = 0.7964197326509098 \t time = 31.89s\n",
      "Epoch 9 test loss = 0.1958 \t train = 0.0727 \t norm = 0.650898958294212 \t time = 32.20s\n"
     ]
    }
   ],
   "source": [
    "mod = train_adam(SEQ_LENS[0], train_data[0][0], train_data[0][1],\n",
    "                 test_data[0][0], test_data[0][1])"
   ]
  },
  {
   "cell_type": "code",
   "execution_count": null,
   "metadata": {
    "collapsed": true
   },
   "outputs": [],
   "source": []
  }
 ],
 "metadata": {
  "kernelspec": {
   "display_name": "Python 3",
   "language": "python",
   "name": "python3"
  },
  "language_info": {
   "codemirror_mode": {
    "name": "ipython",
    "version": 3
   },
   "file_extension": ".py",
   "mimetype": "text/x-python",
   "name": "python",
   "nbconvert_exporter": "python",
   "pygments_lexer": "ipython3",
   "version": "3.5.2"
  }
 },
 "nbformat": 4,
 "nbformat_minor": 0
}
