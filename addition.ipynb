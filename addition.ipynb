{
 "cells": [
  {
   "cell_type": "code",
   "execution_count": 16,
   "metadata": {
    "collapsed": false
   },
   "outputs": [
    {
     "name": "stdout",
     "output_type": "stream",
     "text": [
      "The autoreload extension is already loaded. To reload it, use:\n",
      "  %reload_ext autoreload\n"
     ]
    }
   ],
   "source": [
    "from __future__ import print_function\n",
    "%load_ext autoreload\n",
    "%autoreload 2\n",
    "import numpy as np\n",
    "import theano\n",
    "import theano.tensor as T\n",
    "import lasagne\n",
    "import time\n",
    "import matplotlib\n",
    "import matplotlib.pyplot as plt\n",
    "%matplotlib inline\n",
    "from rnn_lib import *"
   ]
  },
  {
   "cell_type": "code",
   "execution_count": 13,
   "metadata": {
    "collapsed": true
   },
   "outputs": [],
   "source": [
    "%reload_ext autoreload"
   ]
  },
  {
   "cell_type": "markdown",
   "metadata": {},
   "source": [
    "CROSS VALIDATION FOR HYPERPARAMETERS"
   ]
  },
  {
   "cell_type": "code",
   "execution_count": 2,
   "metadata": {
    "collapsed": true
   },
   "outputs": [],
   "source": [
    "N_HIDDEN = 100\n",
    "NDIM = 2\n",
    "TRAIN_SIZE = int(1e5)\n",
    "TEST_SIZE = int(1e4)\n",
    "SEQ_LENS = [10, 50, 70, 100, 150, 200, 300, 400]\n",
    "\n",
    "LEARNING_RATE = 0.001\n",
    "GRAD_CLIP = 10\n",
    "BATCH_SIZE = 20\n",
    "NUM_EPOCHS = 10"
   ]
  },
  {
   "cell_type": "code",
   "execution_count": 3,
   "metadata": {
    "collapsed": false
   },
   "outputs": [],
   "source": [
    "def gen_add_data(length, n_batch=BATCH_SIZE):\n",
    "    X = np.concatenate([np.random.uniform(size=(n_batch, length, 1)),\n",
    "                        np.zeros((n_batch, length, 1))],\n",
    "                        axis=-1)\n",
    "    y = np.zeros((n_batch,))\n",
    "    \n",
    "    X[np.arange(n_batch), np.random.randint(length/10, size=n_batch), 1] = 1\n",
    "    X[np.arange(n_batch), np.random.randint(length/2, length, size=n_batch), 1] = 1\n",
    "    # Multiply and sum the dimensions of X to get the target value\n",
    "    y = np.sum(X[:, :, 0] * X[:, :, 1], axis=1)\n",
    "    \n",
    "    return (X.astype(theano.config.floatX), y.astype(theano.config.floatX))"
   ]
  },
  {
   "cell_type": "code",
   "execution_count": null,
   "metadata": {
    "collapsed": true
   },
   "outputs": [],
   "source": []
  },
  {
   "cell_type": "code",
   "execution_count": 4,
   "metadata": {
    "collapsed": false
   },
   "outputs": [],
   "source": [
    "train_data = {T : gen_add_data(T, TRAIN_SIZE) for T in SEQ_LENS}"
   ]
  },
  {
   "cell_type": "code",
   "execution_count": 5,
   "metadata": {
    "collapsed": false
   },
   "outputs": [],
   "source": [
    "for l in train_data:\n",
    "    x = train_data[l][0]\n",
    "    y = train_data[l][1]\n",
    "    train_data[l] = {\"x\" : x, \"y\" : y}"
   ]
  },
  {
   "cell_type": "code",
   "execution_count": 6,
   "metadata": {
    "collapsed": false
   },
   "outputs": [],
   "source": [
    "test_data = {T : gen_add_data(T, TEST_SIZE) for T in SEQ_LENS}"
   ]
  },
  {
   "cell_type": "code",
   "execution_count": 7,
   "metadata": {
    "collapsed": true
   },
   "outputs": [],
   "source": [
    "for l in test_data:\n",
    "    x = test_data[l][0]\n",
    "    y = test_data[l][1]\n",
    "    test_data[l] = {\"x\" : x, \"y\" : y}"
   ]
  },
  {
   "cell_type": "code",
   "execution_count": 10,
   "metadata": {
    "collapsed": true
   },
   "outputs": [],
   "source": [
    "# Use: train_data[seq_len][\"x\"/\"y\"][obj_idx]"
   ]
  },
  {
   "cell_type": "markdown",
   "metadata": {},
   "source": [
    "В статье \"Improving performance of RNN with ReLU\" обучали на 10 эпох с BATCH_SIZE = 1.\n",
    "\n",
    "В статье \"Simple way to initialize RNN\" до $8 * 10^6$ шагов с BATCH_SIZE = 16, причём лосс значительно менялся до $3 * 10^6$ шагов, что есть примерно 480 эпох."
   ]
  },
  {
   "cell_type": "code",
   "execution_count": 8,
   "metadata": {
    "collapsed": true
   },
   "outputs": [],
   "source": [
    "# Вспомогательная функция для запаковки результата обучения \n",
    "def pack(network, inp, target, train_err, test_err, train_fn, test_fn):\n",
    "    return {'network':network,\n",
    "            'inp':inp,\n",
    "            'target':target,\n",
    "            \n",
    "            'train_err':train_err,\n",
    "            'test_err':test_err,\n",
    "            'train_fn':train_fn, \n",
    "            'test_fn':test_fn\n",
    "            } "
   ]
  },
  {
   "cell_type": "code",
   "execution_count": 9,
   "metadata": {
    "collapsed": true
   },
   "outputs": [],
   "source": [
    "# Create a network with particular initialization for parameters\n",
    "def create_network(seq_len, rnn_type, dim, nhidden, nout, nonlin):\n",
    "    print(\"Building network ...\")\n",
    "    inp = T.tensor3('input', dtype='float64')\n",
    "    # Matrix of size BATCH_SIZE * 1 to match network's output\n",
    "    target_values = T.matrix('target_output', dtype='float64')\n",
    "    network = build_network(inp, seq_len, dim, nhidden, nout, nonlin, rnn_type)\n",
    "    print(\"The network has {} params\".format(lasagne.layers.count_params(network)))\n",
    "    return (network, inp, target_values)"
   ]
  },
  {
   "cell_type": "code",
   "execution_count": 10,
   "metadata": {
    "collapsed": false
   },
   "outputs": [],
   "source": [
    "def train(network, inp, target_values, Xtrain, ytrain, Xtest, ytest, filename, num_epochs=NUM_EPOCHS):\n",
    "    train_err = np.zeros(num_epochs)\n",
    "    test_err = np.zeros(num_epochs)\n",
    "    \n",
    "    network_output = lasagne.layers.get_output(network)\n",
    "\n",
    "    # Cost is MSE\n",
    "    cost = T.mean((network_output - target_values)**2)\n",
    "    all_params = lasagne.layers.get_all_params(network)\n",
    "    print(\"Computing updates ...\")\n",
    "    all_grads = T.grad(cost, all_params)\n",
    "    scaled_grads, total_norm = lasagne.updates.total_norm_constraint(all_grads, GRAD_CLIP, return_norm=True)\n",
    "    updates = lasagne.updates.sgd(scaled_grads, all_params, LEARNING_RATE)\n",
    "    \n",
    "    print(\"Compiling functions ...\")\n",
    "    train_fn = theano.function([inp, target_values], [cost, total_norm], updates=updates, allow_input_downcast=True)\n",
    "    compute_cost = theano.function([inp, target_values], cost, allow_input_downcast=True)\n",
    "    \n",
    "    num_batches = TRAIN_SIZE // BATCH_SIZE\n",
    "    train_idxs = np.arange(TRAIN_SIZE)\n",
    "    for epoch in range(num_epochs):\n",
    "        start_time = time.time()\n",
    "        np.random.shuffle(train_idxs)\n",
    "        for batch in range(num_batches):\n",
    "            idx = train_idxs[BATCH_SIZE * batch : BATCH_SIZE * (batch + 1)]\n",
    "            err, norm = train_fn(Xtrain[idx, :, :], ytrain[idx, np.newaxis])\n",
    "            train_err[epoch] += err\n",
    "            \n",
    "            #if batch == num_batches // 4:\n",
    "            #    print(\"25%\", end=\",\")\n",
    "            #if batch == num_batches // 2:\n",
    "            #    print(\"50%\", end=\",\")\n",
    "            #if batch == num_batches // 4 * 3:\n",
    "            #    print(\"75%\")\n",
    "                \n",
    "        train_err[epoch] /= num_batches\n",
    "        test_err[epoch] = compute_cost(Xtest, ytest[:, np.newaxis])\n",
    "        print(\"Epoch {} test loss = {:.4f} \\t train = {:.4f} \\t norm = {:.4f} \\t time = {:.2f}s\".format(\n",
    "                epoch, test_err[epoch], train_err[epoch], norm.item(), time.time() - start_time))\n",
    "\n",
    "    np.save(file=filename, arr=lasagne.layers.get_all_param_values(network))\n",
    "    return pack(network, inp, target_values, train_err, test_err, train_fn, compute_cost)"
   ]
  },
  {
   "cell_type": "markdown",
   "metadata": {
    "collapsed": true
   },
   "source": [
    "## Experiments"
   ]
  },
  {
   "cell_type": "code",
   "execution_count": 24,
   "metadata": {
    "collapsed": false
   },
   "outputs": [
    {
     "data": {
      "text/plain": [
       "[10, 50, 70, 100, 150, 200, 300, 400]"
      ]
     },
     "execution_count": 24,
     "metadata": {},
     "output_type": "execute_result"
    }
   ],
   "source": [
    "SEQ_LENS"
   ]
  },
  {
   "cell_type": "markdown",
   "metadata": {},
   "source": [
    "### Sequence length is 10"
   ]
  },
  {
   "cell_type": "code",
   "execution_count": 11,
   "metadata": {
    "collapsed": false,
    "scrolled": true
   },
   "outputs": [
    {
     "name": "stdout",
     "output_type": "stream",
     "text": [
      "Building network ...\n",
      "The network has 10501 params\n",
      "Computing updates ...\n",
      "Compiling functions ...\n",
      "Epoch 0 test loss = 0.1512 \t train = 0.1749 \t norm = 0.1633 \t time = 14.13s\n",
      "Epoch 1 test loss = 0.1448 \t train = 0.1482 \t norm = 0.1624 \t time = 15.20s\n",
      "Epoch 2 test loss = 0.1365 \t train = 0.1411 \t norm = 0.3183 \t time = 14.14s\n",
      "Epoch 3 test loss = 0.1193 \t train = 0.1294 \t norm = 0.7935 \t time = 14.06s\n",
      "Epoch 4 test loss = 0.0050 \t train = 0.0665 \t norm = 0.6082 \t time = 13.79s\n",
      "Epoch 5 test loss = 0.0022 \t train = 0.0032 \t norm = 0.2957 \t time = 14.61s\n",
      "Epoch 6 test loss = 0.0014 \t train = 0.0018 \t norm = 0.7466 \t time = 13.70s\n",
      "Epoch 7 test loss = 0.0011 \t train = 0.0013 \t norm = 0.1433 \t time = 13.61s\n",
      "Epoch 8 test loss = 0.0008 \t train = 0.0009 \t norm = 0.1536 \t time = 13.58s\n",
      "Epoch 9 test loss = 0.0006 \t train = 0.0007 \t norm = 0.5614 \t time = 13.68s\n"
     ]
    }
   ],
   "source": [
    "net, inp, tar = create_network(10, 'srnn', 2, N_HIDDEN, 1, lasagne.nonlinearities.linear)\n",
    "srnn10 = train(net, inp, tar, train_data[10][\"x\"], train_data[10][\"y\"],\n",
    "                      test_data[10][\"x\"], test_data[10][\"y\"], \"srnn10\", num_epochs=10)"
   ]
  },
  {
   "cell_type": "code",
   "execution_count": 14,
   "metadata": {
    "collapsed": false,
    "scrolled": true
   },
   "outputs": [
    {
     "name": "stdout",
     "output_type": "stream",
     "text": [
      "Building network ...\n",
      "The network has 10501 params\n",
      "Computing updates ...\n",
      "Compiling functions ...\n",
      "Epoch 0 test loss = 0.0275 \t train = 0.0564 \t norm = 1.2699 \t time = 13.59s\n",
      "Epoch 1 test loss = 0.0140 \t train = 0.0208 \t norm = 1.0621 \t time = 13.59s\n",
      "Epoch 2 test loss = 0.0104 \t train = 0.0114 \t norm = 2.8460 \t time = 14.00s\n",
      "Epoch 3 test loss = 0.0064 \t train = 0.0070 \t norm = 1.2575 \t time = 13.96s\n",
      "Epoch 4 test loss = 0.0039 \t train = 0.0048 \t norm = 0.2637 \t time = 14.19s\n",
      "Epoch 5 test loss = 0.0029 \t train = 0.0034 \t norm = 1.3260 \t time = 14.00s\n",
      "Epoch 6 test loss = 0.0028 \t train = 0.0025 \t norm = 1.3498 \t time = 14.66s\n",
      "Epoch 7 test loss = 0.0017 \t train = 0.0019 \t norm = 0.4201 \t time = 13.56s\n",
      "Epoch 8 test loss = 0.0014 \t train = 0.0015 \t norm = 0.1190 \t time = 13.93s\n",
      "Epoch 9 test loss = 0.0010 \t train = 0.0012 \t norm = 0.7427 \t time = 13.85s\n"
     ]
    }
   ],
   "source": [
    "net, inp, tar = create_network(10, 'irnn', 2, N_HIDDEN, 1, lasagne.nonlinearities.linear)\n",
    "irnn10 = train(net, inp, tar, train_data[10][\"x\"], train_data[10][\"y\"],\n",
    "                      test_data[10][\"x\"], test_data[10][\"y\"], \"irnn10\", num_epochs=10)"
   ]
  },
  {
   "cell_type": "code",
   "execution_count": 24,
   "metadata": {
    "collapsed": false,
    "scrolled": true
   },
   "outputs": [
    {
     "name": "stdout",
     "output_type": "stream",
     "text": [
      "Building network ...\n",
      "The network has 10501 params\n",
      "Computing updates ...\n",
      "Compiling functions ...\n",
      "Epoch 0 test loss = 0.0187 \t train = 0.0922 \t norm = 0.8360 \t time = 13.70s\n",
      "Epoch 1 test loss = 0.0064 \t train = 0.0114 \t norm = 0.3885 \t time = 13.79s\n",
      "Epoch 2 test loss = 0.0031 \t train = 0.0045 \t norm = 0.0925 \t time = 14.08s\n",
      "Epoch 3 test loss = 0.0018 \t train = 0.0024 \t norm = 0.0953 \t time = 14.50s\n",
      "Epoch 4 test loss = 0.0011 \t train = 0.0014 \t norm = 0.1892 \t time = 15.03s\n",
      "Epoch 5 test loss = 0.0007 \t train = 0.0009 \t norm = 0.3871 \t time = 13.67s\n",
      "Epoch 6 test loss = 0.0005 \t train = 0.0006 \t norm = 0.1405 \t time = 13.96s\n",
      "Epoch 7 test loss = 0.0004 \t train = 0.0005 \t norm = 0.1034 \t time = 13.62s\n",
      "Epoch 8 test loss = 0.0003 \t train = 0.0003 \t norm = 0.1920 \t time = 14.67s\n",
      "Epoch 9 test loss = 0.0002 \t train = 0.0003 \t norm = 0.3194 \t time = 13.77s\n"
     ]
    }
   ],
   "source": [
    "net, inp, tar = create_network(10, 'nprnn', 2, N_HIDDEN, 1, lasagne.nonlinearities.linear)\n",
    "nprnn10 = train(net, inp, tar, train_data[10][\"x\"], train_data[10][\"y\"],\n",
    "                      test_data[10][\"x\"], test_data[10][\"y\"], \"nprnn10\", num_epochs=10)"
   ]
  },
  {
   "cell_type": "code",
   "execution_count": 25,
   "metadata": {
    "collapsed": false
   },
   "outputs": [
    {
     "name": "stdout",
     "output_type": "stream",
     "text": [
      "Building network ...\n",
      "The network has 10501 params\n",
      "Computing updates ...\n",
      "Compiling functions ...\n",
      "Epoch 0 test loss = 0.0578 \t train = 0.1330 \t norm = 2.2675 \t time = 13.71s\n",
      "Epoch 1 test loss = 0.0123 \t train = 0.0264 \t norm = 0.7482 \t time = 14.22s\n",
      "Epoch 2 test loss = 0.0054 \t train = 0.0080 \t norm = 1.1340 \t time = 13.70s\n",
      "Epoch 3 test loss = 0.0030 \t train = 0.0040 \t norm = 0.5329 \t time = 14.50s\n",
      "Epoch 4 test loss = 0.0019 \t train = 0.0025 \t norm = 0.0886 \t time = 15.81s\n",
      "Epoch 5 test loss = 0.0013 \t train = 0.0016 \t norm = 0.3362 \t time = 15.23s\n",
      "Epoch 6 test loss = 0.0010 \t train = 0.0011 \t norm = 0.0591 \t time = 14.43s\n",
      "Epoch 7 test loss = 0.0007 \t train = 0.0008 \t norm = 0.1625 \t time = 17.49s\n",
      "Epoch 8 test loss = 0.0005 \t train = 0.0006 \t norm = 0.0857 \t time = 14.97s\n",
      "Epoch 9 test loss = 0.0004 \t train = 0.0004 \t norm = 0.0480 \t time = 13.77s\n"
     ]
    }
   ],
   "source": [
    "net, inp, tar = create_network(10, 'nrnn', 2, N_HIDDEN, 1, lasagne.nonlinearities.linear)\n",
    "nrnn10 = train(net, inp, tar, train_data[10][\"x\"], train_data[10][\"y\"],\n",
    "                      test_data[10][\"x\"], test_data[10][\"y\"], \"add-data/nrnn10\", num_epochs=10)"
   ]
  },
  {
   "cell_type": "code",
   "execution_count": null,
   "metadata": {
    "collapsed": true
   },
   "outputs": [],
   "source": []
  },
  {
   "cell_type": "code",
   "execution_count": 26,
   "metadata": {
    "collapsed": false
   },
   "outputs": [
    {
     "data": {
      "text/plain": [
       "<matplotlib.legend.Legend at 0x2ad9d97ad310>"
      ]
     },
     "execution_count": 26,
     "metadata": {},
     "output_type": "execute_result"
    },
    {
     "data": {
      "image/png": "[encoded data removed]",
      "text/plain": [
       "<matplotlib.figure.Figure at 0x2ad9d9797fd0>"
      ]
     },
     "metadata": {},
     "output_type": "display_data"
    }
   ],
   "source": [
    "plt.figure(figsize=(7, 5))\n",
    "plt.title(\"Test loss MSE seq len = 10\")\n",
    "plt.xlabel(\"epoch\")\n",
    "plt.plot(srnn10[\"test_err\"], label=\"sRNN\")\n",
    "plt.plot(nrnn10[\"test_err\"], label=\"nRNN\")\n",
    "plt.plot(irnn10[\"test_err\"], label=\"IRNN\")\n",
    "plt.plot(nprnn10[\"test_err\"], label=\"npRNN\")\n",
    "plt.legend()"
   ]
  },
  {
   "cell_type": "markdown",
   "metadata": {},
   "source": [
    "### Sequence length is 50"
   ]
  },
  {
   "cell_type": "code",
   "execution_count": 11,
   "metadata": {
    "collapsed": false,
    "scrolled": true
   },
   "outputs": [
    {
     "name": "stdout",
     "output_type": "stream",
     "text": [
      "Building network ...\n",
      "The network has 10501 params\n",
      "Computing updates ...\n",
      "Compiling functions ...\n",
      "Epoch 0 test loss = 0.1660 \t train = 0.2008 \t norm = 0.3547 \t time = 65.54s\n",
      "Epoch 1 test loss = 0.1651 \t train = 0.1677 \t norm = 0.4645 \t time = 65.84s\n",
      "Epoch 2 test loss = 0.1648 \t train = 0.1670 \t norm = 0.3573 \t time = 67.39s\n",
      "Epoch 3 test loss = 0.1644 \t train = 0.1666 \t norm = 0.2876 \t time = 65.95s\n",
      "Epoch 4 test loss = 0.1640 \t train = 0.1663 \t norm = 0.2862 \t time = 65.74s\n",
      "Epoch 5 test loss = 0.1637 \t train = 0.1660 \t norm = 0.1410 \t time = 66.68s\n",
      "Epoch 6 test loss = 0.1635 \t train = 0.1658 \t norm = 0.7400 \t time = 66.55s\n",
      "Epoch 7 test loss = 0.1632 \t train = 0.1655 \t norm = 0.1489 \t time = 66.58s\n",
      "Epoch 8 test loss = 0.1630 \t train = 0.1652 \t norm = 0.1862 \t time = 65.44s\n",
      "Epoch 9 test loss = 0.1628 \t train = 0.1650 \t norm = 0.3058 \t time = 61.53s\n"
     ]
    }
   ],
   "source": [
    "net, inp, tar = create_network(50, 'srnn', 2, N_HIDDEN, 1, lasagne.nonlinearities.linear)\n",
    "srnn50 = train(net, inp, tar, train_data[50][\"x\"], train_data[50][\"y\"],\n",
    "                      test_data[50][\"x\"], test_data[50][\"y\"], \"srnn50\", num_epochs=10)\n",
    "np.save(\"srnn50-err\", srnn50[\"test_err\"])"
   ]
  },
  {
   "cell_type": "code",
   "execution_count": null,
   "metadata": {
    "collapsed": false,
    "scrolled": true
   },
   "outputs": [
    {
     "name": "stdout",
     "output_type": "stream",
     "text": [
      "Building network ...\n",
      "The network has 10501 params\n",
      "Computing updates ...\n",
      "Compiling functions ...\n",
      "Epoch 0 test loss = 0.0441 \t train = 0.1487 \t norm = 22.6715 \t time = 61.54s\n"
     ]
    }
   ],
   "source": [
    "net, inp, tar = create_network(50, 'irnn', 2, N_HIDDEN, 1, lasagne.nonlinearities.linear)\n",
    "irnn50 = train(net, inp, tar, train_data[50][\"x\"], train_data[50][\"y\"],\n",
    "                      test_data[50][\"x\"], test_data[50][\"y\"], \"add-data/irnn50\", num_epochs=10)\n",
    "np.save(\"irnn50-err\", irnn50[\"test_err\"])"
   ]
  },
  {
   "cell_type": "code",
   "execution_count": 14,
   "metadata": {
    "collapsed": false,
    "scrolled": true
   },
   "outputs": [
    {
     "name": "stdout",
     "output_type": "stream",
     "text": [
      "Building network ...\n",
      "The network has 10501 params\n",
      "Computing updates ...\n",
      "Compiling functions ...\n",
      "Epoch 0 test loss = 0.1633 \t train = 0.1734 \t norm = 2.4496 \t time = 61.16s\n",
      "Epoch 1 test loss = 0.1595 \t train = 0.1638 \t norm = 2.9404 \t time = 61.04s\n",
      "Epoch 2 test loss = 0.1936 \t train = 0.1598 \t norm = 6.3831 \t time = 61.04s\n",
      "Epoch 3 test loss = 0.1121 \t train = 0.1437 \t norm = 22.6664 \t time = 61.20s\n",
      "Epoch 4 test loss = 0.0451 \t train = 0.0692 \t norm = 25.6607 \t time = 62.26s\n",
      "Epoch 5 test loss = 0.0180 \t train = 0.0381 \t norm = 7.8952 \t time = 61.81s\n",
      "Epoch 6 test loss = 0.0111 \t train = 0.0256 \t norm = 1.3784 \t time = 61.77s\n",
      "Epoch 7 test loss = 0.0430 \t train = 0.0180 \t norm = 10.4029 \t time = 61.78s\n",
      "Epoch 8 test loss = 0.0114 \t train = 0.0144 \t norm = 5.7776 \t time = 61.77s\n",
      "Epoch 9 test loss = 0.0054 \t train = 0.0119 \t norm = 0.4052 \t time = 61.78s\n"
     ]
    }
   ],
   "source": [
    "net, inp, tar = create_network(50, 'nprnn', 2, N_HIDDEN, 1, lasagne.nonlinearities.linear)\n",
    "nprnn50 = train(net, inp, tar, train_data[50][\"x\"], train_data[50][\"y\"],\n",
    "                      test_data[50][\"x\"], test_data[50][\"y\"], \"add-data/nprnn50\", num_epochs=10)\n",
    "np.save(\"add-data/nprnn50-err\", nprnn50[\"test_err\"])"
   ]
  },
  {
   "cell_type": "code",
   "execution_count": 15,
   "metadata": {
    "collapsed": false
   },
   "outputs": [
    {
     "name": "stdout",
     "output_type": "stream",
     "text": [
      "Building network ...\n",
      "The network has 10501 params\n",
      "Computing updates ...\n",
      "Compiling functions ...\n",
      "Epoch 0 test loss = 0.1626 \t train = 0.1732 \t norm = 0.8093 \t time = 61.31s\n",
      "Epoch 1 test loss = 0.1642 \t train = 0.1636 \t norm = 0.3212 \t time = 61.22s\n",
      "Epoch 2 test loss = 0.1551 \t train = 0.1577 \t norm = 15.9034 \t time = 62.06s\n",
      "Epoch 3 test loss = 0.0471 \t train = 0.1121 \t norm = 5.9784 \t time = 61.33s\n",
      "Epoch 4 test loss = 0.0744 \t train = 0.0602 \t norm = 15.5705 \t time = 61.47s\n",
      "Epoch 5 test loss = 0.0566 \t train = 0.0442 \t norm = 8.7112 \t time = 61.84s\n",
      "Epoch 6 test loss = 0.0134 \t train = 0.0339 \t norm = 2.5434 \t time = 62.29s\n",
      "Epoch 7 test loss = 0.0256 \t train = 0.0262 \t norm = 7.4569 \t time = 62.40s\n",
      "Epoch 8 test loss = 0.0343 \t train = 0.0192 \t norm = 12.2994 \t time = 61.93s\n",
      "Epoch 9 test loss = 0.0067 \t train = 0.0154 \t norm = 3.0685 \t time = 61.94s\n"
     ]
    }
   ],
   "source": [
    "net, inp, tar = create_network(50, 'nrnn', 2, N_HIDDEN, 1, lasagne.nonlinearities.linear)\n",
    "nrnn50 = train(net, inp, tar, train_data[50][\"x\"], train_data[50][\"y\"],\n",
    "                      test_data[50][\"x\"], test_data[50][\"y\"], \"add-data/nrnn50\", num_epochs=10)\n",
    "np.save(\"add-data/nrnn50-err\", nrnn50[\"test_err\"])"
   ]
  },
  {
   "cell_type": "code",
   "execution_count": 17,
   "metadata": {
    "collapsed": false
   },
   "outputs": [
    {
     "data": {
      "text/plain": [
       "<matplotlib.legend.Legend at 0x2b010fa91d90>"
      ]
     },
     "execution_count": 17,
     "metadata": {},
     "output_type": "execute_result"
    },
    {
     "data": {
      "image/png": "[encoded data removed]",
      "text/plain": [
       "<matplotlib.figure.Figure at 0x2b010f9c8d50>"
      ]
     },
     "metadata": {},
     "output_type": "display_data"
    }
   ],
   "source": [
    "plt.figure(figsize=(7, 5))\n",
    "plt.title(\"Test loss MSE seq len = 50\")\n",
    "plt.xlabel(\"epoch\")\n",
    "plt.plot(srnn50[\"test_err\"], label=\"sRNN\")\n",
    "plt.plot(irnn50[\"test_err\"], label=\"IRNN\")\n",
    "plt.plot(nrnn50[\"test_err\"], label=\"nRNN\")\n",
    "plt.plot(nprnn50[\"test_err\"], label=\"npRNN\")\n",
    "plt.legend()"
   ]
  },
  {
   "cell_type": "code",
   "execution_count": null,
   "metadata": {
    "collapsed": true
   },
   "outputs": [],
   "source": []
  },
  {
   "cell_type": "markdown",
   "metadata": {},
   "source": [
    "### Sequence length is 70"
   ]
  },
  {
   "cell_type": "code",
   "execution_count": null,
   "metadata": {
    "collapsed": false,
    "scrolled": true
   },
   "outputs": [
    {
     "name": "stdout",
     "output_type": "stream",
     "text": [
      "Building network ...\n",
      "The network has 10501 params\n",
      "Computing updates ...\n",
      "Compiling functions ...\n",
      "Epoch 0 test loss = 0.1660 \t train = 0.1945 \t norm = 0.1958 \t time = 84.78s\n",
      "Epoch 1 test loss = 0.1649 \t train = 0.1669 \t norm = 0.5113 \t time = 84.59s\n",
      "Epoch 2 test loss = 0.1646 \t train = 0.1663 \t norm = 0.5218 \t time = 84.62s\n",
      "Epoch 3 test loss = 0.1645 \t train = 0.1661 \t norm = 0.7331 \t time = 85.27s\n"
     ]
    }
   ],
   "source": [
    "net, inp, tar = create_network(70, 'srnn', 2, N_HIDDEN, 1, lasagne.nonlinearities.linear)\n",
    "srnn70 = train(net, inp, tar, train_data[70][\"x\"], train_data[70][\"y\"],\n",
    "                      test_data[70][\"x\"], test_data[70][\"y\"], \"add-data/srnn70\", num_epochs=10)\n",
    "np.save(\"add-data/srnn70-err\", srnn70[\"test_err\"])"
   ]
  },
  {
   "cell_type": "code",
   "execution_count": null,
   "metadata": {
    "collapsed": false,
    "scrolled": true
   },
   "outputs": [],
   "source": [
    "net, inp, tar = create_network(70, 'irnn', 2, N_HIDDEN, 1, lasagne.nonlinearities.linear)\n",
    "irnn70 = train(net, inp, tar, train_data[70][\"x\"], train_data[70][\"y\"],\n",
    "                      test_data[70][\"x\"], test_data[70][\"y\"], \"add-data/irnn70\", num_epochs=10)\n",
    "np.save(\"add-data/irnn70-err\", irnn70[\"test_err\"])"
   ]
  },
  {
   "cell_type": "code",
   "execution_count": null,
   "metadata": {
    "collapsed": false,
    "scrolled": true
   },
   "outputs": [],
   "source": [
    "net, inp, tar = create_network(70, 'nprnn', 2, N_HIDDEN, 1, lasagne.nonlinearities.linear)\n",
    "nprnn70 = train(net, inp, tar, train_data[70][\"x\"], train_data[70][\"y\"],\n",
    "                      test_data[70][\"x\"], test_data[70][\"y\"], \"add-data/nprnn70\", num_epochs=10)\n",
    "np.save(\"add-data/nprnn70-err\", nprnn70[\"test_err\"])"
   ]
  },
  {
   "cell_type": "code",
   "execution_count": null,
   "metadata": {
    "collapsed": true
   },
   "outputs": [],
   "source": [
    "net, inp, tar = create_network(70, 'nrnn', 2, N_HIDDEN, 1, lasagne.nonlinearities.linear)\n",
    "nrnn70 = train(net, inp, tar, train_data[70][\"x\"], train_data[70][\"y\"],\n",
    "                      test_data[70][\"x\"], test_data[70][\"y\"], \"add-data/nrnn70\", num_epochs=10)\n",
    "np.save(\"add-data/nrnn70-err\", nrnn70[\"test_err\"])"
   ]
  },
  {
   "cell_type": "code",
   "execution_count": 29,
   "metadata": {
    "collapsed": false
   },
   "outputs": [
    {
     "data": {
      "text/plain": [
       "<matplotlib.legend.Legend at 0x7fa026c3afd0>"
      ]
     },
     "execution_count": 29,
     "metadata": {},
     "output_type": "execute_result"
    },
    {
     "data": {
      "image/png": "[encoded data removed]",
      "text/plain": [
       "<matplotlib.figure.Figure at 0x7fa026e76588>"
      ]
     },
     "metadata": {},
     "output_type": "display_data"
    }
   ],
   "source": [
    "plt.figure(figsize=(7, 5))\n",
    "plt.title(\"Test loss MSE seq len = 70\")\n",
    "plt.xlabel(\"epoch\")\n",
    "plt.plot(srnn70[\"test_err\"], label=\"sRNN\")\n",
    "plt.plot(irnn70[\"test_err\"], label=\"IRNN\")\n",
    "plt.plot(nrnn70[\"test_err\"], label=\"nRNN\")\n",
    "plt.plot(nprnn70[\"test_err\"], label=\"npRNN\")\n",
    "plt.legend()"
   ]
  },
  {
   "cell_type": "code",
   "execution_count": null,
   "metadata": {
    "collapsed": true
   },
   "outputs": [],
   "source": []
  },
  {
   "cell_type": "markdown",
   "metadata": {},
   "source": [
    "### Sequence length is 100"
   ]
  },
  {
   "cell_type": "code",
   "execution_count": null,
   "metadata": {
    "collapsed": false,
    "scrolled": true
   },
   "outputs": [],
   "source": [
    "net, inp, tar = create_network(100, 'srnn', 2, N_HIDDEN, 1, lasagne.nonlinearities.linear)\n",
    "srnn100 = train(net, inp, tar, train_data[100][\"x\"], train_data[100][\"y\"],\n",
    "                      test_data[100][\"x\"], test_data[100][\"y\"], \"add-data/srnn100\", num_epochs=10)\n",
    "np.save(\"add-data/srnn100-err\", srnn100[\"test_err\"])"
   ]
  },
  {
   "cell_type": "code",
   "execution_count": null,
   "metadata": {
    "collapsed": false,
    "scrolled": true
   },
   "outputs": [],
   "source": [
    "net, inp, tar = create_network(100, 'irnn', 2, N_HIDDEN, 1, lasagne.nonlinearities.linear)\n",
    "irnn100 = train(net, inp, tar, train_data[100][\"x\"], train_data[100][\"y\"],\n",
    "                      test_data[100][\"x\"], test_data[100][\"y\"], \"add-data/irnn100\", num_epochs=10)\n",
    "np.save(\"add-data/irnn100-err\", irnn100[\"test_err\"])"
   ]
  },
  {
   "cell_type": "code",
   "execution_count": null,
   "metadata": {
    "collapsed": false,
    "scrolled": true
   },
   "outputs": [],
   "source": [
    "net, inp, tar = create_network(100, 'nprnn', 2, N_HIDDEN, 1, lasagne.nonlinearities.linear)\n",
    "nprnn100 = train(net, inp, tar, train_data[100][\"x\"], train_data[100][\"y\"],\n",
    "                      test_data[100][\"x\"], test_data[100][\"y\"], \"add-data/nprnn100\", num_epochs=10)\n",
    "np.save(\"add-data/nprnn100-err\", nprnn100[\"test_err\"])"
   ]
  },
  {
   "cell_type": "code",
   "execution_count": null,
   "metadata": {
    "collapsed": true
   },
   "outputs": [],
   "source": [
    "net, inp, tar = create_network(100, 'nrnn', 2, N_HIDDEN, 1, lasagne.nonlinearities.linear)\n",
    "nrnn100 = train(net, inp, tar, train_data[100][\"x\"], train_data[100][\"y\"],\n",
    "                      test_data[100][\"x\"], test_data[100][\"y\"], \"add-data/nrnn100\", num_epochs=10)\n",
    "np.save(\"add-data/nrnn100-err\", nrnn100[\"test_err\"])"
   ]
  },
  {
   "cell_type": "code",
   "execution_count": 85,
   "metadata": {
    "collapsed": false
   },
   "outputs": [
    {
     "data": {
      "text/plain": [
       "<matplotlib.legend.Legend at 0x7fc4a88fc898>"
      ]
     },
     "execution_count": 85,
     "metadata": {},
     "output_type": "execute_result"
    },
    {
     "data": {
      "image/png": "[encoded data removed]",
      "text/plain": [
       "<matplotlib.figure.Figure at 0x7fc4ad39c668>"
      ]
     },
     "metadata": {},
     "output_type": "display_data"
    }
   ],
   "source": [
    "plt.figure(figsize=(7, 5))\n",
    "plt.title(\"Test loss MSE seq len = 100\")\n",
    "plt.xlabel(\"epoch\")\n",
    "plt.plot(srnn100[\"test_err\"], label=\"sRNN\")\n",
    "plt.plot(irnn100[\"test_err\"], label=\"IRNN\")\n",
    "plt.plot(nprnn100[\"test_err\"], label=\"npRNN\")\n",
    "plt.legend()"
   ]
  },
  {
   "cell_type": "code",
   "execution_count": null,
   "metadata": {
    "collapsed": true
   },
   "outputs": [],
   "source": []
  },
  {
   "cell_type": "code",
   "execution_count": null,
   "metadata": {
    "collapsed": true
   },
   "outputs": [],
   "source": []
  },
  {
   "cell_type": "markdown",
   "metadata": {},
   "source": [
    "### Sequence length is 150"
   ]
  },
  {
   "cell_type": "code",
   "execution_count": null,
   "metadata": {
    "collapsed": false,
    "scrolled": true
   },
   "outputs": [],
   "source": [
    "net, inp, tar = create_network(150, 'srnn', 2, N_HIDDEN, 1, lasagne.nonlinearities.linear)\n",
    "srnn150 = train(net, inp, tar, train_data[150][\"x\"], train_data[150][\"y\"],\n",
    "                      test_data[150][\"x\"], test_data[150][\"y\"], \"add-data/srnn150\", num_epochs=10)\n",
    "np.save(\"add-data/srnn150-err\", srnn150[\"test_err\"])"
   ]
  },
  {
   "cell_type": "code",
   "execution_count": null,
   "metadata": {
    "collapsed": false,
    "scrolled": true
   },
   "outputs": [],
   "source": [
    "net, inp, tar = create_network(150, 'irnn', 2, N_HIDDEN, 1, lasagne.nonlinearities.linear)\n",
    "irnn150 = train(net, inp, tar, train_data[150][\"x\"], train_data[150][\"y\"],\n",
    "                      test_data[150][\"x\"], test_data[150][\"y\"], \"add-data/irnn150\", num_epochs=10)\n",
    "np.save(\"add-data/irnn150-err\", irnn150[\"test_err\"])"
   ]
  },
  {
   "cell_type": "code",
   "execution_count": null,
   "metadata": {
    "collapsed": false,
    "scrolled": true
   },
   "outputs": [],
   "source": [
    "net, inp, tar = create_network(150, 'nrnn', 2, N_HIDDEN, 1, lasagne.nonlinearities.linear)\n",
    "nrnn150 = train(net, inp, tar, train_data[150][\"x\"], train_data[150][\"y\"],\n",
    "                      test_data[150][\"x\"], test_data[150][\"y\"], \"add-data/nrnn150\", num_epochs=10)\n",
    "np.save(\"add-data/nrnn150-err\", nrnn150[\"test_err\"])"
   ]
  },
  {
   "cell_type": "code",
   "execution_count": null,
   "metadata": {
    "collapsed": true
   },
   "outputs": [],
   "source": [
    "net, inp, tar = create_network(150, 'nprnn', 2, N_HIDDEN, 1, lasagne.nonlinearities.linear)\n",
    "nprnn150 = train(net, inp, tar, train_data[150][\"x\"], train_data[150][\"y\"],\n",
    "                      test_data[150][\"x\"], test_data[150][\"y\"], \"add-data/nprnn150\", num_epochs=10)\n",
    "np.save(\"add-data/nprnn150-err\", nprnn150[\"test_err\"])"
   ]
  },
  {
   "cell_type": "code",
   "execution_count": null,
   "metadata": {
    "collapsed": true
   },
   "outputs": [],
   "source": []
  },
  {
   "cell_type": "code",
   "execution_count": 47,
   "metadata": {
    "collapsed": false,
    "scrolled": false
   },
   "outputs": [
    {
     "data": {
      "text/plain": [
       "<matplotlib.legend.Legend at 0x7fa01891ef60>"
      ]
     },
     "execution_count": 47,
     "metadata": {},
     "output_type": "execute_result"
    },
    {
     "data": {
      "image/png": "[encoded data removed]",
      "text/plain": [
       "<matplotlib.figure.Figure at 0x7fa0189c5ef0>"
      ]
     },
     "metadata": {},
     "output_type": "display_data"
    }
   ],
   "source": [
    "plt.figure(figsize=(7, 5))\n",
    "plt.title(\"Test loss MSE seq len = 150\")\n",
    "plt.xlabel(\"epoch\")\n",
    "#plt.plot(srnn150[\"test_err\"], label=\"sRNN\")\n",
    "plt.plot(irnn150[\"test_err\"], label=\"IRNN\")\n",
    "plt.plot(nrnn150[\"test_err\"], label=\"nRNN\")\n",
    "plt.plot(nprnn150[\"test_err\"], label=\"npRNN\")\n",
    "plt.legend()"
   ]
  },
  {
   "cell_type": "code",
   "execution_count": null,
   "metadata": {
    "collapsed": true
   },
   "outputs": [],
   "source": []
  },
  {
   "cell_type": "code",
   "execution_count": null,
   "metadata": {
    "collapsed": true
   },
   "outputs": [],
   "source": []
  },
  {
   "cell_type": "code",
   "execution_count": null,
   "metadata": {
    "collapsed": true
   },
   "outputs": [],
   "source": []
  },
  {
   "cell_type": "markdown",
   "metadata": {},
   "source": [
    "### Sequence length is 200"
   ]
  },
  {
   "cell_type": "code",
   "execution_count": 11,
   "metadata": {
    "collapsed": false
   },
   "outputs": [
    {
     "ename": "NameError",
     "evalue": "name 'init_posdef_w' is not defined",
     "output_type": "error",
     "traceback": [
      "\u001b[0;31m---------------------------------------------------------------------------\u001b[0m",
      "\u001b[0;31mNameError\u001b[0m                                 Traceback (most recent call last)",
      "\u001b[0;32m<ipython-input-11-38364211fb4f>\u001b[0m in \u001b[0;36m<module>\u001b[0;34m()\u001b[0m\n\u001b[0;32m----> 1\u001b[0;31m \u001b[0minit_posdef_w\u001b[0m\u001b[0;34m(\u001b[0m\u001b[0;36m100\u001b[0m\u001b[0;34m)\u001b[0m\u001b[0;34m\u001b[0m\u001b[0m\n\u001b[0m",
      "\u001b[0;31mNameError\u001b[0m: name 'init_posdef_w' is not defined"
     ]
    }
   ],
   "source": [
    "init_posdef_w(100)"
   ]
  },
  {
   "cell_type": "code",
   "execution_count": 14,
   "metadata": {
    "collapsed": false
   },
   "outputs": [
    {
     "name": "stdout",
     "output_type": "stream",
     "text": [
      "Building network ...\n",
      "The network has 10501 params\n"
     ]
    },
    {
     "data": {
      "text/plain": [
       "array([[ 1.,  0.,  0., ...,  0.,  0.,  0.],\n",
       "       [ 0.,  1.,  0., ...,  0.,  0.,  0.],\n",
       "       [ 0.,  0.,  1., ...,  0.,  0.,  0.],\n",
       "       ..., \n",
       "       [ 0.,  0.,  0., ...,  1.,  0.,  0.],\n",
       "       [ 0.,  0.,  0., ...,  0.,  1.,  0.],\n",
       "       [ 0.,  0.,  0., ...,  0.,  0.,  1.]])"
      ]
     },
     "execution_count": 14,
     "metadata": {},
     "output_type": "execute_result"
    }
   ],
   "source": [
    "net, inp, tar = create_network(200, NDIM, N_HIDDEN, 'nprnn')\n",
    "lasagne.layers.get_all_param_values(net)[3]"
   ]
  },
  {
   "cell_type": "code",
   "execution_count": 15,
   "metadata": {
    "collapsed": false
   },
   "outputs": [
    {
     "data": {
      "text/plain": [
       "sys.version_info(major=2, minor=7, micro=12, releaselevel='final', serial=0)"
      ]
     },
     "execution_count": 15,
     "metadata": {},
     "output_type": "execute_result"
    }
   ],
   "source": [
    "import sys\n",
    "sys.version_info"
   ]
  },
  {
   "cell_type": "code",
   "execution_count": 47,
   "metadata": {
    "collapsed": false,
    "scrolled": true
   },
   "outputs": [
    {
     "name": "stdout",
     "output_type": "stream",
     "text": [
      "Building network ...\n",
      "The network has 10501 params\n",
      "Computing updates ...\n",
      "Compiling functions ...\n",
      "Proc 25% Proc 50% Proc 75%\n",
      "Epoch 0 test loss = 0.1716 \t train = 0.1914 \t norm = 0.2907 \t time = 239.90s\tProc 25% Proc 50% Proc 75%\n",
      "Epoch 1 test loss = 0.1701 \t train = 0.1669 \t norm = 0.1872 \t time = 253.26s\tProc 25% Proc 50% Proc 75%\n",
      "Epoch 2 test loss = 0.1698 \t train = 0.1663 \t norm = 0.8929 \t time = 252.80s\tProc 25% Proc 50% Proc 75%\n",
      "Epoch 3 test loss = 0.1697 \t train = 0.1662 \t norm = 0.3048 \t time = 252.93s\tProc 25% Proc 50% Proc 75%\n",
      "Epoch 4 test loss = 0.1697 \t train = 0.1661 \t norm = 0.2101 \t time = 252.10s\tProc 25% Proc 50% Proc 75%\n",
      "Epoch 5 test loss = 0.1697 \t train = 0.1661 \t norm = 0.1482 \t time = 251.86s\tProc 25% Proc 50% Proc 75%\n",
      "Epoch 6 test loss = 0.1696 \t train = 0.1661 \t norm = 0.3822 \t time = 251.89s\tProc 25% Proc 50% Proc 75%\n",
      "Epoch 7 test loss = 0.1697 \t train = 0.1661 \t norm = 0.0904 \t time = 252.01s\tProc 25% Proc 50% Proc 75%\n",
      "Epoch 8 test loss = 0.1696 \t train = 0.1661 \t norm = 0.5230 \t time = 251.88s\tProc 25% Proc 50% Proc 75%\n",
      "Epoch 9 test loss = 0.1696 \t train = 0.1661 \t norm = 0.0370 \t time = 251.79s\tProc 25% Proc 50% Proc 75%\n",
      "Epoch 10 test loss = 0.1696 \t train = 0.1660 \t norm = 0.1804 \t time = 251.74s\tProc 25% Proc 50% Proc 75%\n",
      "Epoch 11 test loss = 0.1696 \t train = 0.1660 \t norm = 0.1722 \t time = 251.71s\tProc 25% Proc 50% Proc 75%\n",
      "Epoch 12 test loss = 0.1695 \t train = 0.1660 \t norm = 0.4353 \t time = 251.62s\tProc 25% Proc 50% Proc 75%\n",
      "Epoch 13 test loss = 0.1698 \t train = 0.1660 \t norm = 0.5421 \t time = 251.80s\tProc 25% Proc 50% Proc 75%\n",
      "Epoch 14 test loss = 0.1695 \t train = 0.1660 \t norm = 0.3038 \t time = 251.97s\tProc 25% Proc 50% Proc 75%\n",
      "Epoch 15 test loss = 0.1695 \t train = 0.1660 \t norm = 0.3857 \t time = 250.83s\tProc 25% Proc 50% Proc 75%\n",
      "Epoch 16 test loss = 0.1695 \t train = 0.1659 \t norm = 0.1167 \t time = 250.96s\tProc 25% Proc 50% Proc 75%\n",
      "Epoch 17 test loss = 0.1695 \t train = 0.1659 \t norm = 0.3147 \t time = 250.96s\tProc 25% Proc 50% Proc 75%\n",
      "Epoch 18 test loss = 0.1695 \t train = 0.1659 \t norm = 0.0980 \t time = 252.07s\tProc 25% Proc 50% Proc 75%\n",
      "Epoch 19 test loss = 0.1694 \t train = 0.1659 \t norm = 0.1420 \t time = 251.07s\tProc 25% Proc 50% Proc 75%\n",
      "Epoch 20 test loss = 0.1695 \t train = 0.1659 \t norm = 0.0858 \t time = 251.00s\tProc 25% Proc 50% Proc 75%\n",
      "Epoch 21 test loss = 0.1695 \t train = 0.1659 \t norm = 0.1349 \t time = 251.21s\tProc 25% Proc 50% Proc 75%\n",
      "Epoch 22 test loss = 0.1694 \t train = 0.1659 \t norm = 0.2509 \t time = 251.06s\tProc 25% Proc 50% Proc 75%\n",
      "Epoch 23 test loss = 0.1694 \t train = 0.1658 \t norm = 0.7206 \t time = 251.02s\tProc 25% Proc 50% Proc 75%\n",
      "Epoch 24 test loss = 0.1694 \t train = 0.1658 \t norm = 0.1199 \t time = 251.17s\tProc 25% Proc 50% Proc 75%\n",
      "Epoch 25 test loss = 0.1695 \t train = 0.1658 \t norm = 0.1393 \t time = 251.05s\tProc 25% Proc 50% Proc 75%\n",
      "Epoch 26 test loss = 0.1693 \t train = 0.1658 \t norm = 0.2539 \t time = 251.12s\tProc 25% Proc 50% Proc 75%\n",
      "Epoch 27 test loss = 0.1693 \t train = 0.1658 \t norm = 0.0789 \t time = 251.03s\tProc 25% Proc 50% Proc 75%\n",
      "Epoch 28 test loss = 0.1694 \t train = 0.1658 \t norm = 0.4036 \t time = 251.40s\tProc 25% Proc 50% Proc 75%\n",
      "Epoch 29 test loss = 0.1694 \t train = 0.1657 \t norm = 0.0703 \t time = 251.53s\tProc 25% Proc 50% Proc 75%\n",
      "Epoch 30 test loss = 0.1693 \t train = 0.1657 \t norm = 0.7675 \t time = 251.07s\tProc 25% Proc 50% Proc 75%\n",
      "Epoch 31 test loss = 0.1693 \t train = 0.1657 \t norm = 0.6727 \t time = 251.46s\tProc 25% Proc 50% Proc 75%\n",
      "Epoch 32 test loss = 0.1693 \t train = 0.1657 \t norm = 0.7192 \t time = 252.21s\tProc 25% Proc 50% Proc 75%\n",
      "Epoch 33 test loss = 0.1693 \t train = 0.1657 \t norm = 0.3002 \t time = 252.31s\tProc 25% Proc 50% Proc 75%\n",
      "Epoch 34 test loss = 0.1693 \t train = 0.1657 \t norm = 0.4559 \t time = 252.33s\tProc 25% Proc 50% Proc 75%\n",
      "Epoch 35 test loss = 0.1692 \t train = 0.1657 \t norm = 0.3827 \t time = 252.32s\tProc 25% Proc 50% Proc 75%\n",
      "Epoch 36 test loss = 0.1692 \t train = 0.1657 \t norm = 0.5942 \t time = 252.59s\tProc 25% Proc 50% Proc 75%\n",
      "Epoch 37 test loss = 0.1693 \t train = 0.1656 \t norm = 0.3752 \t time = 252.25s\tProc 25% Proc 50% Proc 75%\n",
      "Epoch 38 test loss = 0.1692 \t train = 0.1656 \t norm = 0.6060 \t time = 252.28s\tProc 25% Proc 50% Proc 75%\n",
      "Epoch 39 test loss = 0.1692 \t train = 0.1656 \t norm = 0.6375 \t time = 251.63s\tProc 25% Proc 50% Proc 75%\n",
      "Epoch 40 test loss = 0.1691 \t train = 0.1656 \t norm = 0.4532 \t time = 248.57s\tProc 25% Proc 50% Proc 75%\n",
      "Epoch 41 test loss = 0.1691 \t train = 0.1656 \t norm = 0.3290 \t time = 247.56s\tProc 25% Proc 50% Proc 75%\n",
      "Epoch 42 test loss = 0.1691 \t train = 0.1655 \t norm = 0.2773 \t time = 247.37s\tProc 25% Proc 50% Proc 75%\n",
      "Epoch 43 test loss = 0.1691 \t train = 0.1655 \t norm = 0.0518 \t time = 247.51s\tProc 25% Proc 50% Proc 75%\n",
      "Epoch 44 test loss = 0.1691 \t train = 0.1655 \t norm = 0.6234 \t time = 247.04s\tProc 25% Proc 50% Proc 75%\n",
      "Epoch 45 test loss = 0.1691 \t train = 0.1655 \t norm = 0.1504 \t time = 247.15s\tProc 25% Proc 50% Proc 75%\n",
      "Epoch 46 test loss = 0.1691 \t train = 0.1655 \t norm = 0.4382 \t time = 247.02s\tProc 25% Proc 50% Proc 75%\n",
      "Epoch 47 test loss = 0.1690 \t train = 0.1655 \t norm = 0.1161 \t time = 247.14s\tProc 25% Proc 50% Proc 75%\n",
      "Epoch 48 test loss = 0.1690 \t train = 0.1655 \t norm = 0.5206 \t time = 247.49s\tProc 25% Proc 50% Proc 75%\n",
      "Epoch 49 test loss = 0.1690 \t train = 0.1654 \t norm = 1.0354 \t time = 247.34s\tProc 25% Proc 50% Proc 75%\n",
      "Epoch 50 test loss = 0.1690 \t train = 0.1654 \t norm = 0.1405 \t time = 247.54s\tProc 25% Proc 50% Proc 75%\n",
      "Epoch 51 test loss = 0.1690 \t train = 0.1654 \t norm = 0.1101 \t time = 247.01s\tProc 25% Proc 50% Proc 75%\n",
      "Epoch 52 test loss = 0.1689 \t train = 0.1654 \t norm = 0.0455 \t time = 247.03s\tProc 25% Proc 50% Proc 75%\n",
      "Epoch 53 test loss = 0.1689 \t train = 0.1654 \t norm = 0.5206 \t time = 247.04s\tProc 25% Proc 50% Proc 75%\n",
      "Epoch 54 test loss = 0.1689 \t train = 0.1654 \t norm = 0.4066 \t time = 247.01s\tProc 25% Proc 50% Proc 75%\n",
      "Epoch 55 test loss = 0.1689 \t train = 0.1653 \t norm = 0.5558 \t time = 247.00s\tProc 25% Proc 50% Proc 75%\n",
      "Epoch 56 test loss = 0.1689 \t train = 0.1653 \t norm = 0.7235 \t time = 247.02s\tProc 25% Proc 50% Proc 75%\n",
      "Epoch 57 test loss = 0.1689 \t train = 0.1653 \t norm = 0.9460 \t time = 247.43s\tProc 25% Proc 50% Proc 75%\n",
      "Epoch 58 test loss = 0.1689 \t train = 0.1653 \t norm = 0.1334 \t time = 247.03s\tProc 25% Proc 50% Proc 75%\n",
      "Epoch 59 test loss = 0.1689 \t train = 0.1653 \t norm = 0.1470 \t time = 247.03s\tProc 25% Proc 50% Proc 75%\n",
      "Epoch 60 test loss = 0.1688 \t train = 0.1652 \t norm = 1.0433 \t time = 247.02s\tProc 25% Proc 50% Proc 75%\n",
      "Epoch 61 test loss = 0.1688 \t train = 0.1652 \t norm = 0.9081 \t time = 247.03s\tProc 25% Proc 50% Proc 75%\n",
      "Epoch 62 test loss = 0.1688 \t train = 0.1652 \t norm = 0.1564 \t time = 247.03s\tProc 25% Proc 50% Proc 75%\n",
      "Epoch 63 test loss = 0.1689 \t train = 0.1652 \t norm = 0.5768 \t time = 247.23s\tProc 25% Proc 50% Proc 75%\n",
      "Epoch 64 test loss = 0.1687 \t train = 0.1651 \t norm = 0.4427 \t time = 247.28s\tProc 25% Proc 50% Proc 75%\n",
      "Epoch 65 test loss = 0.1687 \t train = 0.1651 \t norm = 0.7434 \t time = 247.24s\tProc 25% Proc 50% Proc 75%\n",
      "Epoch 66 test loss = 0.1687 \t train = 0.1651 \t norm = 0.2405 \t time = 247.04s\tProc 25% Proc 50% Proc 75%\n",
      "Epoch 67 test loss = 0.1686 \t train = 0.1651 \t norm = 0.6598 \t time = 247.07s\tProc 25% Proc 50% Proc 75%\n",
      "Epoch 68 test loss = 0.1686 \t train = 0.1650 \t norm = 0.4806 \t time = 247.02s\tProc 25% Proc 50% Proc 75%\n",
      "Epoch 69 test loss = 0.1686 \t train = 0.1650 \t norm = 0.6745 \t time = 247.15s\tProc 25% Proc 50% Proc 75%\n",
      "Epoch 70 test loss = 0.1685 \t train = 0.1650 \t norm = 0.5953 \t time = 247.03s\tProc 25% Proc 50% Proc 75%\n",
      "Epoch 71 test loss = 0.1685 \t train = 0.1650 \t norm = 0.5159 \t time = 247.01s\tProc 25% Proc 50% Proc 75%\n",
      "Epoch 72 test loss = 0.1685 \t train = 0.1650 \t norm = 0.1997 \t time = 247.40s\tProc 25% Proc 50% Proc 75%\n",
      "Epoch 73 test loss = 0.1685 \t train = 0.1649 \t norm = 0.7778 \t time = 247.02s\tProc 25% Proc 50% Proc 75%\n",
      "Epoch 74 test loss = 0.1684 \t train = 0.1649 \t norm = 0.0684 \t time = 247.09s\tProc 25% Proc 50% Proc 75%\n",
      "Epoch 75 test loss = 0.1683 \t train = 0.1648 \t norm = 0.3993 \t time = 247.06s\tProc 25% Proc 50% Proc 75%\n",
      "Epoch 76 test loss = 0.1683 \t train = 0.1648 \t norm = 0.1704 \t time = 247.03s\tProc 25% Proc 50% Proc 75%\n",
      "Epoch 77 test loss = 0.1683 \t train = 0.1648 \t norm = 0.5877 \t time = 247.04s\tProc 25% Proc 50% Proc 75%\n",
      "Epoch 78 test loss = 0.1686 \t train = 0.1647 \t norm = 0.7530 \t time = 247.01s\tProc 25% Proc 50% Proc 75%\n",
      "Epoch 79 test loss = 0.1682 \t train = 0.1647 \t norm = 0.3107 \t time = 247.44s\t"
     ]
    }
   ],
   "source": [
    "net, inp, tar = create_network(200, NDIM, N_HIDDEN, 'srnn')\n",
    "srnn200 = train(net, inp, tar, train_data[200][\"x\"], train_data[200][\"y\"],\n",
    "                      test_data[200][\"x\"], test_data[200][\"y\"], \"data/srnn200\", num_epochs=50)\n",
    "np.save(\"data/srnn200-err\", srnn200[\"test_err\"])"
   ]
  },
  {
   "cell_type": "code",
   "execution_count": null,
   "metadata": {
    "collapsed": true
   },
   "outputs": [],
   "source": []
  },
  {
   "cell_type": "code",
   "execution_count": null,
   "metadata": {
    "collapsed": false,
    "scrolled": true
   },
   "outputs": [
    {
     "name": "stdout",
     "output_type": "stream",
     "text": [
      "Building network ...\n",
      "The network has 10501 params\n",
      "Computing updates ...\n",
      "Compiling functions ...\n"
     ]
    }
   ],
   "source": [
    "net, inp, tar = create_network(200, NDIM, N_HIDDEN, 'irnn')\n",
    "irnn200 = train(net, inp, tar, train_data[200][\"x\"], train_data[200][\"y\"],\n",
    "                      test_data[200][\"x\"], test_data[200][\"y\"], \"data/irnn200\", num_epochs=50)\n",
    "np.save(\"data/irnn200-err\", irnn200[\"test_err\"])"
   ]
  },
  {
   "cell_type": "code",
   "execution_count": null,
   "metadata": {
    "collapsed": true
   },
   "outputs": [],
   "source": [
    "net, inp, tar = create_network(200, NDIM, N_HIDDEN, 'nrnn')\n",
    "nrnn200 = train(net, inp, tar, train_data[200][\"x\"], train_data[200][\"y\"],\n",
    "                      test_data[200][\"x\"], test_data[200][\"y\"], \"data/nrnn200\", num_epochs=50)\n",
    "np.save(\"data/nrnn200-err\", nrnn200[\"test_err\"])"
   ]
  },
  {
   "cell_type": "code",
   "execution_count": null,
   "metadata": {
    "collapsed": true
   },
   "outputs": [],
   "source": [
    "net, inp, tar = create_network(200, NDIM, N_HIDDEN, 'nprnn')\n",
    "nprnn200 = train(net, inp, tar, train_data[200][\"x\"], train_data[200][\"y\"],\n",
    "                      test_data[200][\"x\"], test_data[200][\"y\"], \"data/nprnn200\", num_epochs=50)\n",
    "np.save(\"data/nprnn200-err\", nprnn200[\"test_err\"])"
   ]
  },
  {
   "cell_type": "code",
   "execution_count": null,
   "metadata": {
    "collapsed": true
   },
   "outputs": [],
   "source": []
  },
  {
   "cell_type": "code",
   "execution_count": null,
   "metadata": {
    "collapsed": true
   },
   "outputs": [],
   "source": []
  },
  {
   "cell_type": "code",
   "execution_count": 52,
   "metadata": {
    "collapsed": false
   },
   "outputs": [
    {
     "data": {
      "text/plain": [
       "<matplotlib.legend.Legend at 0x7f16ab7b1fd0>"
      ]
     },
     "execution_count": 52,
     "metadata": {},
     "output_type": "execute_result"
    },
    {
     "data": {
      "image/png": "[encoded data removed]",
      "text/plain": [
       "<matplotlib.figure.Figure at 0x7f16ab807ba8>"
      ]
     },
     "metadata": {},
     "output_type": "display_data"
    }
   ],
   "source": [
    "plt.figure(figsize=(7, 5))\n",
    "plt.title(\"Test loss MSE seq len = 200\")\n",
    "plt.xlabel(\"epoch\")\n",
    "plt.plot(temp_srnn, label=\"sRNN\")\n",
    "plt.plot(irnn200[\"test_err\"], label=\"IRNN\")\n",
    "plt.plot(nprnn200[\"test_err\"], label=\"npRNN\")\n",
    "plt.legend()"
   ]
  },
  {
   "cell_type": "code",
   "execution_count": null,
   "metadata": {
    "collapsed": true
   },
   "outputs": [],
   "source": []
  },
  {
   "cell_type": "markdown",
   "metadata": {
    "collapsed": true
   },
   "source": [
    "## Sequence length is 300"
   ]
  },
  {
   "cell_type": "code",
   "execution_count": null,
   "metadata": {
    "collapsed": false
   },
   "outputs": [
    {
     "name": "stdout",
     "output_type": "stream",
     "text": [
      "Building network ...\n",
      "The network has 10501 params\n",
      "Computing updates ...\n",
      "Compiling functions ...\n"
     ]
    }
   ],
   "source": [
    "net, inp, tar = create_network(300, NDIM, N_HIDDEN, 'irnn')\n",
    "irnn300 = train(net, inp, tar, train_data[300][\"x\"], train_data[300][\"y\"],\n",
    "                      test_data[300][\"x\"], test_data[300][\"y\"], \"data/irnn300\", num_epochs=10)\n",
    "np.save(\"data/irnn300-err\", irnn300[\"test_err\"])"
   ]
  },
  {
   "cell_type": "code",
   "execution_count": null,
   "metadata": {
    "collapsed": true
   },
   "outputs": [],
   "source": [
    "net, inp, tar = create_network(300, NDIM, N_HIDDEN, 'nrnn')\n",
    "nrnn300 = train(net, inp, tar, train_data[300][\"x\"], train_data[300][\"y\"],\n",
    "                      test_data[300][\"x\"], test_data[300][\"y\"], \"data/nrnn300\", num_epochs=10)\n",
    "np.save(\"data/nrnn300-err\", nrnn300[\"test_err\"])"
   ]
  },
  {
   "cell_type": "code",
   "execution_count": null,
   "metadata": {
    "collapsed": true
   },
   "outputs": [],
   "source": [
    "net, inp, tar = create_network(300, NDIM, N_HIDDEN, 'nprnn')\n",
    "nprnn300 = train(net, inp, tar, train_data[300][\"x\"], train_data[300][\"y\"],\n",
    "                      test_data[300][\"x\"], test_data[300][\"y\"], \"data/nprnn300\", num_epochs=10)\n",
    "np.save(\"data/nprnn300-err\", nprnn300[\"test_err\"])"
   ]
  },
  {
   "cell_type": "code",
   "execution_count": null,
   "metadata": {
    "collapsed": true
   },
   "outputs": [],
   "source": []
  },
  {
   "cell_type": "code",
   "execution_count": null,
   "metadata": {
    "collapsed": true
   },
   "outputs": [],
   "source": []
  },
  {
   "cell_type": "code",
   "execution_count": null,
   "metadata": {
    "collapsed": true
   },
   "outputs": [],
   "source": []
  },
  {
   "cell_type": "markdown",
   "metadata": {},
   "source": [
    "## Seq len 400"
   ]
  },
  {
   "cell_type": "code",
   "execution_count": 24,
   "metadata": {
    "collapsed": false
   },
   "outputs": [
    {
     "name": "stdout",
     "output_type": "stream",
     "text": [
      "Building network ...\n",
      "The network has 10501 params\n",
      "Computing updates ...\n",
      "Compiling functions ...\n",
      "Epoch 0 test loss = 0.1692 \t train = 0.1924 \t norm = 2.5057 \t time = 496.64s\n",
      "Epoch 1 test loss = 0.1719 \t train = 0.1673 \t norm = 0.1283 \t time = 498.29s\n",
      "Epoch 2 test loss = 0.1686 \t train = 0.1671 \t norm = 2.2412 \t time = 497.53s\n",
      "Epoch 3 test loss = 0.1695 \t train = 0.1670 \t norm = 3.1827 \t time = 496.47s\n",
      "Epoch 4 test loss = 0.1682 \t train = 0.1667 \t norm = 0.6971 \t time = 497.22s\n",
      "Epoch 5 test loss = 0.1678 \t train = 0.1667 \t norm = 1.0240 \t time = 499.63s\n",
      "Epoch 6 test loss = 0.1677 \t train = 0.1666 \t norm = 1.9427 \t time = 497.92s\n",
      "Epoch 7 test loss = 0.1689 \t train = 0.1666 \t norm = 0.0902 \t time = 497.48s\n",
      "Epoch 8 test loss = 0.1677 \t train = 0.1665 \t norm = 0.5591 \t time = 500.98s\n",
      "Epoch 9 test loss = 0.1678 \t train = 0.1665 \t norm = 1.8536 \t time = 497.05s\n"
     ]
    }
   ],
   "source": [
    "net, inp, tar = create_network(400, NDIM, N_HIDDEN, 'irnn')\n",
    "irnn400 = train(net, inp, tar, train_data[400][\"x\"], train_data[400][\"y\"],\n",
    "                      test_data[400][\"x\"], test_data[400][\"y\"], \"data/irnn400\", num_epochs=10)\n",
    "np.save(\"data/irnn400-err\", irnn400[\"test_err\"])"
   ]
  },
  {
   "cell_type": "code",
   "execution_count": null,
   "metadata": {
    "collapsed": false
   },
   "outputs": [
    {
     "name": "stdout",
     "output_type": "stream",
     "text": [
      "Building network ...\n",
      "The network has 10501 params\n",
      "Computing updates ...\n",
      "Compiling functions ...\n",
      "Epoch 0 test loss = 0.1678 \t train = 0.1769 \t norm = 0.5829 \t time = 506.20s\n",
      "Epoch 1 test loss = 0.1674 \t train = 0.1666 \t norm = 2.4825 \t time = 509.79s\n",
      "Epoch 2 test loss = 0.1686 \t train = 0.1663 \t norm = 1.1828 \t time = 502.77s\n",
      "Epoch 3 test loss = 0.1683 \t train = 0.1663 \t norm = 0.2922 \t time = 505.48s\n",
      "Epoch 4 test loss = 0.1674 \t train = 0.1663 \t norm = 0.3555 \t time = 502.42s\n",
      "Epoch 5 test loss = 0.1675 \t train = 0.1662 \t norm = 0.5281 \t time = 504.33s\n",
      "Epoch 6 test loss = 0.1675 \t train = 0.1662 \t norm = 1.1894 \t time = 504.73s\n",
      "Epoch 7 test loss = 0.1678 \t train = 0.1661 \t norm = 2.0760 \t time = 505.61s\n",
      "Epoch 8 test loss = 0.1673 \t train = 0.1661 \t norm = 0.1917 \t time = 503.57s\n",
      "Epoch 9 test loss = 0.1683 \t train = 0.1661 \t norm = 0.5542 \t time = 504.69s\n"
     ]
    }
   ],
   "source": [
    "net, inp, tar = create_network(400, NDIM, N_HIDDEN, 'nrnn')\n",
    "nrnn400 = train(net, inp, tar, train_data[400][\"x\"], train_data[400][\"y\"],\n",
    "                      test_data[400][\"x\"], test_data[400][\"y\"], \"data/nrnn400\", num_epochs=10)\n",
    "np.save(\"data/nrnn400-err\", nrnn400[\"test_err\"])"
   ]
  },
  {
   "cell_type": "code",
   "execution_count": null,
   "metadata": {
    "collapsed": false
   },
   "outputs": [
    {
     "name": "stdout",
     "output_type": "stream",
     "text": [
      "Building network ...\n",
      "The network has 10501 params\n",
      "Computing updates ...\n",
      "Compiling functions ...\n"
     ]
    }
   ],
   "source": [
    "net, inp, tar = create_network(400, NDIM, N_HIDDEN, 'nprnn')\n",
    "nprnn400 = train(net, inp, tar, train_data[400][\"x\"], train_data[400][\"y\"],\n",
    "                      test_data[400][\"x\"], test_data[400][\"y\"], \"data/nprnn400\", num_epochs=10)\n",
    "np.save(\"data/nprnn400-err\", nprnn300[\"test_err\"])"
   ]
  },
  {
   "cell_type": "code",
   "execution_count": null,
   "metadata": {
    "collapsed": true
   },
   "outputs": [],
   "source": []
  },
  {
   "cell_type": "code",
   "execution_count": null,
   "metadata": {
    "collapsed": true
   },
   "outputs": [],
   "source": []
  },
  {
   "cell_type": "code",
   "execution_count": null,
   "metadata": {
    "collapsed": true
   },
   "outputs": [],
   "source": []
  },
  {
   "cell_type": "code",
   "execution_count": null,
   "metadata": {
    "collapsed": true
   },
   "outputs": [],
   "source": []
  },
  {
   "cell_type": "code",
   "execution_count": null,
   "metadata": {
    "collapsed": true
   },
   "outputs": [],
   "source": []
  },
  {
   "cell_type": "code",
   "execution_count": 141,
   "metadata": {
    "collapsed": false
   },
   "outputs": [],
   "source": [
    "def train_adam(network, inp, target_values, Xtrain, ytrain, Xtest, ytest, filename, num_epochs=NUM_EPOCHS):\n",
    "    train_err = np.zeros(num_epochs)\n",
    "    test_err = np.zeros(num_epochs)\n",
    "    \n",
    "    network_output = lasagne.layers.get_output(network)\n",
    "\n",
    "    # Cost is MSE\n",
    "    cost = T.mean((network_output - target_values)**2)\n",
    "    all_params = lasagne.layers.get_all_params(network)\n",
    "    print(\"Computing updates ...\")\n",
    "    all_grads = T.grad(cost, all_params)\n",
    "    scaled_grads = lasagne.updates.total_norm_constraint(all_grads, GRAD_CLIP)\n",
    "    updates = lasagne.updates.adam(scaled_grads, all_params, LEARNING_RATE)\n",
    "    \n",
    "    print(\"Compiling functions ...\")\n",
    "    train_fn = theano.function([inp, target_values], cost, updates=updates, allow_input_downcast=True)\n",
    "    compute_cost = theano.function([inp, target_values], cost, allow_input_downcast=True)\n",
    "    \n",
    "    num_batches = TRAIN_SIZE // BATCH_SIZE\n",
    "    train_idxs = np.arange(TRAIN_SIZE)\n",
    "    for epoch in range(num_epochs):\n",
    "        start_time = time.time()\n",
    "        np.random.shuffle(train_idxs)\n",
    "        for batch in range(num_batches):\n",
    "            idx = train_idxs[BATCH_SIZE * batch : BATCH_SIZE * (batch + 1)]\n",
    "            train_err[epoch] += train_fn(Xtrain[idx, :, :], ytrain[idx, np.newaxis])\n",
    "            \n",
    "            if batch == num_batches // 4:\n",
    "                print(\"Proc 25%\", end=\"\\t\")\n",
    "            if batch == num_batches // 2:\n",
    "                print(\"Proc 50%\", end=\"\\t\")\n",
    "            if batch == num_batches // 4 * 3:\n",
    "                print(\"Proc 75%\")\n",
    "                \n",
    "        train_err[epoch] /= num_batches\n",
    "        test_err[epoch] = compute_cost(Xtest, ytest[:, np.newaxis])\n",
    "        print(\"Epoch {} test loss = {:.4f} \\t train = {:.4f} \\t time = {:.2f}s\".format(\n",
    "                epoch, test_err[epoch], train_err[epoch], time.time() - start_time), end=\"\\t\")\n",
    "    np.save(file=filename, arr=lasagne.layers.get_all_param_values(network))\n",
    "    return pack(network, inp, target_values, train_err, test_err, train_fn, compute_cost)"
   ]
  },
  {
   "cell_type": "code",
   "execution_count": null,
   "metadata": {
    "collapsed": true
   },
   "outputs": [],
   "source": []
  }
 ],
 "metadata": {
  "anaconda-cloud": {},
  "kernelspec": {
   "display_name": "Python [conda root]",
   "language": "python",
   "name": "conda-root-py"
  },
  "language_info": {
   "codemirror_mode": {
    "name": "ipython",
    "version": 2
   },
   "file_extension": ".py",
   "mimetype": "text/x-python",
   "name": "python",
   "nbconvert_exporter": "python",
   "pygments_lexer": "ipython2",
   "version": "2.7.12"
  }
 },
 "nbformat": 4,
 "nbformat_minor": 0
}
